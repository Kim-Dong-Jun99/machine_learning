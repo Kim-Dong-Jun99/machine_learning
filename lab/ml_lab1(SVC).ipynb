{
 "nbformat": 4,
 "nbformat_minor": 0,
 "metadata": {
  "colab": {
   "provenance": [],
   "collapsed_sections": []
  },
  "kernelspec": {
   "name": "python3",
   "display_name": "Python 3"
  },
  "language_info": {
   "name": "python"
  }
 },
 "cells": [
  {
   "cell_type": "code",
   "execution_count": 1,
   "metadata": {
    "colab": {
     "base_uri": "https://localhost:8080/"
    },
    "id": "ks_2HLi5YqvE",
    "outputId": "cbbb716b-c296-4dc5-8c95-0af78f360af4",
    "pycharm": {
     "name": "#%%\n"
    }
   },
   "outputs": [
    {
     "output_type": "stream",
     "name": "stdout",
     "text": [
      "Mounted at /content/drive\n"
     ]
    }
   ],
   "source": [
    "from google.colab import drive\n",
    "drive.mount('/content/drive')"
   ]
  },
  {
   "cell_type": "code",
   "source": [
    "# /content/drive/MyDrive/machine_learning/data/breast-cancer-wisconsin.data\n",
    "import pandas as pd\n",
    "import numpy as np\n",
    "\n",
    "from sklearn.preprocessing import StandardScaler\n",
    "from sklearn.preprocessing import RobustScaler\n",
    "from sklearn.preprocessing import MinMaxScaler\n",
    "from sklearn.preprocessing import MaxAbsScaler\n",
    "from sklearn.tree import DecisionTreeClassifier\n",
    "from sklearn.linear_model import LogisticRegression\n",
    "from sklearn.svm import SVC\n",
    "\n",
    "from sklearn.model_selection import KFold\n",
    "from sklearn.model_selection import GridSearchCV\n",
    "from sklearn.model_selection import cross_val_score\n",
    "from sklearn.model_selection import train_test_split\n",
    "\n",
    "\n",
    "missing_values = [\"?\"]\n",
    "\n",
    "df = pd.read_csv(\"/content/drive/MyDrive/breast-cancer-wisconsin.data\", na_values=missing_values)\n",
    "# df = pd.read_csv(\"/content/drive/MyDrive/machine_learning/data/breast-cancer-wisconsin.data\")\n",
    "columns = [\n",
    "'Simple code number',\n",
    "'Clump Thickness',\n",
    "'Uniformity of Cell Size',\n",
    "'Uniformity of Cell Shape',\n",
    "'Marginal Adhesion',\n",
    "'Single Epithelial Cell Size',\n",
    "'Bare Nuclei',\n",
    "'Bland Chromatin',\n",
    "'Normal Nucleoli',\n",
    "'Mitoses',\n",
    "'Class'\n",
    "]\n",
    "df.columns = columns\n",
    "print(df)\n"
   ],
   "metadata": {
    "colab": {
     "base_uri": "https://localhost:8080/"
    },
    "id": "tXfs6Juya0uv",
    "outputId": "c0508fdf-aea5-41c6-cdc9-57cc7966e440",
    "pycharm": {
     "name": "#%%\n"
    }
   },
   "execution_count": 22,
   "outputs": [
    {
     "output_type": "stream",
     "name": "stdout",
     "text": [
      "     Simple code number  Clump Thickness  Uniformity of Cell Size  \\\n",
      "0               1002945                5                        4   \n",
      "1               1015425                3                        1   \n",
      "2               1016277                6                        8   \n",
      "3               1017023                4                        1   \n",
      "4               1017122                8                       10   \n",
      "..                  ...              ...                      ...   \n",
      "693              776715                3                        1   \n",
      "694              841769                2                        1   \n",
      "695              888820                5                       10   \n",
      "696              897471                4                        8   \n",
      "697              897471                4                        8   \n",
      "\n",
      "     Uniformity of Cell Shape  Marginal Adhesion  Single Epithelial Cell Size  \\\n",
      "0                           4                  5                            7   \n",
      "1                           1                  1                            2   \n",
      "2                           8                  1                            3   \n",
      "3                           1                  3                            2   \n",
      "4                          10                  8                            7   \n",
      "..                        ...                ...                          ...   \n",
      "693                         1                  1                            3   \n",
      "694                         1                  1                            2   \n",
      "695                        10                  3                            7   \n",
      "696                         6                  4                            3   \n",
      "697                         8                  5                            4   \n",
      "\n",
      "     Bare Nuclei  Bland Chromatin  Normal Nucleoli  Mitoses  Class  \n",
      "0           10.0                3                2        1      2  \n",
      "1            2.0                3                1        1      2  \n",
      "2            4.0                3                7        1      2  \n",
      "3            1.0                3                1        1      2  \n",
      "4           10.0                9                7        1      4  \n",
      "..           ...              ...              ...      ...    ...  \n",
      "693          2.0                1                1        1      2  \n",
      "694          1.0                1                1        1      2  \n",
      "695          3.0                8               10        2      4  \n",
      "696          4.0               10                6        1      4  \n",
      "697          5.0               10                4        1      4  \n",
      "\n",
      "[698 rows x 11 columns]\n"
     ]
    }
   ]
  },
  {
   "cell_type": "code",
   "source": [
    "print(df.info())"
   ],
   "metadata": {
    "colab": {
     "base_uri": "https://localhost:8080/"
    },
    "id": "UB2b8TzxlCqd",
    "outputId": "98f6d9c6-5478-421e-b724-dbb4416d2ee2",
    "pycharm": {
     "name": "#%%\n"
    }
   },
   "execution_count": 23,
   "outputs": [
    {
     "output_type": "stream",
     "name": "stdout",
     "text": [
      "<class 'pandas.core.frame.DataFrame'>\n",
      "RangeIndex: 698 entries, 0 to 697\n",
      "Data columns (total 11 columns):\n",
      " #   Column                       Non-Null Count  Dtype  \n",
      "---  ------                       --------------  -----  \n",
      " 0   Simple code number           698 non-null    int64  \n",
      " 1   Clump Thickness              698 non-null    int64  \n",
      " 2   Uniformity of Cell Size      698 non-null    int64  \n",
      " 3   Uniformity of Cell Shape     698 non-null    int64  \n",
      " 4   Marginal Adhesion            698 non-null    int64  \n",
      " 5   Single Epithelial Cell Size  698 non-null    int64  \n",
      " 6   Bare Nuclei                  682 non-null    float64\n",
      " 7   Bland Chromatin              698 non-null    int64  \n",
      " 8   Normal Nucleoli              698 non-null    int64  \n",
      " 9   Mitoses                      698 non-null    int64  \n",
      " 10  Class                        698 non-null    int64  \n",
      "dtypes: float64(1), int64(10)\n",
      "memory usage: 60.1 KB\n",
      "None\n"
     ]
    }
   ]
  },
  {
   "cell_type": "code",
   "source": [
    "df.isna().sum()"
   ],
   "metadata": {
    "colab": {
     "base_uri": "https://localhost:8080/"
    },
    "id": "W5GCD0vhlIBE",
    "outputId": "84144119-0e75-4ad2-89cc-a4f667273d48",
    "pycharm": {
     "name": "#%%\n"
    }
   },
   "execution_count": 24,
   "outputs": [
    {
     "output_type": "execute_result",
     "data": {
      "text/plain": [
       "Simple code number              0\n",
       "Clump Thickness                 0\n",
       "Uniformity of Cell Size         0\n",
       "Uniformity of Cell Shape        0\n",
       "Marginal Adhesion               0\n",
       "Single Epithelial Cell Size     0\n",
       "Bare Nuclei                    16\n",
       "Bland Chromatin                 0\n",
       "Normal Nucleoli                 0\n",
       "Mitoses                         0\n",
       "Class                           0\n",
       "dtype: int64"
      ]
     },
     "metadata": {},
     "execution_count": 24
    }
   ]
  },
  {
   "cell_type": "code",
   "source": [
    "df.dropna(axis=0, inplace = True)\n",
    "print(df.info())"
   ],
   "metadata": {
    "colab": {
     "base_uri": "https://localhost:8080/"
    },
    "id": "53CIfBallKkA",
    "outputId": "23c4eab8-a7ed-4195-d4ac-c9b8893ddc6a",
    "pycharm": {
     "name": "#%%\n"
    }
   },
   "execution_count": 25,
   "outputs": [
    {
     "output_type": "stream",
     "name": "stdout",
     "text": [
      "<class 'pandas.core.frame.DataFrame'>\n",
      "Int64Index: 682 entries, 0 to 697\n",
      "Data columns (total 11 columns):\n",
      " #   Column                       Non-Null Count  Dtype  \n",
      "---  ------                       --------------  -----  \n",
      " 0   Simple code number           682 non-null    int64  \n",
      " 1   Clump Thickness              682 non-null    int64  \n",
      " 2   Uniformity of Cell Size      682 non-null    int64  \n",
      " 3   Uniformity of Cell Shape     682 non-null    int64  \n",
      " 4   Marginal Adhesion            682 non-null    int64  \n",
      " 5   Single Epithelial Cell Size  682 non-null    int64  \n",
      " 6   Bare Nuclei                  682 non-null    float64\n",
      " 7   Bland Chromatin              682 non-null    int64  \n",
      " 8   Normal Nucleoli              682 non-null    int64  \n",
      " 9   Mitoses                      682 non-null    int64  \n",
      " 10  Class                        682 non-null    int64  \n",
      "dtypes: float64(1), int64(10)\n",
      "memory usage: 63.9 KB\n",
      "None\n"
     ]
    }
   ]
  },
  {
   "cell_type": "code",
   "source": [
    "df.drop([\"Simple code number\"], axis=1, inplace=True)\n",
    "# Change target(Class) value (2 -> 0 / 4 -> 1)\n",
    "df.at[df[df['Class'] == 2].index, 'Class'] = 0\n",
    "df.at[df[df['Class'] == 4].index, 'Class'] = 1\n",
    "# Split feature and target data\n",
    "X = pd.DataFrame(df.iloc[:,0:9], dtype=np.dtype(\"int64\"))\n",
    "y = df.iloc[:,9]\n",
    "## Find Best model and options\n",
    "# Run findBestOptions()\n",
    "train_X, test_X, train_y, test_y = train_test_split(X, y, test_size=0.7, shuffle=True)\n",
    "\n"
   ],
   "metadata": {
    "id": "vnVW6Mf7l-bP",
    "pycharm": {
     "name": "#%%\n"
    }
   },
   "execution_count": 26,
   "outputs": []
  },
  {
   "cell_type": "code",
   "source": [
    "def decision_tree_gini(scalers, X, y):\n",
    "  params = {'criterion':['gini'],'splitter':['best','random'], 'max_depth':[2,3,4,5,6,7,8],'min_samples_split':[2,3,4,5]}\n",
    "  dtc = DecisionTreeClassifier()\n",
    "  return_list = []\n",
    "  for scaler in scalers:\n",
    "    X = scaler.fit_transform(X)\n",
    "    for i in range(2,11):\n",
    "      gd_sr = GridSearchCV(estimator = dtc, param_grid = params, cv=i, n_jobs=-1)\n",
    "      gd_sr.fit(X,y)\n",
    "      temp_list = []\n",
    "      temp_list.append(gd_sr.best_score_)\n",
    "      temp_list.append(\"decision tree with gini\")\n",
    "      temp_list.append(gd_sr.best_params_)\n",
    "      temp_model = DecisionTreeClassifier(criterion='gini', splitter=gd_sr.best_params_['splitter'], max_depth=gd_sr.best_params_['max_depth'], min_samples_split=gd_sr.best_params_['min_samples_split'])\n",
    "      temp_model.fit(X,y)\n",
    "      temp_list.append(temp_model)\n",
    "      temp_list.append(scaler)\n",
    "      return_list.append(temp_list)\n",
    "\n",
    "  return return_list\n"
   ],
   "metadata": {
    "id": "jKcFhSQiy7ck",
    "pycharm": {
     "name": "#%%\n"
    }
   },
   "execution_count": 27,
   "outputs": []
  },
  {
   "cell_type": "code",
   "source": [
    "def find_SVC(scalers,X,y):\n",
    "  # Gamma: Defines how far the influence of a single training point reaches\n",
    "  # reach can think of reach as the range of data that affects the curvature of the decision boudary. If the gamma is small, it means the reach is far, and if the gamma is large, the reach is narrow.\n",
    "  # C : Controls tradeoff detween smooth decision boundary and classfying training points correctly. So, C adjusts the margin. Smaller C allows more, larger C allows less\n",
    "  # decision_function_shape : decision_function_shape : Whether to return a one-vs-rest (‘ovr’) decision function of shape as all other classifiers, or the original one-vs-one (‘ovo’) decision function.\n",
    "  # random_state : Controls the pseudo random number generation for shuffling the data for probability estimates. \n",
    "  # probability : gives per-class scores for each sample\n",
    "  # https://bkshin.tistory.com/entry/%EB%A8%B8%EC%8B%A0%EB%9F%AC%EB%8B%9D-3%EC%84%9C%ED%8F%AC%ED%8A%B8-%EB%B2%A1%ED%84%B0-%EB%A8%B8%EC%8B%A0-SVM-%EC%8B%A4%EC%8A%B5?category=1057680\n",
    "  # https://scikit-learn.org/stable/modules/generated/sklearn.svm.SVC.html\n",
    "  params = {'kernel':[\"rbf\",\"poly\",\"sigmoid\",\"linear\"],'gamma':[0.001,0.01,0.1,1,10], 'C':[1,5,10,50,100],'decision_function_shape':[\"ovr\",\"ovo\"]}\n",
    "  SVC_kernel=[\"rbf\",\"poly\",\"sigmoid\",\"linear\"]\n",
    "  SVC_gamma_list=[0.001,0.01,0.1,1,10]\n",
    "  SVC_C=[1,5,10,50,100]\n",
    "  SVC_decision_function_shape=[\"ovr\",\"ovo\"]\n",
    "  dtc = SVC()\n",
    "  return_list = []\n",
    "  for scaler in scalers:\n",
    "    X = scaler.fit_transform(X)\n",
    "    for i in range(2,11):\n",
    "      gd_sr = GridSearchCV(estimator = dtc, param_grid = params, cv=i, n_jobs=-1)\n",
    "      gd_sr.fit(X,y)\n",
    "      temp_list = []\n",
    "      temp_list.append(gd_sr.best_score_)\n",
    "      temp_list.append(\"SVC\")\n",
    "      temp_list.append(gd_sr.best_params_)\n",
    "      temp_model = SVC(kernel='rbf',probability=True,random_state=100,gamma=0.01,C=1,decision_function_shape=\"ovr\")\n",
    "      temp_model.fit(X,y)\n",
    "      temp_list.append(temp_model)\n",
    "      temp_list.append(scaler)\n",
    "      return_list.append(temp_list)\n",
    "  return return_list"
   ],
   "metadata": {
    "id": "mpLkqqcUZlXQ",
    "pycharm": {
     "name": "#%%\n"
    }
   },
   "execution_count": 28,
   "outputs": []
  },
  {
   "cell_type": "code",
   "source": [
    "def find_Scale_Model(X,y):\n",
    "  global best_score,best_cv,best_scaler,best_model\n",
    "  best_score=-1.0\n",
    "  DecisionTreeClassifier_criterion=[\"gini\",\"entropy\"]\n",
    "\n",
    "  LogisticRegression_solver=[\"lbfgs\",\"newton-cg\",\"liblinear\",\"sag\",\"saga\"]\n",
    "  # result list foramt = [점수, ]\n",
    "  result_list = []\n",
    "  cv_k=[2,3,4,5,6,7,8,9,10]\n",
    "  scalers=[StandardScaler(), RobustScaler(), MinMaxScaler(), MaxAbsScaler()]\n",
    "  gini_result = decision_tree_gini(scalers, X, y)\n",
    "  print(gini_result)\n",
    "  result_list += gini_result\n",
    "  SVC_result=find_SVC(scalers,X,y)\n",
    "  print(SVC_result)\n",
    "  result_list+=SVC_result\n",
    "  result_list.sort(key = lambda i : i[0], reverse = True)\n",
    "\n",
    "\n",
    "  return result_list"
   ],
   "metadata": {
    "id": "UMYt1gqPmbvP",
    "pycharm": {
     "name": "#%%\n"
    }
   },
   "execution_count": 29,
   "outputs": []
  },
  {
   "cell_type": "code",
   "source": [
    "result = find_Scale_Model(train_X, train_y)"
   ],
   "metadata": {
    "colab": {
     "base_uri": "https://localhost:8080/"
    },
    "id": "OOIE9Yor1vck",
    "outputId": "2e5c4199-d468-453f-f954-8bb513fde798",
    "pycharm": {
     "name": "#%%\n"
    }
   },
   "execution_count": 30,
   "outputs": [
    {
     "output_type": "stream",
     "name": "stdout",
     "text": [
      "[[0.9607843137254901, 'decision tree with gini', {'criterion': 'gini', 'max_depth': 6, 'min_samples_split': 2, 'splitter': 'random'}, DecisionTreeClassifier(max_depth=6, splitter='random'), StandardScaler()], [0.9607843137254902, 'decision tree with gini', {'criterion': 'gini', 'max_depth': 4, 'min_samples_split': 3, 'splitter': 'random'}, DecisionTreeClassifier(max_depth=4, min_samples_split=3, splitter='random'), StandardScaler()], [0.9607843137254902, 'decision tree with gini', {'criterion': 'gini', 'max_depth': 3, 'min_samples_split': 2, 'splitter': 'random'}, DecisionTreeClassifier(max_depth=3, splitter='random'), StandardScaler()], [0.9608536585365852, 'decision tree with gini', {'criterion': 'gini', 'max_depth': 5, 'min_samples_split': 5, 'splitter': 'random'}, DecisionTreeClassifier(max_depth=5, min_samples_split=5, splitter='random'), StandardScaler()], [0.9705882352941178, 'decision tree with gini', {'criterion': 'gini', 'max_depth': 8, 'min_samples_split': 3, 'splitter': 'random'}, DecisionTreeClassifier(max_depth=8, min_samples_split=3, splitter='random'), StandardScaler()], [0.975369458128079, 'decision tree with gini', {'criterion': 'gini', 'max_depth': 4, 'min_samples_split': 5, 'splitter': 'random'}, DecisionTreeClassifier(max_depth=4, min_samples_split=5, splitter='random'), StandardScaler()], [0.9657692307692307, 'decision tree with gini', {'criterion': 'gini', 'max_depth': 3, 'min_samples_split': 3, 'splitter': 'random'}, DecisionTreeClassifier(max_depth=3, min_samples_split=3, splitter='random'), StandardScaler()], [0.9659639877031181, 'decision tree with gini', {'criterion': 'gini', 'max_depth': 3, 'min_samples_split': 4, 'splitter': 'random'}, DecisionTreeClassifier(max_depth=3, min_samples_split=4, splitter='random'), StandardScaler()], [0.9607142857142857, 'decision tree with gini', {'criterion': 'gini', 'max_depth': 3, 'min_samples_split': 3, 'splitter': 'best'}, DecisionTreeClassifier(max_depth=3, min_samples_split=3), StandardScaler()], [0.9509803921568627, 'decision tree with gini', {'criterion': 'gini', 'max_depth': 5, 'min_samples_split': 4, 'splitter': 'random'}, DecisionTreeClassifier(max_depth=5, min_samples_split=4, splitter='random'), RobustScaler()], [0.9705882352941178, 'decision tree with gini', {'criterion': 'gini', 'max_depth': 7, 'min_samples_split': 5, 'splitter': 'random'}, DecisionTreeClassifier(max_depth=7, min_samples_split=5, splitter='random'), RobustScaler()], [0.9705882352941176, 'decision tree with gini', {'criterion': 'gini', 'max_depth': 8, 'min_samples_split': 2, 'splitter': 'random'}, DecisionTreeClassifier(max_depth=8, splitter='random'), RobustScaler()], [0.9658536585365853, 'decision tree with gini', {'criterion': 'gini', 'max_depth': 8, 'min_samples_split': 2, 'splitter': 'random'}, DecisionTreeClassifier(max_depth=8, splitter='random'), RobustScaler()], [0.9607843137254902, 'decision tree with gini', {'criterion': 'gini', 'max_depth': 3, 'min_samples_split': 4, 'splitter': 'random'}, DecisionTreeClassifier(max_depth=3, min_samples_split=4, splitter='random'), RobustScaler()], [0.9704433497536945, 'decision tree with gini', {'criterion': 'gini', 'max_depth': 5, 'min_samples_split': 5, 'splitter': 'random'}, DecisionTreeClassifier(max_depth=5, min_samples_split=5, splitter='random'), RobustScaler()], [0.9561538461538461, 'decision tree with gini', {'criterion': 'gini', 'max_depth': 5, 'min_samples_split': 2, 'splitter': 'random'}, DecisionTreeClassifier(max_depth=5, splitter='random'), RobustScaler()], [0.9609134826526131, 'decision tree with gini', {'criterion': 'gini', 'max_depth': 3, 'min_samples_split': 3, 'splitter': 'random'}, DecisionTreeClassifier(max_depth=3, min_samples_split=3, splitter='random'), RobustScaler()], [0.9611904761904763, 'decision tree with gini', {'criterion': 'gini', 'max_depth': 8, 'min_samples_split': 5, 'splitter': 'random'}, DecisionTreeClassifier(max_depth=8, min_samples_split=5, splitter='random'), RobustScaler()], [0.946078431372549, 'decision tree with gini', {'criterion': 'gini', 'max_depth': 5, 'min_samples_split': 5, 'splitter': 'random'}, DecisionTreeClassifier(max_depth=5, min_samples_split=5, splitter='random'), MinMaxScaler()], [0.9558823529411765, 'decision tree with gini', {'criterion': 'gini', 'max_depth': 5, 'min_samples_split': 3, 'splitter': 'random'}, DecisionTreeClassifier(max_depth=5, min_samples_split=3, splitter='random'), MinMaxScaler()], [0.9509803921568627, 'decision tree with gini', {'criterion': 'gini', 'max_depth': 2, 'min_samples_split': 2, 'splitter': 'random'}, DecisionTreeClassifier(max_depth=2, splitter='random'), MinMaxScaler()], [0.9754878048780486, 'decision tree with gini', {'criterion': 'gini', 'max_depth': 6, 'min_samples_split': 4, 'splitter': 'random'}, DecisionTreeClassifier(max_depth=6, min_samples_split=4, splitter='random'), MinMaxScaler()], [0.9558823529411765, 'decision tree with gini', {'criterion': 'gini', 'max_depth': 8, 'min_samples_split': 2, 'splitter': 'random'}, DecisionTreeClassifier(max_depth=8, splitter='random'), MinMaxScaler()], [0.9607553366174056, 'decision tree with gini', {'criterion': 'gini', 'max_depth': 3, 'min_samples_split': 3, 'splitter': 'best'}, DecisionTreeClassifier(max_depth=3, min_samples_split=3), MinMaxScaler()], [0.9513461538461538, 'decision tree with gini', {'criterion': 'gini', 'max_depth': 8, 'min_samples_split': 2, 'splitter': 'random'}, DecisionTreeClassifier(max_depth=8, splitter='random'), MinMaxScaler()], [0.956302151954326, 'decision tree with gini', {'criterion': 'gini', 'max_depth': 8, 'min_samples_split': 2, 'splitter': 'best'}, DecisionTreeClassifier(max_depth=8), MinMaxScaler()], [0.9709523809523809, 'decision tree with gini', {'criterion': 'gini', 'max_depth': 4, 'min_samples_split': 5, 'splitter': 'random'}, DecisionTreeClassifier(max_depth=4, min_samples_split=5, splitter='random'), MinMaxScaler()], [0.9558823529411764, 'decision tree with gini', {'criterion': 'gini', 'max_depth': 7, 'min_samples_split': 2, 'splitter': 'random'}, DecisionTreeClassifier(max_depth=7, splitter='random'), MaxAbsScaler()], [0.9607843137254902, 'decision tree with gini', {'criterion': 'gini', 'max_depth': 2, 'min_samples_split': 5, 'splitter': 'best'}, DecisionTreeClassifier(max_depth=2, min_samples_split=5), MaxAbsScaler()], [0.9509803921568627, 'decision tree with gini', {'criterion': 'gini', 'max_depth': 8, 'min_samples_split': 4, 'splitter': 'random'}, DecisionTreeClassifier(max_depth=8, min_samples_split=4, splitter='random'), MaxAbsScaler()], [0.9658536585365853, 'decision tree with gini', {'criterion': 'gini', 'max_depth': 5, 'min_samples_split': 5, 'splitter': 'random'}, DecisionTreeClassifier(max_depth=5, min_samples_split=5, splitter='random'), MaxAbsScaler()], [0.9558823529411765, 'decision tree with gini', {'criterion': 'gini', 'max_depth': 4, 'min_samples_split': 4, 'splitter': 'random'}, DecisionTreeClassifier(max_depth=4, min_samples_split=4, splitter='random'), MaxAbsScaler()], [0.9605911330049262, 'decision tree with gini', {'criterion': 'gini', 'max_depth': 3, 'min_samples_split': 2, 'splitter': 'best'}, DecisionTreeClassifier(max_depth=3), MaxAbsScaler()], [0.9659615384615384, 'decision tree with gini', {'criterion': 'gini', 'max_depth': 8, 'min_samples_split': 5, 'splitter': 'random'}, DecisionTreeClassifier(max_depth=8, min_samples_split=5, splitter='random'), MaxAbsScaler()], [0.966183574879227, 'decision tree with gini', {'criterion': 'gini', 'max_depth': 8, 'min_samples_split': 5, 'splitter': 'random'}, DecisionTreeClassifier(max_depth=8, min_samples_split=5, splitter='random'), MaxAbsScaler()], [0.9659523809523808, 'decision tree with gini', {'criterion': 'gini', 'max_depth': 3, 'min_samples_split': 2, 'splitter': 'best'}, DecisionTreeClassifier(max_depth=3), MaxAbsScaler()]]\n",
      "[[0.9754901960784313, 'SVC', {'C': 1, 'decision_function_shape': 'ovr', 'gamma': 1, 'kernel': 'sigmoid'}, SVC(C=1, gamma=0.01, probability=True, random_state=100), StandardScaler()], [0.9803921568627452, 'SVC', {'C': 5, 'decision_function_shape': 'ovr', 'gamma': 0.1, 'kernel': 'sigmoid'}, SVC(C=1, gamma=0.01, probability=True, random_state=100), StandardScaler()], [0.9754901960784315, 'SVC', {'C': 5, 'decision_function_shape': 'ovr', 'gamma': 1, 'kernel': 'sigmoid'}, SVC(C=1, gamma=0.01, probability=True, random_state=100), StandardScaler()], [0.9704878048780488, 'SVC', {'C': 5, 'decision_function_shape': 'ovr', 'gamma': 0.1, 'kernel': 'sigmoid'}, SVC(C=1, gamma=0.01, probability=True, random_state=100), StandardScaler()], [0.9754901960784315, 'SVC', {'C': 5, 'decision_function_shape': 'ovr', 'gamma': 0.1, 'kernel': 'sigmoid'}, SVC(C=1, gamma=0.01, probability=True, random_state=100), StandardScaler()], [0.9753694581280788, 'SVC', {'C': 1, 'decision_function_shape': 'ovr', 'gamma': 1, 'kernel': 'sigmoid'}, SVC(C=1, gamma=0.01, probability=True, random_state=100), StandardScaler()], [0.9751923076923077, 'SVC', {'C': 1, 'decision_function_shape': 'ovr', 'gamma': 1, 'kernel': 'sigmoid'}, SVC(C=1, gamma=0.01, probability=True, random_state=100), StandardScaler()], [0.9754062362758016, 'SVC', {'C': 5, 'decision_function_shape': 'ovr', 'gamma': 0.1, 'kernel': 'sigmoid'}, SVC(C=1, gamma=0.01, probability=True, random_state=100), StandardScaler()], [0.9802380952380952, 'SVC', {'C': 5, 'decision_function_shape': 'ovr', 'gamma': 0.1, 'kernel': 'sigmoid'}, SVC(C=1, gamma=0.01, probability=True, random_state=100), StandardScaler()], [0.9607843137254902, 'SVC', {'C': 1, 'decision_function_shape': 'ovr', 'gamma': 0.001, 'kernel': 'linear'}, SVC(C=1, gamma=0.01, probability=True, random_state=100), RobustScaler()], [0.965686274509804, 'SVC', {'C': 50, 'decision_function_shape': 'ovr', 'gamma': 0.01, 'kernel': 'sigmoid'}, SVC(C=1, gamma=0.01, probability=True, random_state=100), RobustScaler()], [0.9656862745098039, 'SVC', {'C': 1, 'decision_function_shape': 'ovr', 'gamma': 0.1, 'kernel': 'sigmoid'}, SVC(C=1, gamma=0.01, probability=True, random_state=100), RobustScaler()], [0.9706097560975608, 'SVC', {'C': 1, 'decision_function_shape': 'ovr', 'gamma': 0.1, 'kernel': 'sigmoid'}, SVC(C=1, gamma=0.01, probability=True, random_state=100), RobustScaler()], [0.9754901960784315, 'SVC', {'C': 50, 'decision_function_shape': 'ovr', 'gamma': 0.01, 'kernel': 'sigmoid'}, SVC(C=1, gamma=0.01, probability=True, random_state=100), RobustScaler()], [0.9704433497536947, 'SVC', {'C': 50, 'decision_function_shape': 'ovr', 'gamma': 0.01, 'kernel': 'sigmoid'}, SVC(C=1, gamma=0.01, probability=True, random_state=100), RobustScaler()], [0.9657692307692307, 'SVC', {'C': 1, 'decision_function_shape': 'ovr', 'gamma': 0.001, 'kernel': 'linear'}, SVC(C=1, gamma=0.01, probability=True, random_state=100), RobustScaler()], [0.9707949055775144, 'SVC', {'C': 1, 'decision_function_shape': 'ovr', 'gamma': 0.1, 'kernel': 'sigmoid'}, SVC(C=1, gamma=0.01, probability=True, random_state=100), RobustScaler()], [0.9704761904761904, 'SVC', {'C': 100, 'decision_function_shape': 'ovr', 'gamma': 0.01, 'kernel': 'sigmoid'}, SVC(C=1, gamma=0.01, probability=True, random_state=100), RobustScaler()], [0.9656862745098039, 'SVC', {'C': 5, 'decision_function_shape': 'ovr', 'gamma': 0.001, 'kernel': 'linear'}, SVC(C=1, gamma=0.01, probability=True, random_state=100), MinMaxScaler()], [0.9754901960784315, 'SVC', {'C': 1, 'decision_function_shape': 'ovr', 'gamma': 1, 'kernel': 'rbf'}, SVC(C=1, gamma=0.01, probability=True, random_state=100), MinMaxScaler()], [0.9705882352941176, 'SVC', {'C': 1, 'decision_function_shape': 'ovr', 'gamma': 1, 'kernel': 'rbf'}, SVC(C=1, gamma=0.01, probability=True, random_state=100), MinMaxScaler()], [0.9754878048780486, 'SVC', {'C': 5, 'decision_function_shape': 'ovr', 'gamma': 1, 'kernel': 'rbf'}, SVC(C=1, gamma=0.01, probability=True, random_state=100), MinMaxScaler()], [0.9754901960784315, 'SVC', {'C': 1, 'decision_function_shape': 'ovr', 'gamma': 1, 'kernel': 'rbf'}, SVC(C=1, gamma=0.01, probability=True, random_state=100), MinMaxScaler()], [0.9753694581280788, 'SVC', {'C': 1, 'decision_function_shape': 'ovr', 'gamma': 1, 'kernel': 'rbf'}, SVC(C=1, gamma=0.01, probability=True, random_state=100), MinMaxScaler()], [0.9707692307692308, 'SVC', {'C': 5, 'decision_function_shape': 'ovr', 'gamma': 1, 'kernel': 'rbf'}, SVC(C=1, gamma=0.01, probability=True, random_state=100), MinMaxScaler()], [0.9705753184014054, 'SVC', {'C': 1, 'decision_function_shape': 'ovr', 'gamma': 1, 'kernel': 'rbf'}, SVC(C=1, gamma=0.01, probability=True, random_state=100), MinMaxScaler()], [0.9752380952380951, 'SVC', {'C': 10, 'decision_function_shape': 'ovr', 'gamma': 0.001, 'kernel': 'linear'}, SVC(C=1, gamma=0.01, probability=True, random_state=100), MinMaxScaler()], [0.9656862745098039, 'SVC', {'C': 5, 'decision_function_shape': 'ovr', 'gamma': 0.001, 'kernel': 'linear'}, SVC(C=1, gamma=0.01, probability=True, random_state=100), MaxAbsScaler()], [0.9754901960784315, 'SVC', {'C': 1, 'decision_function_shape': 'ovr', 'gamma': 1, 'kernel': 'rbf'}, SVC(C=1, gamma=0.01, probability=True, random_state=100), MaxAbsScaler()], [0.9705882352941176, 'SVC', {'C': 1, 'decision_function_shape': 'ovr', 'gamma': 1, 'kernel': 'rbf'}, SVC(C=1, gamma=0.01, probability=True, random_state=100), MaxAbsScaler()], [0.9754878048780486, 'SVC', {'C': 5, 'decision_function_shape': 'ovr', 'gamma': 1, 'kernel': 'rbf'}, SVC(C=1, gamma=0.01, probability=True, random_state=100), MaxAbsScaler()], [0.9754901960784315, 'SVC', {'C': 1, 'decision_function_shape': 'ovr', 'gamma': 1, 'kernel': 'rbf'}, SVC(C=1, gamma=0.01, probability=True, random_state=100), MaxAbsScaler()], [0.9753694581280788, 'SVC', {'C': 1, 'decision_function_shape': 'ovr', 'gamma': 1, 'kernel': 'rbf'}, SVC(C=1, gamma=0.01, probability=True, random_state=100), MaxAbsScaler()], [0.9707692307692308, 'SVC', {'C': 5, 'decision_function_shape': 'ovr', 'gamma': 1, 'kernel': 'rbf'}, SVC(C=1, gamma=0.01, probability=True, random_state=100), MaxAbsScaler()], [0.9705753184014054, 'SVC', {'C': 1, 'decision_function_shape': 'ovr', 'gamma': 1, 'kernel': 'rbf'}, SVC(C=1, gamma=0.01, probability=True, random_state=100), MaxAbsScaler()], [0.9752380952380951, 'SVC', {'C': 10, 'decision_function_shape': 'ovr', 'gamma': 0.001, 'kernel': 'linear'}, SVC(C=1, gamma=0.01, probability=True, random_state=100), MaxAbsScaler()]]\n"
     ]
    }
   ]
  },
  {
   "cell_type": "code",
   "source": [
    "for i in range(5):\n",
    "  print(result[i])"
   ],
   "metadata": {
    "colab": {
     "base_uri": "https://localhost:8080/"
    },
    "id": "_fmOH8hd3_lh",
    "outputId": "4d63ea7b-d063-4b74-839f-24839996e2a9",
    "pycharm": {
     "name": "#%%\n"
    }
   },
   "execution_count": 32,
   "outputs": [
    {
     "output_type": "stream",
     "name": "stdout",
     "text": [
      "[0.9803921568627452, 'SVC', {'C': 5, 'decision_function_shape': 'ovr', 'gamma': 0.1, 'kernel': 'sigmoid'}, SVC(C=1, gamma=0.01, probability=True, random_state=100), StandardScaler()]\n",
      "[0.9802380952380952, 'SVC', {'C': 5, 'decision_function_shape': 'ovr', 'gamma': 0.1, 'kernel': 'sigmoid'}, SVC(C=1, gamma=0.01, probability=True, random_state=100), StandardScaler()]\n",
      "[0.9754901960784315, 'SVC', {'C': 5, 'decision_function_shape': 'ovr', 'gamma': 1, 'kernel': 'sigmoid'}, SVC(C=1, gamma=0.01, probability=True, random_state=100), StandardScaler()]\n",
      "[0.9754901960784315, 'SVC', {'C': 5, 'decision_function_shape': 'ovr', 'gamma': 0.1, 'kernel': 'sigmoid'}, SVC(C=1, gamma=0.01, probability=True, random_state=100), StandardScaler()]\n",
      "[0.9754901960784315, 'SVC', {'C': 50, 'decision_function_shape': 'ovr', 'gamma': 0.01, 'kernel': 'sigmoid'}, SVC(C=1, gamma=0.01, probability=True, random_state=100), RobustScaler()]\n"
     ]
    }
   ]
  },
  {
   "cell_type": "code",
   "source": [
    "X = result[0][4].fit_transform(X)\n",
    "train_X, test_X, train_y, test_y = train_test_split(X, y, test_size=0.7, shuffle=True)\n",
    "model = result[0][3].fit(train_X, train_y)\n",
    "print(\"Model score: \", end=\"\")\n",
    "print(model.score(test_X, test_y))"
   ],
   "metadata": {
    "colab": {
     "base_uri": "https://localhost:8080/"
    },
    "id": "ex6OZzZg4f6S",
    "outputId": "c37dfb0c-9010-481f-cba8-15596cb5df46",
    "pycharm": {
     "name": "#%%\n"
    }
   },
   "execution_count": 33,
   "outputs": [
    {
     "output_type": "stream",
     "name": "stdout",
     "text": [
      "Model score: 0.9665271966527197\n"
     ]
    }
   ]
  }
 ]
}