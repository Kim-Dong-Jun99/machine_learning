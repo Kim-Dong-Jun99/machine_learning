{
  "nbformat": 4,
  "nbformat_minor": 0,
  "metadata": {
    "colab": {
      "provenance": [],
      "collapsed_sections": []
    },
    "kernelspec": {
      "name": "python3",
      "display_name": "Python 3"
    },
    "language_info": {
      "name": "python"
    }
  },
  "cells": [
    {
      "cell_type": "markdown",
      "source": [
        "# Mounting google drive"
      ],
      "metadata": {
        "id": "tWxTz63zpOBw"
      }
    },
    {
      "cell_type": "code",
      "source": [
        "from google.colab import drive\n",
        "DRIVE_PATH = '/content/drive'\n",
        "drive.mount(DRIVE_PATH)"
      ],
      "metadata": {
        "colab": {
          "base_uri": "https://localhost:8080/"
        },
        "id": "voZtAHUItaEJ",
        "outputId": "37354d51-3594-47da-fbbe-f72eaf6ee92b"
      },
      "execution_count": 2,
      "outputs": [
        {
          "output_type": "stream",
          "name": "stdout",
          "text": [
            "Mounted at /content/drive\n"
          ]
        }
      ]
    },
    {
      "cell_type": "markdown",
      "source": [
        "# Libraries Installation"
      ],
      "metadata": {
        "id": "KGlMMa-pBVjG"
      }
    },
    {
      "cell_type": "code",
      "source": [
        "!pip install pyclustering"
      ],
      "metadata": {
        "colab": {
          "base_uri": "https://localhost:8080/"
        },
        "id": "Y7cxL8zeBVV9",
        "outputId": "231e6eac-a111-4133-abb7-94a049d93bea"
      },
      "execution_count": 3,
      "outputs": [
        {
          "output_type": "stream",
          "name": "stdout",
          "text": [
            "Looking in indexes: https://pypi.org/simple, https://us-python.pkg.dev/colab-wheels/public/simple/\n",
            "Collecting pyclustering\n",
            "  Downloading pyclustering-0.10.1.2.tar.gz (2.6 MB)\n",
            "\u001b[K     |████████████████████████████████| 2.6 MB 7.2 MB/s \n",
            "\u001b[?25hRequirement already satisfied: scipy>=1.1.0 in /usr/local/lib/python3.7/dist-packages (from pyclustering) (1.7.3)\n",
            "Requirement already satisfied: matplotlib>=3.0.0 in /usr/local/lib/python3.7/dist-packages (from pyclustering) (3.2.2)\n",
            "Requirement already satisfied: numpy>=1.15.2 in /usr/local/lib/python3.7/dist-packages (from pyclustering) (1.21.6)\n",
            "Requirement already satisfied: Pillow>=5.2.0 in /usr/local/lib/python3.7/dist-packages (from pyclustering) (7.1.2)\n",
            "Requirement already satisfied: kiwisolver>=1.0.1 in /usr/local/lib/python3.7/dist-packages (from matplotlib>=3.0.0->pyclustering) (1.4.4)\n",
            "Requirement already satisfied: python-dateutil>=2.1 in /usr/local/lib/python3.7/dist-packages (from matplotlib>=3.0.0->pyclustering) (2.8.2)\n",
            "Requirement already satisfied: pyparsing!=2.0.4,!=2.1.2,!=2.1.6,>=2.0.1 in /usr/local/lib/python3.7/dist-packages (from matplotlib>=3.0.0->pyclustering) (3.0.9)\n",
            "Requirement already satisfied: cycler>=0.10 in /usr/local/lib/python3.7/dist-packages (from matplotlib>=3.0.0->pyclustering) (0.11.0)\n",
            "Requirement already satisfied: typing-extensions in /usr/local/lib/python3.7/dist-packages (from kiwisolver>=1.0.1->matplotlib>=3.0.0->pyclustering) (4.1.1)\n",
            "Requirement already satisfied: six>=1.5 in /usr/local/lib/python3.7/dist-packages (from python-dateutil>=2.1->matplotlib>=3.0.0->pyclustering) (1.15.0)\n",
            "Building wheels for collected packages: pyclustering\n",
            "  Building wheel for pyclustering (setup.py) ... \u001b[?25l\u001b[?25hdone\n",
            "  Created wheel for pyclustering: filename=pyclustering-0.10.1.2-py3-none-any.whl size=2395122 sha256=045dc115b30cde7a3a090c98a2f82558deb23b0ca8f295b7186d6f7549a2406f\n",
            "  Stored in directory: /root/.cache/pip/wheels/ea/87/6b/1e0568b5ba9dc6518a25338bae90bd8392f35206bb90bb10f1\n",
            "Successfully built pyclustering\n",
            "Installing collected packages: pyclustering\n",
            "Successfully installed pyclustering-0.10.1.2\n"
          ]
        }
      ]
    },
    {
      "cell_type": "markdown",
      "source": [
        "# Libraries Import"
      ],
      "metadata": {
        "id": "63w1okUl4zNP"
      }
    },
    {
      "cell_type": "code",
      "execution_count": 4,
      "metadata": {
        "id": "UD8d_pEF4UsQ"
      },
      "outputs": [],
      "source": [
        "import warnings\n",
        "\n",
        "# Basic libraries\n",
        "import numpy as np\n",
        "import pandas as pd\n",
        "import seaborn as sns\n",
        "import matplotlib.pyplot as plt\n",
        "\n",
        "# Scaler\n",
        "from sklearn.preprocessing import StandardScaler, MinMaxScaler, MaxAbsScaler, RobustScaler\n",
        "\n",
        "# Encoder\n",
        "from sklearn.preprocessing import LabelEncoder\n",
        "\n",
        "# Cluster model\n",
        "from sklearn.cluster import KMeans, DBSCAN\n",
        "from pyclustering.cluster.clarans import clarans\n",
        "from sklearn.mixture import GaussianMixture\n",
        "\n",
        "# Evaluation\n",
        "from sklearn.metrics import silhouette_score"
      ]
    },
    {
      "cell_type": "markdown",
      "source": [
        "# Tuning Classes"
      ],
      "metadata": {
        "id": "x8kzNdCf41rl"
      }
    },
    {
      "cell_type": "markdown",
      "source": [
        "\n",
        "> TuningModel - A Basic(Parent) class for hyperparameter tuning\n",
        "\n",
        "*   Public Methods:\n",
        "\n",
        " **Constructor(param)**\n",
        "  - @param **param** - dictionary: parameters for tuning\n",
        "\n",
        " **fit(x)**\n",
        " \n",
        " - @param **x** - np.ndarray: Dataframe values for modeling\n",
        "\n",
        "* Protected Methods\n",
        "\n",
        " **_model_execute(x, params)**\n",
        "  - @param **x** - np.ndarray: dataframe values\n",
        "  - @param **params** - dictionary: chosen parameters in whole parameter\n",
        "\n",
        " **_model_scoring(model, x)**\n",
        "  - @param **model** - Any: Data model built in *_model_execute*\n",
        "  - @param **x** - numpy.ndarray: dataframe values\n",
        "\n",
        "*   Members\n",
        "\n",
        " *params*\n",
        "\n",
        " - parameter input from constructor\n",
        "\n",
        " *model_list*\n",
        "\n",
        " - model list, availiable after using **fit**\n",
        "\n",
        " *best_params_*\n",
        "\n",
        " - best model's parameters, availiable after using **fit**\n",
        "\n",
        " *best_score_*\n",
        "\n",
        " - best model's score, availiable after using **fit**\n",
        "\n",
        " *best_model_*\n",
        "\n",
        " - best model, availiable after using **fit**\n"
      ],
      "metadata": {
        "id": "eexES5Hd5X9i"
      }
    },
    {
      "cell_type": "code",
      "source": [
        "class TuningModel:\n",
        "    def __init__(self, param: dict):\n",
        "        self.params = param\n",
        "        self.model_list = []\n",
        "\n",
        "        self.best_params_ = None\n",
        "        self.best_score_ = None\n",
        "        self.best_model_ = None\n",
        "\n",
        "    def _model_execute(self, x, params):\n",
        "        pass\n",
        "\n",
        "    def _model_scoring(self, model, x):\n",
        "        pass\n",
        "\n",
        "    def fit(self, x):\n",
        "        if self.params is None:\n",
        "            raise Exception('Invalid parameters input: None', 'ParameterError')\n",
        "\n",
        "        # Traversal for whole indices with digits\n",
        "        # By computing the digits of each index\n",
        "        #\n",
        "        # Examples:\n",
        "        #\n",
        "        # Consider three digits (4, 2, 2) - in specific (quadratic, binary, binary)\n",
        "        # We can get series of numbers:\n",
        "        # 0 0 0 = 0(10)\n",
        "        # 0 0 1 = 1\n",
        "        # 0 1 0 = 2\n",
        "        # ...\n",
        "        # 3 0 0 = 12\n",
        "        # 3 0 1 = 13\n",
        "        # 3 1 0 = 14\n",
        "        # 3 1 1 = 15\n",
        "        #\n",
        "        # In this case - we can explain the result number as\n",
        "        # 15 = 3 * (2 * 2) + 1 * (2) + 1\n",
        "        #\n",
        "        # Similarly, we can apply them in traversal\n",
        "        # length = 15 -> get indices (3, 1, 1) for clarans - {'n_cluster', 'num_local', 'max_neighbor'}\n",
        "        # By using this, we visit whole parameters.\n",
        "\n",
        "        length = 1\n",
        "        param_keys = []\n",
        "\n",
        "        # 1. Calc the total multiple of length, and the individual length\n",
        "        for key, value in self.params.items():\n",
        "            length *= len(value)\n",
        "            param_keys.append(key)\n",
        "\n",
        "        if length == 0:\n",
        "            raise Exception('Invalid parameters input: No parameters input', 'ParameterError')\n",
        "\n",
        "        # 2. Loop until the length became 0\n",
        "        while length > 0:\n",
        "            params = {}\n",
        "\n",
        "            temp = length - 1\n",
        "            for i, key in enumerate(param_keys):\n",
        "                # 2-1. Calculate the total multiple of the lower digits\n",
        "                remain = 1\n",
        "                for next_key in param_keys[i + 1:]:\n",
        "                    remain *= len(self.params[next_key])\n",
        "\n",
        "                # 2-2. Compute index (div)\n",
        "                index = temp // remain\n",
        "\n",
        "                # 2-3. Remove current digit number (4 2 2) -> (2 2)\n",
        "                temp -= index * remain\n",
        "                params[key] = self.params[key][index]\n",
        "\n",
        "            model = self._model_execute(x, params)\n",
        "\n",
        "            self.model_list.append({\n",
        "                'params': params,\n",
        "                'model': model,\n",
        "                'score': self._model_scoring(model, x)\n",
        "            })\n",
        "\n",
        "            length -= 1\n",
        "\n",
        "        for result in self.model_list:\n",
        "            if self.best_score_ is None or self.best_score_ < result['score']:\n",
        "                self.best_score_ = result['score']\n",
        "                self.best_params_ = result['params']\n",
        "                self.best_model_ = result['model']"
      ],
      "metadata": {
        "id": "BQUWCxrc4bgs"
      },
      "execution_count": 5,
      "outputs": []
    },
    {
      "cell_type": "markdown",
      "source": [
        "> ClaransTune - Tuning class for pyclustering.cluster.clarans.clarans\n",
        "- uses **silhouette coefficient** for scoring\n",
        "- **Constructor(method, param)**\n",
        "  - @param **method**: matrice calculation method - 'euclidean', 'manhattan', .."
      ],
      "metadata": {
        "id": "hXSQVXjcnJBf"
      }
    },
    {
      "cell_type": "code",
      "source": [
        "class ClaransTune(TuningModel):\n",
        "    def __init__(self, method: str, param: dict):\n",
        "        super().__init__(param)\n",
        "        self.__metric = method\n",
        "\n",
        "    def _model_execute(self, x, params):\n",
        "        # Order dictionary to tuple for parameter input\n",
        "        param_input = (params['number_clusters'], params['numlocal'], params['maxneighbor'])\n",
        "\n",
        "        # Input it as parameter\n",
        "        model = clarans(x, *param_input)\n",
        "        model.process()\n",
        "\n",
        "        return model\n",
        "\n",
        "    def _model_scoring(self, model: clarans, x):\n",
        "        # Match the form of clusters [[cluster1], [cluster2], ...] -> [c1, c2, c1, ...]\n",
        "        y = np.zeros(x.size() // x[0].size)\n",
        "        for i in range(0, len(model.get_clusters())):\n",
        "            for index in model.get_clusters()[i]:\n",
        "                y[index] = i + 1\n",
        "\n",
        "        return silhouette_score(x, y, metric=self.__metric)"
      ],
      "metadata": {
        "id": "yY6n_OpbnI1q"
      },
      "execution_count": 6,
      "outputs": []
    },
    {
      "cell_type": "markdown",
      "source": [
        "Other clusters\n",
        "> DbscanTune - Tuning class for sklearn.cluster.DBSCAN\n",
        "\n",
        "> KMeansTune - Tuning class for sklearn.cluster.KMeans\n",
        "\n",
        "> GMMTune - Tuning class for sklearn.mixture.GaussianMixture\n",
        "\n",
        "- uses **silhouette coefficient** for scoring\n",
        "- **Constructor(method, param)**\n",
        "  - @param **method**: matrice calculation method - 'euclidean', 'manhattan', ..."
      ],
      "metadata": {
        "id": "3YGhQ-bq7-ed"
      }
    },
    {
      "cell_type": "code",
      "source": [
        "class DbscanTune(TuningModel):\n",
        "    def __init__(self, method: str, param: dict):\n",
        "        super().__init__(param)\n",
        "        self.__metric = method\n",
        "\n",
        "    def _model_execute(self, x, params):\n",
        "        model = DBSCAN(**params) # send input parameter as keyword to constructor\n",
        "        model.fit(x)\n",
        "\n",
        "        return model\n",
        "\n",
        "    def _model_scoring(self, model: DBSCAN, x):\n",
        "      # Error handling: Number of cluster < 2\n",
        "      # DBSCAN does not clearify the number of clusters first\n",
        "      # When we use silhouette score, we can get case of 1 cluster model\n",
        "      # Return -1 (worst score) when no clustering\n",
        "        try:\n",
        "            score = silhouette_score(x, model.labels_, metric=self.__metric)\n",
        "        except ValueError:\n",
        "            return -1.0\n",
        "\n",
        "        return score\n",
        "\n",
        "\n",
        "class KMeansTune(TuningModel):\n",
        "    def __init__(self, method: str, param: dict):\n",
        "        super().__init__(param)\n",
        "        self.__metric = method\n",
        "\n",
        "    def _model_execute(self, x, params):\n",
        "        model = KMeans(**params)\n",
        "        model.fit(x)\n",
        "\n",
        "        return model\n",
        "\n",
        "    def _model_scoring(self, model: KMeans, x):\n",
        "        return silhouette_score(x, model.labels_, metric=self.__metric)\n",
        "\n",
        "\n",
        "class GMMTune(TuningModel):\n",
        "    def __init__(self, method: str, param: dict):\n",
        "        super().__init__(param)\n",
        "        self.__metric = method\n",
        "\n",
        "    def _model_execute(self, x, params):\n",
        "        model = GaussianMixture(**params)\n",
        "        model.fit(x)\n",
        "\n",
        "        return model\n",
        "\n",
        "    def _model_scoring(self, model: GaussianMixture, x):\n",
        "        return silhouette_score(x, model.predict(x), metric=self.__metric)"
      ],
      "metadata": {
        "id": "BrLp1zh_5C8x"
      },
      "execution_count": 7,
      "outputs": []
    },
    {
      "cell_type": "markdown",
      "source": [
        "# AutoML - A major function for one operation\n",
        "\n",
        "- Only supports K-Means, K-Medoids(CLARANS), DBSCAN, Gaussian-Mixture"
      ],
      "metadata": {
        "id": "MZXguMXW9F4E"
      }
    },
    {
      "cell_type": "code",
      "source": [
        "# Declare supported_model\n",
        "supported_model = [KMeans, clarans, DBSCAN, GaussianMixture]"
      ],
      "metadata": {
        "id": "4f1DRZFg5BUE"
      },
      "execution_count": 8,
      "outputs": []
    },
    {
      "cell_type": "markdown",
      "source": [
        "> Major function\n",
        "\n",
        "*  Parameters\n",
        "\n",
        " @param **x** - pandas.DataFrame: A dataframe to use\n",
        "\n",
        " @param **kwargs**: keyword arguments for clustering\n",
        "\n",
        "*  **Argument kwargs contains**:\n",
        " \n",
        " *scaler*: Scaler **types** to use - the modeling is executed with Default + scaled datasets\n",
        "\n",
        " *cluster*: Clusters to use - it is **dictionary** that is having the **Cluster Type** as key, and **Its Hyperparametrs** as value.\n",
        "\n",
        "\n",
        "    scalar_list = {StandardScaler, MinMaxScaler}\n",
        "    cluster_list = {\n",
        "        KMeans: {\n",
        "            'n_clusters': [2, 3, 4],\n",
        "            'init': ['k-means++', 'random']\n",
        "        },\n",
        "        clarans: {\n",
        "            'number_clusters': [2, 3, 4],\n",
        "            'numlocal': [2, 4, 6],\n",
        "            'maxneighbor': [3, 5, 7]\n",
        "        },\n",
        "        DBSCAN: {\n",
        "            'eps': [0.01, 0.05, 0.1],\n",
        "            'min_samples': range(2, 6)\n",
        "        },\n",
        "        GaussianMixture: {\n",
        "            'n_components': [2, 3, 4]\n",
        "        }\n",
        "    }"
      ],
      "metadata": {
        "id": "dVH5dtJx9W8I"
      }
    },
    {
      "cell_type": "code",
      "source": [
        "def major_function(x: pd.DataFrame, **kwargs):\n",
        "    # Dataframe list with name\n",
        "    dataframes = {None: x.values}\n",
        "\n",
        "    # Scalers: Set\n",
        "    scalers = kwargs.get('scaler')\n",
        "\n",
        "    # Clusters: Dict (Cluster Type: Parameters)\n",
        "    clusters = kwargs.get('cluster')\n",
        "\n",
        "    # Metric methods: Set (str)\n",
        "    methods = kwargs.get('metric')\n",
        "\n",
        "    if clusters is None or len(clusters) == 0:\n",
        "        raise Exception('InputError: No cluster input')\n",
        "\n",
        "    if scalers is not None:\n",
        "        for scaler in scalers:\n",
        "            # Append scaled dataset with their type\n",
        "            dataframes[scaler] = scaler().fit_transform(x.copy())\n",
        "\n",
        "    output = []\n",
        "\n",
        "    for method in methods:\n",
        "        for cluster, param in clusters.items():\n",
        "            if not cluster in supported_model:\n",
        "                warnings.warn(f'Model {cluster} is not supported.', UserWarning)\n",
        "                continue\n",
        "\n",
        "            for key, value in dataframes.items():\n",
        "                model = None\n",
        "                if cluster is clarans:\n",
        "                    model = ClaransTune(method, param)\n",
        "                elif cluster is DBSCAN:\n",
        "                    model = DbscanTune(method, param)\n",
        "                elif cluster is KMeans:\n",
        "                    model = KMeansTune(method, param)\n",
        "                elif cluster is GaussianMixture:\n",
        "                    model = GMMTune(method, param)\n",
        "\n",
        "                if model is not None:\n",
        "                    model.fit(value)\n",
        "                    output.append((f'{key},{cluster},{method}', model))\n",
        "\n",
        "    return output"
      ],
      "metadata": {
        "id": "RTs0-bJX4x-e"
      },
      "execution_count": 9,
      "outputs": []
    },
    {
      "cell_type": "markdown",
      "source": [
        "# Main"
      ],
      "metadata": {
        "id": "TZVmqWYf_ICY"
      }
    },
    {
      "cell_type": "code",
      "source": [
        "FILE_PATH = \"/MyDrive/machine_learning/data/\"\n",
        "FILE_NAME = \"housing.csv\"\n",
        "df = pd.read_csv(f\"{DRIVE_PATH}/{FILE_PATH}/{FILE_NAME}\")"
      ],
      "metadata": {
        "id": "3Ww94bNg_i2h"
      },
      "execution_count": 10,
      "outputs": []
    },
    {
      "cell_type": "markdown",
      "source": [
        "# Data Exploration"
      ],
      "metadata": {
        "id": "vnuGPWg_AA6z"
      }
    },
    {
      "cell_type": "code",
      "source": [
        "df.info()"
      ],
      "metadata": {
        "colab": {
          "base_uri": "https://localhost:8080/"
        },
        "id": "Hn9wq_OVACx9",
        "outputId": "0bc27bf7-f501-49ed-d5b4-706819478430"
      },
      "execution_count": 11,
      "outputs": [
        {
          "output_type": "stream",
          "name": "stdout",
          "text": [
            "<class 'pandas.core.frame.DataFrame'>\n",
            "RangeIndex: 20640 entries, 0 to 20639\n",
            "Data columns (total 10 columns):\n",
            " #   Column              Non-Null Count  Dtype  \n",
            "---  ------              --------------  -----  \n",
            " 0   longitude           20640 non-null  float64\n",
            " 1   latitude            20640 non-null  float64\n",
            " 2   housing_median_age  20640 non-null  float64\n",
            " 3   total_rooms         20640 non-null  float64\n",
            " 4   total_bedrooms      20433 non-null  float64\n",
            " 5   population          20640 non-null  float64\n",
            " 6   households          20640 non-null  float64\n",
            " 7   median_income       20640 non-null  float64\n",
            " 8   median_house_value  20640 non-null  float64\n",
            " 9   ocean_proximity     20640 non-null  object \n",
            "dtypes: float64(9), object(1)\n",
            "memory usage: 1.6+ MB\n"
          ]
        }
      ]
    },
    {
      "cell_type": "code",
      "source": [
        "df.isna().sum()"
      ],
      "metadata": {
        "colab": {
          "base_uri": "https://localhost:8080/"
        },
        "id": "ox8NfFX4ADok",
        "outputId": "2701094a-2d58-4468-e65a-25c4eaf82d77"
      },
      "execution_count": 12,
      "outputs": [
        {
          "output_type": "execute_result",
          "data": {
            "text/plain": [
              "longitude               0\n",
              "latitude                0\n",
              "housing_median_age      0\n",
              "total_rooms             0\n",
              "total_bedrooms        207\n",
              "population              0\n",
              "households              0\n",
              "median_income           0\n",
              "median_house_value      0\n",
              "ocean_proximity         0\n",
              "dtype: int64"
            ]
          },
          "metadata": {},
          "execution_count": 12
        }
      ]
    },
    {
      "cell_type": "markdown",
      "source": [
        "# Data Preprocessing"
      ],
      "metadata": {
        "id": "Q5AInryMAGtG"
      }
    },
    {
      "cell_type": "code",
      "source": [
        "# Copy data\n",
        "df_src = df\n",
        "df = df.copy()"
      ],
      "metadata": {
        "id": "onMGsZdeAIk0"
      },
      "execution_count": 13,
      "outputs": []
    },
    {
      "cell_type": "code",
      "source": [
        "# Drop median_house_value (for clustering)\n",
        "df = df[df.columns.difference(['median_house_value'])]\n",
        "\n",
        "# Drop any with how=any\n",
        "df.dropna(how='any', inplace=True)"
      ],
      "metadata": {
        "id": "ZXh90dl6_-sr"
      },
      "execution_count": 14,
      "outputs": []
    },
    {
      "cell_type": "code",
      "source": [
        "# Check NaN again\n",
        "df.isna().sum()"
      ],
      "metadata": {
        "colab": {
          "base_uri": "https://localhost:8080/"
        },
        "id": "gduxYFzVAS6n",
        "outputId": "cf6dbc9b-d1f1-4b26-c85d-e43806d9dfc2"
      },
      "execution_count": 15,
      "outputs": [
        {
          "output_type": "execute_result",
          "data": {
            "text/plain": [
              "households            0\n",
              "housing_median_age    0\n",
              "latitude              0\n",
              "longitude             0\n",
              "median_income         0\n",
              "ocean_proximity       0\n",
              "population            0\n",
              "total_bedrooms        0\n",
              "total_rooms           0\n",
              "dtype: int64"
            ]
          },
          "metadata": {},
          "execution_count": 15
        }
      ]
    },
    {
      "cell_type": "code",
      "source": [
        "# Check categorical data counts\n",
        "df['ocean_proximity'].value_counts()"
      ],
      "metadata": {
        "colab": {
          "base_uri": "https://localhost:8080/"
        },
        "id": "u6ePt5XLARNM",
        "outputId": "ead71672-7895-4dbc-b20c-b8644bda424f"
      },
      "execution_count": 16,
      "outputs": [
        {
          "output_type": "execute_result",
          "data": {
            "text/plain": [
              "<1H OCEAN     9034\n",
              "INLAND        6496\n",
              "NEAR OCEAN    2628\n",
              "NEAR BAY      2270\n",
              "ISLAND           5\n",
              "Name: ocean_proximity, dtype: int64"
            ]
          },
          "metadata": {},
          "execution_count": 16
        }
      ]
    },
    {
      "cell_type": "code",
      "source": [
        "# Method 1 - LabelEncoder, switch the categorical feature into numeric one\n",
        "encoder = LabelEncoder()\n",
        "df['ocean_proximity'] = encoder.fit_transform(df['ocean_proximity'])\n",
        "print(df['ocean_proximity'].value_counts())"
      ],
      "metadata": {
        "colab": {
          "base_uri": "https://localhost:8080/"
        },
        "id": "PcgH7JUSAUVS",
        "outputId": "7878b81d-7e81-42c7-9fd5-130e54a0ce48"
      },
      "execution_count": 17,
      "outputs": [
        {
          "output_type": "stream",
          "name": "stdout",
          "text": [
            "0    9034\n",
            "1    6496\n",
            "4    2628\n",
            "3    2270\n",
            "2       5\n",
            "Name: ocean_proximity, dtype: int64\n"
          ]
        }
      ]
    },
    {
      "cell_type": "code",
      "source": [
        "# Display histogram of features\n",
        "df.hist(bins=50, figsize=(20, 15))"
      ],
      "metadata": {
        "colab": {
          "base_uri": "https://localhost:8080/",
          "height": 1000
        },
        "id": "GC46tUhxAWvu",
        "outputId": "80a23ddb-e3d4-465f-afc7-2c1ef88a7682"
      },
      "execution_count": 18,
      "outputs": [
        {
          "output_type": "execute_result",
          "data": {
            "text/plain": [
              "array([[<matplotlib.axes._subplots.AxesSubplot object at 0x7fab83ce1910>,\n",
              "        <matplotlib.axes._subplots.AxesSubplot object at 0x7fab83c40d10>,\n",
              "        <matplotlib.axes._subplots.AxesSubplot object at 0x7fab83c03350>],\n",
              "       [<matplotlib.axes._subplots.AxesSubplot object at 0x7fab83c36950>,\n",
              "        <matplotlib.axes._subplots.AxesSubplot object at 0x7fab83beaf50>,\n",
              "        <matplotlib.axes._subplots.AxesSubplot object at 0x7fab83bad590>],\n",
              "       [<matplotlib.axes._subplots.AxesSubplot object at 0x7fab83b64c10>,\n",
              "        <matplotlib.axes._subplots.AxesSubplot object at 0x7fab83b281d0>,\n",
              "        <matplotlib.axes._subplots.AxesSubplot object at 0x7fab83b28210>]],\n",
              "      dtype=object)"
            ]
          },
          "metadata": {},
          "execution_count": 18
        },
        {
          "output_type": "display_data",
          "data": {
            "text/plain": [
              "<Figure size 1440x1080 with 9 Axes>"
            ],
            "image/png": "[encoded data removed]"
          },
          "metadata": {
            "needs_background": "light"
          }
        }
      ]
    },
    {
      "cell_type": "markdown",
      "source": [
        "# Data Modeling"
      ],
      "metadata": {
        "id": "fLL6ftkgAxjc"
      }
    },
    {
      "cell_type": "code",
      "source": [
        "k_range = range(2, 11)\n",
        "\n",
        "scaler_list = {StandardScaler, MinMaxScaler, MaxAbsScaler, RobustScaler}\n",
        "cluster_list = {\n",
        "    KMeans: {\n",
        "        'n_clusters': k_range,\n",
        "        'init': ['k-means++', 'random'],\n",
        "        'random_state': [1]\n",
        "    },\n",
        "    #clarans: {\n",
        "    #    'number_clusters': k_range,\n",
        "    #    'numlocal': [2, 4, 6],\n",
        "    #    'maxneighbor': [3, 5, 7]\n",
        "    #},\n",
        "    DBSCAN: {\n",
        "        'eps': [1e-3, 5e-3, 1e-2, 5e-2, 1e-1, 5e-1],\n",
        "        'min_samples': range(2, 6)\n",
        "    },\n",
        "    GaussianMixture: {\n",
        "        'n_components': k_range,\n",
        "        'random_state': [1]\n",
        "    }\n",
        "}\n",
        "method_list = {'euclidean', 'manhattan'}\n",
        "\n",
        "output = major_function(df, scaler=scaler_list, cluster=cluster_list, metric=method_list)\n",
        "print(output)"
      ],
      "metadata": {
        "id": "X8DQWdxqAPHH",
        "colab": {
          "base_uri": "https://localhost:8080/"
        },
        "outputId": "be5bd25e-b396-4d52-ffd9-3daecdc3561e"
      },
      "execution_count": 19,
      "outputs": [
        {
          "output_type": "stream",
          "name": "stdout",
          "text": [
            "[(\"None,<class 'sklearn.cluster._kmeans.KMeans'>,euclidean\", <__main__.KMeansTune object at 0x7fab83d06ad0>), (\"<class 'sklearn.preprocessing._data.MinMaxScaler'>,<class 'sklearn.cluster._kmeans.KMeans'>,euclidean\", <__main__.KMeansTune object at 0x7fab83a3ac50>), (\"<class 'sklearn.preprocessing._data.StandardScaler'>,<class 'sklearn.cluster._kmeans.KMeans'>,euclidean\", <__main__.KMeansTune object at 0x7fab833e2ed0>), (\"<class 'sklearn.preprocessing._data.RobustScaler'>,<class 'sklearn.cluster._kmeans.KMeans'>,euclidean\", <__main__.KMeansTune object at 0x7fab839e4d50>), (\"<class 'sklearn.preprocessing._data.MaxAbsScaler'>,<class 'sklearn.cluster._kmeans.KMeans'>,euclidean\", <__main__.KMeansTune object at 0x7fab83341e90>), (\"None,<class 'sklearn.cluster._dbscan.DBSCAN'>,euclidean\", <__main__.DbscanTune object at 0x7fab834c7610>), (\"<class 'sklearn.preprocessing._data.MinMaxScaler'>,<class 'sklearn.cluster._dbscan.DBSCAN'>,euclidean\", <__main__.DbscanTune object at 0x7fab835aaf90>), (\"<class 'sklearn.preprocessing._data.StandardScaler'>,<class 'sklearn.cluster._dbscan.DBSCAN'>,euclidean\", <__main__.DbscanTune object at 0x7fab836fd850>), (\"<class 'sklearn.preprocessing._data.RobustScaler'>,<class 'sklearn.cluster._dbscan.DBSCAN'>,euclidean\", <__main__.DbscanTune object at 0x7fab836fd410>), (\"<class 'sklearn.preprocessing._data.MaxAbsScaler'>,<class 'sklearn.cluster._dbscan.DBSCAN'>,euclidean\", <__main__.DbscanTune object at 0x7fab834c7810>), (\"None,<class 'sklearn.mixture._gaussian_mixture.GaussianMixture'>,euclidean\", <__main__.GMMTune object at 0x7fab83383050>), (\"<class 'sklearn.preprocessing._data.MinMaxScaler'>,<class 'sklearn.mixture._gaussian_mixture.GaussianMixture'>,euclidean\", <__main__.GMMTune object at 0x7fab8338d7d0>), (\"<class 'sklearn.preprocessing._data.StandardScaler'>,<class 'sklearn.mixture._gaussian_mixture.GaussianMixture'>,euclidean\", <__main__.GMMTune object at 0x7fab83383bd0>), (\"<class 'sklearn.preprocessing._data.RobustScaler'>,<class 'sklearn.mixture._gaussian_mixture.GaussianMixture'>,euclidean\", <__main__.GMMTune object at 0x7fab83a29a50>), (\"<class 'sklearn.preprocessing._data.MaxAbsScaler'>,<class 'sklearn.mixture._gaussian_mixture.GaussianMixture'>,euclidean\", <__main__.GMMTune object at 0x7fab83522ad0>), (\"None,<class 'sklearn.cluster._kmeans.KMeans'>,manhattan\", <__main__.KMeansTune object at 0x7fab834092d0>), (\"<class 'sklearn.preprocessing._data.MinMaxScaler'>,<class 'sklearn.cluster._kmeans.KMeans'>,manhattan\", <__main__.KMeansTune object at 0x7fab83522850>), (\"<class 'sklearn.preprocessing._data.StandardScaler'>,<class 'sklearn.cluster._kmeans.KMeans'>,manhattan\", <__main__.KMeansTune object at 0x7fab8335b210>), (\"<class 'sklearn.preprocessing._data.RobustScaler'>,<class 'sklearn.cluster._kmeans.KMeans'>,manhattan\", <__main__.KMeansTune object at 0x7fab82eb4dd0>), (\"<class 'sklearn.preprocessing._data.MaxAbsScaler'>,<class 'sklearn.cluster._kmeans.KMeans'>,manhattan\", <__main__.KMeansTune object at 0x7fab8339bb90>), (\"None,<class 'sklearn.cluster._dbscan.DBSCAN'>,manhattan\", <__main__.DbscanTune object at 0x7fab82eb4850>), (\"<class 'sklearn.preprocessing._data.MinMaxScaler'>,<class 'sklearn.cluster._dbscan.DBSCAN'>,manhattan\", <__main__.DbscanTune object at 0x7fab83409550>), (\"<class 'sklearn.preprocessing._data.StandardScaler'>,<class 'sklearn.cluster._dbscan.DBSCAN'>,manhattan\", <__main__.DbscanTune object at 0x7fab8339bd90>), (\"<class 'sklearn.preprocessing._data.RobustScaler'>,<class 'sklearn.cluster._dbscan.DBSCAN'>,manhattan\", <__main__.DbscanTune object at 0x7fab83522690>), (\"<class 'sklearn.preprocessing._data.MaxAbsScaler'>,<class 'sklearn.cluster._dbscan.DBSCAN'>,manhattan\", <__main__.DbscanTune object at 0x7fab7fddebd0>), (\"None,<class 'sklearn.mixture._gaussian_mixture.GaussianMixture'>,manhattan\", <__main__.GMMTune object at 0x7fab7fdcc850>), (\"<class 'sklearn.preprocessing._data.MinMaxScaler'>,<class 'sklearn.mixture._gaussian_mixture.GaussianMixture'>,manhattan\", <__main__.GMMTune object at 0x7fab7fddee90>), (\"<class 'sklearn.preprocessing._data.StandardScaler'>,<class 'sklearn.mixture._gaussian_mixture.GaussianMixture'>,manhattan\", <__main__.GMMTune object at 0x7fab7fde4f50>), (\"<class 'sklearn.preprocessing._data.RobustScaler'>,<class 'sklearn.mixture._gaussian_mixture.GaussianMixture'>,manhattan\", <__main__.GMMTune object at 0x7fab83383490>), (\"<class 'sklearn.preprocessing._data.MaxAbsScaler'>,<class 'sklearn.mixture._gaussian_mixture.GaussianMixture'>,manhattan\", <__main__.GMMTune object at 0x7fab7fdde150>)]\n"
          ]
        }
      ]
    },
    {
      "cell_type": "markdown",
      "source": [
        "# Evaluation"
      ],
      "metadata": {
        "id": "KAT4L5nPBz8G"
      }
    },
    {
      "cell_type": "code",
      "source": [
        "for out in output:\n",
        "  print(f'{out[0]}:{out[1].best_score_}')"
      ],
      "metadata": {
        "id": "ZO_VY-ZqB1GC",
        "colab": {
          "base_uri": "https://localhost:8080/"
        },
        "outputId": "930ff721-0da4-4485-a4e6-bcf48fefdf15"
      },
      "execution_count": 20,
      "outputs": [
        {
          "output_type": "stream",
          "name": "stdout",
          "text": [
            "None,<class 'sklearn.cluster._kmeans.KMeans'>,euclidean:0.7210040149782818\n",
            "<class 'sklearn.preprocessing._data.MinMaxScaler'>,<class 'sklearn.cluster._kmeans.KMeans'>,euclidean:0.43256809655514894\n",
            "<class 'sklearn.preprocessing._data.StandardScaler'>,<class 'sklearn.cluster._kmeans.KMeans'>,euclidean:0.3927036912683831\n",
            "<class 'sklearn.preprocessing._data.RobustScaler'>,<class 'sklearn.cluster._kmeans.KMeans'>,euclidean:0.4916006200712294\n",
            "<class 'sklearn.preprocessing._data.MaxAbsScaler'>,<class 'sklearn.cluster._kmeans.KMeans'>,euclidean:0.5359306775471181\n",
            "None,<class 'sklearn.cluster._dbscan.DBSCAN'>,euclidean:-1.0\n",
            "<class 'sklearn.preprocessing._data.MinMaxScaler'>,<class 'sklearn.cluster._dbscan.DBSCAN'>,euclidean:0.43175021469555946\n",
            "<class 'sklearn.preprocessing._data.StandardScaler'>,<class 'sklearn.cluster._dbscan.DBSCAN'>,euclidean:-0.31547070581665454\n",
            "<class 'sklearn.preprocessing._data.RobustScaler'>,<class 'sklearn.cluster._dbscan.DBSCAN'>,euclidean:-0.219237234612725\n",
            "<class 'sklearn.preprocessing._data.MaxAbsScaler'>,<class 'sklearn.cluster._dbscan.DBSCAN'>,euclidean:0.6549786048289512\n",
            "None,<class 'sklearn.mixture._gaussian_mixture.GaussianMixture'>,euclidean:0.5123767002602726\n",
            "<class 'sklearn.preprocessing._data.MinMaxScaler'>,<class 'sklearn.mixture._gaussian_mixture.GaussianMixture'>,euclidean:0.3156137490997276\n",
            "<class 'sklearn.preprocessing._data.StandardScaler'>,<class 'sklearn.mixture._gaussian_mixture.GaussianMixture'>,euclidean:0.28846474453023013\n",
            "<class 'sklearn.preprocessing._data.RobustScaler'>,<class 'sklearn.mixture._gaussian_mixture.GaussianMixture'>,euclidean:0.34316976051336756\n",
            "<class 'sklearn.preprocessing._data.MaxAbsScaler'>,<class 'sklearn.mixture._gaussian_mixture.GaussianMixture'>,euclidean:0.5357803276966964\n",
            "None,<class 'sklearn.cluster._kmeans.KMeans'>,manhattan:0.7200988688041795\n",
            "<class 'sklearn.preprocessing._data.MinMaxScaler'>,<class 'sklearn.cluster._kmeans.KMeans'>,manhattan:0.43472786819295645\n",
            "<class 'sklearn.preprocessing._data.StandardScaler'>,<class 'sklearn.cluster._kmeans.KMeans'>,manhattan:0.4333519245235807\n",
            "<class 'sklearn.preprocessing._data.RobustScaler'>,<class 'sklearn.cluster._kmeans.KMeans'>,manhattan:0.5069440904345572\n",
            "<class 'sklearn.preprocessing._data.MaxAbsScaler'>,<class 'sklearn.cluster._kmeans.KMeans'>,manhattan:0.46712481654702165\n",
            "None,<class 'sklearn.cluster._dbscan.DBSCAN'>,manhattan:-1.0\n",
            "<class 'sklearn.preprocessing._data.MinMaxScaler'>,<class 'sklearn.cluster._dbscan.DBSCAN'>,manhattan:0.3945958817052869\n",
            "<class 'sklearn.preprocessing._data.StandardScaler'>,<class 'sklearn.cluster._dbscan.DBSCAN'>,manhattan:-0.36015216915415704\n",
            "<class 'sklearn.preprocessing._data.RobustScaler'>,<class 'sklearn.cluster._dbscan.DBSCAN'>,manhattan:-0.23718634499799363\n",
            "<class 'sklearn.preprocessing._data.MaxAbsScaler'>,<class 'sklearn.cluster._dbscan.DBSCAN'>,manhattan:0.7324134020001599\n",
            "None,<class 'sklearn.mixture._gaussian_mixture.GaussianMixture'>,manhattan:0.5218072609222483\n",
            "<class 'sklearn.preprocessing._data.MinMaxScaler'>,<class 'sklearn.mixture._gaussian_mixture.GaussianMixture'>,manhattan:0.348215339271889\n",
            "<class 'sklearn.preprocessing._data.StandardScaler'>,<class 'sklearn.mixture._gaussian_mixture.GaussianMixture'>,manhattan:0.3113334340909918\n",
            "<class 'sklearn.preprocessing._data.RobustScaler'>,<class 'sklearn.mixture._gaussian_mixture.GaussianMixture'>,manhattan:0.3591278921023939\n",
            "<class 'sklearn.preprocessing._data.MaxAbsScaler'>,<class 'sklearn.mixture._gaussian_mixture.GaussianMixture'>,manhattan:0.4669723875932077\n"
          ]
        }
      ]
    },
    {
      "cell_type": "code",
      "source": [
        "for out in output:\n",
        "  print(out[0])\n",
        "  print(out[1])\n",
        "  print(out[1].best_params_)\n",
        "  print(out[1].best_model_)\n",
        "  print(out[1].best_score_)\n",
        "  print()"
      ],
      "metadata": {
        "colab": {
          "base_uri": "https://localhost:8080/"
        },
        "id": "kI7ISJw5sNqf",
        "outputId": "7d60e409-31bf-45e9-a457-ef2965fb9cb7"
      },
      "execution_count": 27,
      "outputs": [
        {
          "output_type": "stream",
          "name": "stdout",
          "text": [
            "<class 'tuple'>\n",
            "None,<class 'sklearn.cluster._kmeans.KMeans'>,euclidean\n",
            "<__main__.KMeansTune object at 0x7fab83d06ad0>\n",
            "{'n_clusters': 2, 'init': 'k-means++', 'random_state': 1}\n",
            "KMeans(n_clusters=2, random_state=1)\n",
            "0.7210040149782818\n",
            "\n",
            "<class 'tuple'>\n",
            "<class 'sklearn.preprocessing._data.MinMaxScaler'>,<class 'sklearn.cluster._kmeans.KMeans'>,euclidean\n",
            "<__main__.KMeansTune object at 0x7fab83a3ac50>\n",
            "{'n_clusters': 2, 'init': 'random', 'random_state': 1}\n",
            "KMeans(init='random', n_clusters=2, random_state=1)\n",
            "0.43256809655514894\n",
            "\n",
            "<class 'tuple'>\n",
            "<class 'sklearn.preprocessing._data.StandardScaler'>,<class 'sklearn.cluster._kmeans.KMeans'>,euclidean\n",
            "<__main__.KMeansTune object at 0x7fab833e2ed0>\n",
            "{'n_clusters': 2, 'init': 'random', 'random_state': 1}\n",
            "KMeans(init='random', n_clusters=2, random_state=1)\n",
            "0.3927036912683831\n",
            "\n",
            "<class 'tuple'>\n",
            "<class 'sklearn.preprocessing._data.RobustScaler'>,<class 'sklearn.cluster._kmeans.KMeans'>,euclidean\n",
            "<__main__.KMeansTune object at 0x7fab839e4d50>\n",
            "{'n_clusters': 2, 'init': 'random', 'random_state': 1}\n",
            "KMeans(init='random', n_clusters=2, random_state=1)\n",
            "0.4916006200712294\n",
            "\n",
            "<class 'tuple'>\n",
            "<class 'sklearn.preprocessing._data.MaxAbsScaler'>,<class 'sklearn.cluster._kmeans.KMeans'>,euclidean\n",
            "<__main__.KMeansTune object at 0x7fab83341e90>\n",
            "{'n_clusters': 2, 'init': 'random', 'random_state': 1}\n",
            "KMeans(init='random', n_clusters=2, random_state=1)\n",
            "0.5359306775471181\n",
            "\n",
            "<class 'tuple'>\n",
            "None,<class 'sklearn.cluster._dbscan.DBSCAN'>,euclidean\n",
            "<__main__.DbscanTune object at 0x7fab834c7610>\n",
            "{'eps': 0.5, 'min_samples': 5}\n",
            "DBSCAN()\n",
            "-1.0\n",
            "\n",
            "<class 'tuple'>\n",
            "<class 'sklearn.preprocessing._data.MinMaxScaler'>,<class 'sklearn.cluster._dbscan.DBSCAN'>,euclidean\n",
            "<__main__.DbscanTune object at 0x7fab835aaf90>\n",
            "{'eps': 0.5, 'min_samples': 5}\n",
            "DBSCAN()\n",
            "0.43175021469555946\n",
            "\n",
            "<class 'tuple'>\n",
            "<class 'sklearn.preprocessing._data.StandardScaler'>,<class 'sklearn.cluster._dbscan.DBSCAN'>,euclidean\n",
            "<__main__.DbscanTune object at 0x7fab836fd850>\n",
            "{'eps': 0.1, 'min_samples': 4}\n",
            "DBSCAN(eps=0.1, min_samples=4)\n",
            "-0.31547070581665454\n",
            "\n",
            "<class 'tuple'>\n",
            "<class 'sklearn.preprocessing._data.RobustScaler'>,<class 'sklearn.cluster._dbscan.DBSCAN'>,euclidean\n",
            "<__main__.DbscanTune object at 0x7fab836fd410>\n",
            "{'eps': 0.1, 'min_samples': 4}\n",
            "DBSCAN(eps=0.1, min_samples=4)\n",
            "-0.219237234612725\n",
            "\n",
            "<class 'tuple'>\n",
            "<class 'sklearn.preprocessing._data.MaxAbsScaler'>,<class 'sklearn.cluster._dbscan.DBSCAN'>,euclidean\n",
            "<__main__.DbscanTune object at 0x7fab834c7810>\n",
            "{'eps': 0.5, 'min_samples': 5}\n",
            "DBSCAN()\n",
            "0.6549786048289512\n",
            "\n",
            "<class 'tuple'>\n",
            "None,<class 'sklearn.mixture._gaussian_mixture.GaussianMixture'>,euclidean\n",
            "<__main__.GMMTune object at 0x7fab83383050>\n",
            "{'n_components': 2, 'random_state': 1}\n",
            "GaussianMixture(n_components=2, random_state=1)\n",
            "0.5123767002602726\n",
            "\n",
            "<class 'tuple'>\n",
            "<class 'sklearn.preprocessing._data.MinMaxScaler'>,<class 'sklearn.mixture._gaussian_mixture.GaussianMixture'>,euclidean\n",
            "<__main__.GMMTune object at 0x7fab8338d7d0>\n",
            "{'n_components': 4, 'random_state': 1}\n",
            "GaussianMixture(n_components=4, random_state=1)\n",
            "0.3156137490997276\n",
            "\n",
            "<class 'tuple'>\n",
            "<class 'sklearn.preprocessing._data.StandardScaler'>,<class 'sklearn.mixture._gaussian_mixture.GaussianMixture'>,euclidean\n",
            "<__main__.GMMTune object at 0x7fab83383bd0>\n",
            "{'n_components': 2, 'random_state': 1}\n",
            "GaussianMixture(n_components=2, random_state=1)\n",
            "0.28846474453023013\n",
            "\n",
            "<class 'tuple'>\n",
            "<class 'sklearn.preprocessing._data.RobustScaler'>,<class 'sklearn.mixture._gaussian_mixture.GaussianMixture'>,euclidean\n",
            "<__main__.GMMTune object at 0x7fab83a29a50>\n",
            "{'n_components': 2, 'random_state': 1}\n",
            "GaussianMixture(n_components=2, random_state=1)\n",
            "0.34316976051336756\n",
            "\n",
            "<class 'tuple'>\n",
            "<class 'sklearn.preprocessing._data.MaxAbsScaler'>,<class 'sklearn.mixture._gaussian_mixture.GaussianMixture'>,euclidean\n",
            "<__main__.GMMTune object at 0x7fab83522ad0>\n",
            "{'n_components': 2, 'random_state': 1}\n",
            "GaussianMixture(n_components=2, random_state=1)\n",
            "0.5357803276966964\n",
            "\n",
            "<class 'tuple'>\n",
            "None,<class 'sklearn.cluster._kmeans.KMeans'>,manhattan\n",
            "<__main__.KMeansTune object at 0x7fab834092d0>\n",
            "{'n_clusters': 2, 'init': 'k-means++', 'random_state': 1}\n",
            "KMeans(n_clusters=2, random_state=1)\n",
            "0.7200988688041795\n",
            "\n",
            "<class 'tuple'>\n",
            "<class 'sklearn.preprocessing._data.MinMaxScaler'>,<class 'sklearn.cluster._kmeans.KMeans'>,manhattan\n",
            "<__main__.KMeansTune object at 0x7fab83522850>\n",
            "{'n_clusters': 4, 'init': 'random', 'random_state': 1}\n",
            "KMeans(init='random', n_clusters=4, random_state=1)\n",
            "0.43472786819295645\n",
            "\n",
            "<class 'tuple'>\n",
            "<class 'sklearn.preprocessing._data.StandardScaler'>,<class 'sklearn.cluster._kmeans.KMeans'>,manhattan\n",
            "<__main__.KMeansTune object at 0x7fab8335b210>\n",
            "{'n_clusters': 2, 'init': 'random', 'random_state': 1}\n",
            "KMeans(init='random', n_clusters=2, random_state=1)\n",
            "0.4333519245235807\n",
            "\n",
            "<class 'tuple'>\n",
            "<class 'sklearn.preprocessing._data.RobustScaler'>,<class 'sklearn.cluster._kmeans.KMeans'>,manhattan\n",
            "<__main__.KMeansTune object at 0x7fab82eb4dd0>\n",
            "{'n_clusters': 2, 'init': 'random', 'random_state': 1}\n",
            "KMeans(init='random', n_clusters=2, random_state=1)\n",
            "0.5069440904345572\n",
            "\n",
            "<class 'tuple'>\n",
            "<class 'sklearn.preprocessing._data.MaxAbsScaler'>,<class 'sklearn.cluster._kmeans.KMeans'>,manhattan\n",
            "<__main__.KMeansTune object at 0x7fab8339bb90>\n",
            "{'n_clusters': 2, 'init': 'random', 'random_state': 1}\n",
            "KMeans(init='random', n_clusters=2, random_state=1)\n",
            "0.46712481654702165\n",
            "\n",
            "<class 'tuple'>\n",
            "None,<class 'sklearn.cluster._dbscan.DBSCAN'>,manhattan\n",
            "<__main__.DbscanTune object at 0x7fab82eb4850>\n",
            "{'eps': 0.5, 'min_samples': 5}\n",
            "DBSCAN()\n",
            "-1.0\n",
            "\n",
            "<class 'tuple'>\n",
            "<class 'sklearn.preprocessing._data.MinMaxScaler'>,<class 'sklearn.cluster._dbscan.DBSCAN'>,manhattan\n",
            "<__main__.DbscanTune object at 0x7fab83409550>\n",
            "{'eps': 0.5, 'min_samples': 5}\n",
            "DBSCAN()\n",
            "0.3945958817052869\n",
            "\n",
            "<class 'tuple'>\n",
            "<class 'sklearn.preprocessing._data.StandardScaler'>,<class 'sklearn.cluster._dbscan.DBSCAN'>,manhattan\n",
            "<__main__.DbscanTune object at 0x7fab8339bd90>\n",
            "{'eps': 0.1, 'min_samples': 4}\n",
            "DBSCAN(eps=0.1, min_samples=4)\n",
            "-0.36015216915415704\n",
            "\n",
            "<class 'tuple'>\n",
            "<class 'sklearn.preprocessing._data.RobustScaler'>,<class 'sklearn.cluster._dbscan.DBSCAN'>,manhattan\n",
            "<__main__.DbscanTune object at 0x7fab83522690>\n",
            "{'eps': 0.1, 'min_samples': 4}\n",
            "DBSCAN(eps=0.1, min_samples=4)\n",
            "-0.23718634499799363\n",
            "\n",
            "<class 'tuple'>\n",
            "<class 'sklearn.preprocessing._data.MaxAbsScaler'>,<class 'sklearn.cluster._dbscan.DBSCAN'>,manhattan\n",
            "<__main__.DbscanTune object at 0x7fab7fddebd0>\n",
            "{'eps': 0.5, 'min_samples': 5}\n",
            "DBSCAN()\n",
            "0.7324134020001599\n",
            "\n",
            "<class 'tuple'>\n",
            "None,<class 'sklearn.mixture._gaussian_mixture.GaussianMixture'>,manhattan\n",
            "<__main__.GMMTune object at 0x7fab7fdcc850>\n",
            "{'n_components': 2, 'random_state': 1}\n",
            "GaussianMixture(n_components=2, random_state=1)\n",
            "0.5218072609222483\n",
            "\n",
            "<class 'tuple'>\n",
            "<class 'sklearn.preprocessing._data.MinMaxScaler'>,<class 'sklearn.mixture._gaussian_mixture.GaussianMixture'>,manhattan\n",
            "<__main__.GMMTune object at 0x7fab7fddee90>\n",
            "{'n_components': 4, 'random_state': 1}\n",
            "GaussianMixture(n_components=4, random_state=1)\n",
            "0.348215339271889\n",
            "\n",
            "<class 'tuple'>\n",
            "<class 'sklearn.preprocessing._data.StandardScaler'>,<class 'sklearn.mixture._gaussian_mixture.GaussianMixture'>,manhattan\n",
            "<__main__.GMMTune object at 0x7fab7fde4f50>\n",
            "{'n_components': 2, 'random_state': 1}\n",
            "GaussianMixture(n_components=2, random_state=1)\n",
            "0.3113334340909918\n",
            "\n",
            "<class 'tuple'>\n",
            "<class 'sklearn.preprocessing._data.RobustScaler'>,<class 'sklearn.mixture._gaussian_mixture.GaussianMixture'>,manhattan\n",
            "<__main__.GMMTune object at 0x7fab83383490>\n",
            "{'n_components': 2, 'random_state': 1}\n",
            "GaussianMixture(n_components=2, random_state=1)\n",
            "0.3591278921023939\n",
            "\n",
            "<class 'tuple'>\n",
            "<class 'sklearn.preprocessing._data.MaxAbsScaler'>,<class 'sklearn.mixture._gaussian_mixture.GaussianMixture'>,manhattan\n",
            "<__main__.GMMTune object at 0x7fab7fdde150>\n",
            "{'n_components': 2, 'random_state': 1}\n",
            "GaussianMixture(n_components=2, random_state=1)\n",
            "0.4669723875932077\n",
            "\n"
          ]
        }
      ]
    },
    {
      "cell_type": "code",
      "source": [
        "output.sort(key = lambda i:i[1].best_score_, reverse=True)\n",
        "for out in output:\n",
        "  print(out[0])\n",
        "  print(out[1])\n",
        "  print(out[1].best_params_)\n",
        "  print(out[1].best_model_)\n",
        "  print(out[1].best_score_)\n",
        "  print()\n"
      ],
      "metadata": {
        "colab": {
          "base_uri": "https://localhost:8080/"
        },
        "id": "fQ1QXxLs1uL6",
        "outputId": "edc3a12a-7771-4106-e778-18430f1a2dc7"
      },
      "execution_count": 28,
      "outputs": [
        {
          "output_type": "stream",
          "name": "stdout",
          "text": [
            "<class 'tuple'>\n",
            "<class 'sklearn.preprocessing._data.MaxAbsScaler'>,<class 'sklearn.cluster._dbscan.DBSCAN'>,manhattan\n",
            "<__main__.DbscanTune object at 0x7fab7fddebd0>\n",
            "{'eps': 0.5, 'min_samples': 5}\n",
            "DBSCAN()\n",
            "0.7324134020001599\n",
            "\n",
            "<class 'tuple'>\n",
            "None,<class 'sklearn.cluster._kmeans.KMeans'>,euclidean\n",
            "<__main__.KMeansTune object at 0x7fab83d06ad0>\n",
            "{'n_clusters': 2, 'init': 'k-means++', 'random_state': 1}\n",
            "KMeans(n_clusters=2, random_state=1)\n",
            "0.7210040149782818\n",
            "\n",
            "<class 'tuple'>\n",
            "None,<class 'sklearn.cluster._kmeans.KMeans'>,manhattan\n",
            "<__main__.KMeansTune object at 0x7fab834092d0>\n",
            "{'n_clusters': 2, 'init': 'k-means++', 'random_state': 1}\n",
            "KMeans(n_clusters=2, random_state=1)\n",
            "0.7200988688041795\n",
            "\n",
            "<class 'tuple'>\n",
            "<class 'sklearn.preprocessing._data.MaxAbsScaler'>,<class 'sklearn.cluster._dbscan.DBSCAN'>,euclidean\n",
            "<__main__.DbscanTune object at 0x7fab834c7810>\n",
            "{'eps': 0.5, 'min_samples': 5}\n",
            "DBSCAN()\n",
            "0.6549786048289512\n",
            "\n",
            "<class 'tuple'>\n",
            "<class 'sklearn.preprocessing._data.MaxAbsScaler'>,<class 'sklearn.cluster._kmeans.KMeans'>,euclidean\n",
            "<__main__.KMeansTune object at 0x7fab83341e90>\n",
            "{'n_clusters': 2, 'init': 'random', 'random_state': 1}\n",
            "KMeans(init='random', n_clusters=2, random_state=1)\n",
            "0.5359306775471181\n",
            "\n",
            "<class 'tuple'>\n",
            "<class 'sklearn.preprocessing._data.MaxAbsScaler'>,<class 'sklearn.mixture._gaussian_mixture.GaussianMixture'>,euclidean\n",
            "<__main__.GMMTune object at 0x7fab83522ad0>\n",
            "{'n_components': 2, 'random_state': 1}\n",
            "GaussianMixture(n_components=2, random_state=1)\n",
            "0.5357803276966964\n",
            "\n",
            "<class 'tuple'>\n",
            "None,<class 'sklearn.mixture._gaussian_mixture.GaussianMixture'>,manhattan\n",
            "<__main__.GMMTune object at 0x7fab7fdcc850>\n",
            "{'n_components': 2, 'random_state': 1}\n",
            "GaussianMixture(n_components=2, random_state=1)\n",
            "0.5218072609222483\n",
            "\n",
            "<class 'tuple'>\n",
            "None,<class 'sklearn.mixture._gaussian_mixture.GaussianMixture'>,euclidean\n",
            "<__main__.GMMTune object at 0x7fab83383050>\n",
            "{'n_components': 2, 'random_state': 1}\n",
            "GaussianMixture(n_components=2, random_state=1)\n",
            "0.5123767002602726\n",
            "\n",
            "<class 'tuple'>\n",
            "<class 'sklearn.preprocessing._data.RobustScaler'>,<class 'sklearn.cluster._kmeans.KMeans'>,manhattan\n",
            "<__main__.KMeansTune object at 0x7fab82eb4dd0>\n",
            "{'n_clusters': 2, 'init': 'random', 'random_state': 1}\n",
            "KMeans(init='random', n_clusters=2, random_state=1)\n",
            "0.5069440904345572\n",
            "\n",
            "<class 'tuple'>\n",
            "<class 'sklearn.preprocessing._data.RobustScaler'>,<class 'sklearn.cluster._kmeans.KMeans'>,euclidean\n",
            "<__main__.KMeansTune object at 0x7fab839e4d50>\n",
            "{'n_clusters': 2, 'init': 'random', 'random_state': 1}\n",
            "KMeans(init='random', n_clusters=2, random_state=1)\n",
            "0.4916006200712294\n",
            "\n",
            "<class 'tuple'>\n",
            "<class 'sklearn.preprocessing._data.MaxAbsScaler'>,<class 'sklearn.cluster._kmeans.KMeans'>,manhattan\n",
            "<__main__.KMeansTune object at 0x7fab8339bb90>\n",
            "{'n_clusters': 2, 'init': 'random', 'random_state': 1}\n",
            "KMeans(init='random', n_clusters=2, random_state=1)\n",
            "0.46712481654702165\n",
            "\n",
            "<class 'tuple'>\n",
            "<class 'sklearn.preprocessing._data.MaxAbsScaler'>,<class 'sklearn.mixture._gaussian_mixture.GaussianMixture'>,manhattan\n",
            "<__main__.GMMTune object at 0x7fab7fdde150>\n",
            "{'n_components': 2, 'random_state': 1}\n",
            "GaussianMixture(n_components=2, random_state=1)\n",
            "0.4669723875932077\n",
            "\n",
            "<class 'tuple'>\n",
            "<class 'sklearn.preprocessing._data.MinMaxScaler'>,<class 'sklearn.cluster._kmeans.KMeans'>,manhattan\n",
            "<__main__.KMeansTune object at 0x7fab83522850>\n",
            "{'n_clusters': 4, 'init': 'random', 'random_state': 1}\n",
            "KMeans(init='random', n_clusters=4, random_state=1)\n",
            "0.43472786819295645\n",
            "\n",
            "<class 'tuple'>\n",
            "<class 'sklearn.preprocessing._data.StandardScaler'>,<class 'sklearn.cluster._kmeans.KMeans'>,manhattan\n",
            "<__main__.KMeansTune object at 0x7fab8335b210>\n",
            "{'n_clusters': 2, 'init': 'random', 'random_state': 1}\n",
            "KMeans(init='random', n_clusters=2, random_state=1)\n",
            "0.4333519245235807\n",
            "\n",
            "<class 'tuple'>\n",
            "<class 'sklearn.preprocessing._data.MinMaxScaler'>,<class 'sklearn.cluster._kmeans.KMeans'>,euclidean\n",
            "<__main__.KMeansTune object at 0x7fab83a3ac50>\n",
            "{'n_clusters': 2, 'init': 'random', 'random_state': 1}\n",
            "KMeans(init='random', n_clusters=2, random_state=1)\n",
            "0.43256809655514894\n",
            "\n",
            "<class 'tuple'>\n",
            "<class 'sklearn.preprocessing._data.MinMaxScaler'>,<class 'sklearn.cluster._dbscan.DBSCAN'>,euclidean\n",
            "<__main__.DbscanTune object at 0x7fab835aaf90>\n",
            "{'eps': 0.5, 'min_samples': 5}\n",
            "DBSCAN()\n",
            "0.43175021469555946\n",
            "\n",
            "<class 'tuple'>\n",
            "<class 'sklearn.preprocessing._data.MinMaxScaler'>,<class 'sklearn.cluster._dbscan.DBSCAN'>,manhattan\n",
            "<__main__.DbscanTune object at 0x7fab83409550>\n",
            "{'eps': 0.5, 'min_samples': 5}\n",
            "DBSCAN()\n",
            "0.3945958817052869\n",
            "\n",
            "<class 'tuple'>\n",
            "<class 'sklearn.preprocessing._data.StandardScaler'>,<class 'sklearn.cluster._kmeans.KMeans'>,euclidean\n",
            "<__main__.KMeansTune object at 0x7fab833e2ed0>\n",
            "{'n_clusters': 2, 'init': 'random', 'random_state': 1}\n",
            "KMeans(init='random', n_clusters=2, random_state=1)\n",
            "0.3927036912683831\n",
            "\n",
            "<class 'tuple'>\n",
            "<class 'sklearn.preprocessing._data.RobustScaler'>,<class 'sklearn.mixture._gaussian_mixture.GaussianMixture'>,manhattan\n",
            "<__main__.GMMTune object at 0x7fab83383490>\n",
            "{'n_components': 2, 'random_state': 1}\n",
            "GaussianMixture(n_components=2, random_state=1)\n",
            "0.3591278921023939\n",
            "\n",
            "<class 'tuple'>\n",
            "<class 'sklearn.preprocessing._data.MinMaxScaler'>,<class 'sklearn.mixture._gaussian_mixture.GaussianMixture'>,manhattan\n",
            "<__main__.GMMTune object at 0x7fab7fddee90>\n",
            "{'n_components': 4, 'random_state': 1}\n",
            "GaussianMixture(n_components=4, random_state=1)\n",
            "0.348215339271889\n",
            "\n",
            "<class 'tuple'>\n",
            "<class 'sklearn.preprocessing._data.RobustScaler'>,<class 'sklearn.mixture._gaussian_mixture.GaussianMixture'>,euclidean\n",
            "<__main__.GMMTune object at 0x7fab83a29a50>\n",
            "{'n_components': 2, 'random_state': 1}\n",
            "GaussianMixture(n_components=2, random_state=1)\n",
            "0.34316976051336756\n",
            "\n",
            "<class 'tuple'>\n",
            "<class 'sklearn.preprocessing._data.MinMaxScaler'>,<class 'sklearn.mixture._gaussian_mixture.GaussianMixture'>,euclidean\n",
            "<__main__.GMMTune object at 0x7fab8338d7d0>\n",
            "{'n_components': 4, 'random_state': 1}\n",
            "GaussianMixture(n_components=4, random_state=1)\n",
            "0.3156137490997276\n",
            "\n",
            "<class 'tuple'>\n",
            "<class 'sklearn.preprocessing._data.StandardScaler'>,<class 'sklearn.mixture._gaussian_mixture.GaussianMixture'>,manhattan\n",
            "<__main__.GMMTune object at 0x7fab7fde4f50>\n",
            "{'n_components': 2, 'random_state': 1}\n",
            "GaussianMixture(n_components=2, random_state=1)\n",
            "0.3113334340909918\n",
            "\n",
            "<class 'tuple'>\n",
            "<class 'sklearn.preprocessing._data.StandardScaler'>,<class 'sklearn.mixture._gaussian_mixture.GaussianMixture'>,euclidean\n",
            "<__main__.GMMTune object at 0x7fab83383bd0>\n",
            "{'n_components': 2, 'random_state': 1}\n",
            "GaussianMixture(n_components=2, random_state=1)\n",
            "0.28846474453023013\n",
            "\n",
            "<class 'tuple'>\n",
            "<class 'sklearn.preprocessing._data.RobustScaler'>,<class 'sklearn.cluster._dbscan.DBSCAN'>,euclidean\n",
            "<__main__.DbscanTune object at 0x7fab836fd410>\n",
            "{'eps': 0.1, 'min_samples': 4}\n",
            "DBSCAN(eps=0.1, min_samples=4)\n",
            "-0.219237234612725\n",
            "\n",
            "<class 'tuple'>\n",
            "<class 'sklearn.preprocessing._data.RobustScaler'>,<class 'sklearn.cluster._dbscan.DBSCAN'>,manhattan\n",
            "<__main__.DbscanTune object at 0x7fab83522690>\n",
            "{'eps': 0.1, 'min_samples': 4}\n",
            "DBSCAN(eps=0.1, min_samples=4)\n",
            "-0.23718634499799363\n",
            "\n",
            "<class 'tuple'>\n",
            "<class 'sklearn.preprocessing._data.StandardScaler'>,<class 'sklearn.cluster._dbscan.DBSCAN'>,euclidean\n",
            "<__main__.DbscanTune object at 0x7fab836fd850>\n",
            "{'eps': 0.1, 'min_samples': 4}\n",
            "DBSCAN(eps=0.1, min_samples=4)\n",
            "-0.31547070581665454\n",
            "\n",
            "<class 'tuple'>\n",
            "<class 'sklearn.preprocessing._data.StandardScaler'>,<class 'sklearn.cluster._dbscan.DBSCAN'>,manhattan\n",
            "<__main__.DbscanTune object at 0x7fab8339bd90>\n",
            "{'eps': 0.1, 'min_samples': 4}\n",
            "DBSCAN(eps=0.1, min_samples=4)\n",
            "-0.36015216915415704\n",
            "\n",
            "<class 'tuple'>\n",
            "None,<class 'sklearn.cluster._dbscan.DBSCAN'>,euclidean\n",
            "<__main__.DbscanTune object at 0x7fab834c7610>\n",
            "{'eps': 0.5, 'min_samples': 5}\n",
            "DBSCAN()\n",
            "-1.0\n",
            "\n",
            "<class 'tuple'>\n",
            "None,<class 'sklearn.cluster._dbscan.DBSCAN'>,manhattan\n",
            "<__main__.DbscanTune object at 0x7fab82eb4850>\n",
            "{'eps': 0.5, 'min_samples': 5}\n",
            "DBSCAN()\n",
            "-1.0\n",
            "\n"
          ]
        }
      ]
    },
    {
      "cell_type": "markdown",
      "source": [
        "# Creating cluster with median_house_value"
      ],
      "metadata": {
        "id": "PVHVw5En19uo"
      }
    },
    {
      "cell_type": "code",
      "source": [
        "def result_vs_cluster_with_median_house_value():\n",
        "  df_with_median = df_src.copy()\n",
        "  # Drop any with how=any\n",
        "  df_with_median.dropna(how='any', inplace=True)\n",
        "  df_with_median.reset_index(drop=True, inplace=True)\n",
        "  n_df = df_with_median['median_house_value'].copy().sort_values()\n",
        "  n_df.reset_index(drop=True,inplace=True)\n",
        "  n = 20433\n",
        "  q1 = int((0.3333 * (n + 1)) - 1)\n",
        "  q2 = int((0.6666 * (n + 1)) - 1)\n",
        "  df['target'] = np.nan\n",
        "  print(q1)\n",
        "  print(q2)\n",
        "  print(n_df[q1])\n",
        "  print(n_df[q2])\n",
        "  df_with_median['target'] = np.nan\n",
        "  df_with_median.loc[df_with_median['median_house_value'] < 141300, 'target'] = 'cheap'\n",
        "  df_with_median.loc[df_with_median['target'] != ('cheap'), 'target'] = 'normal'\n",
        "  df_with_median.loc[df_with_median['median_house_value'] > 230200, 'target'] = 'expensive'\n",
        "  df_with_median.drop(['median_house_value'], axis=1, inplace=True)\n",
        "  df_with_median['ocean_proximity'] = encoder.fit_transform(df_with_median['ocean_proximity'])\n",
        "  df_with_median['target'] = encoder.fit_transform(df_with_median['target'])\n",
        "  print(df_with_median['ocean_proximity'].value_counts())\n",
        "  print(df_with_median['target'].value_counts())\n",
        "  # 비주얼라이징만만 추가되면면 된다다..\n"
      ],
      "metadata": {
        "id": "5yrsdDd-5ynD"
      },
      "execution_count": 92,
      "outputs": []
    },
    {
      "cell_type": "code",
      "source": [
        "result_vs_cluster_with_median_house_value()"
      ],
      "metadata": {
        "colab": {
          "base_uri": "https://localhost:8080/"
        },
        "id": "stmDMUMU_9H2",
        "outputId": "26605507-afaf-42dc-df2c-ea225819946e"
      },
      "execution_count": 93,
      "outputs": [
        {
          "output_type": "stream",
          "name": "stdout",
          "text": [
            "6809\n",
            "13620\n",
            "141300.0\n",
            "230200.0\n",
            "0    9034\n",
            "1    6496\n",
            "4    2628\n",
            "3    2270\n",
            "2       5\n",
            "Name: ocean_proximity, dtype: int64\n",
            "2    6819\n",
            "1    6812\n",
            "0    6802\n",
            "Name: target, dtype: int64\n"
          ]
        }
      ]
    }
  ]
}