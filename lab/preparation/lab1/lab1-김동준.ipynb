{
 "cells": [
  {
   "cell_type": "code",
   "execution_count": 4,
   "metadata": {
    "collapsed": true,
    "pycharm": {
     "name": "#%%\n"
    }
   },
   "outputs": [
    {
     "name": "stdout",
     "output_type": "stream",
     "text": [
      "     Code Number  Clump Thickness  Uniformity of Cell Size  \\\n",
      "0        1002945                5                        4   \n",
      "1        1015425                3                        1   \n",
      "2        1016277                6                        8   \n",
      "3        1017023                4                        1   \n",
      "4        1017122                8                       10   \n",
      "..           ...              ...                      ...   \n",
      "693       776715                3                        1   \n",
      "694       841769                2                        1   \n",
      "695       888820                5                       10   \n",
      "696       897471                4                        8   \n",
      "697       897471                4                        8   \n",
      "\n",
      "     Uniformity of Cell Shape  Marginal Adhesion  Single Epithelial Cell Size  \\\n",
      "0                           4                  5                            7   \n",
      "1                           1                  1                            2   \n",
      "2                           8                  1                            3   \n",
      "3                           1                  3                            2   \n",
      "4                          10                  8                            7   \n",
      "..                        ...                ...                          ...   \n",
      "693                         1                  1                            3   \n",
      "694                         1                  1                            2   \n",
      "695                        10                  3                            7   \n",
      "696                         6                  4                            3   \n",
      "697                         8                  5                            4   \n",
      "\n",
      "    Bare Nuclei  Bland Chromatin  Normal Nucleoli  Mitoses  Class  \n",
      "0            10                3                2        1      2  \n",
      "1             2                3                1        1      2  \n",
      "2             4                3                7        1      2  \n",
      "3             1                3                1        1      2  \n",
      "4            10                9                7        1      4  \n",
      "..          ...              ...              ...      ...    ...  \n",
      "693           2                1                1        1      2  \n",
      "694           1                1                1        1      2  \n",
      "695           3                8               10        2      4  \n",
      "696           4               10                6        1      4  \n",
      "697           5               10                4        1      4  \n",
      "\n",
      "[698 rows x 11 columns]\n"
     ]
    }
   ],
   "source": [
    "import numpy as np\n",
    "import sklearn\n",
    "\n",
    "from sklearn.preprocessing import StandardScaler\n",
    "from sklearn.preprocessing import MinMaxScaler\n",
    "from sklearn.preprocessing import RobustScaler\n",
    "from sklearn.preprocessing import LabelEncoder\n",
    "\n",
    "\n",
    "from sklearn.tree import DecisionTreeClassifier # criterion = gini, entropy\n",
    "from sklearn.model_selection import train_test_split\n",
    "from sklearn.linear_model import LogisticRegression\n",
    "from sklearn import svm\n",
    "from sklearn.model_selection import GridSearchCV\n",
    "import pandas as pd\n",
    "\n",
    "data = pd.read_csv(\"breast-cancer-wisconsin.data\")\n",
    "data.columns = [\"Code Number\", \"Clump Thickness\", \"Uniformity of Cell Size\", \"Uniformity of Cell Shape\", \"Marginal Adhesion\", \"Single Epithelial Cell Size\", \"Bare Nuclei\", \"Bland Chromatin\", \"Normal Nucleoli\", \"Mitoses\", \"Class\"]\n",
    "print(data)"
   ]
  },
  {
   "cell_type": "code",
   "execution_count": 5,
   "outputs": [
    {
     "name": "stdout",
     "output_type": "stream",
     "text": [
      "     Clump Thickness  Uniformity of Cell Size  Uniformity of Cell Shape  \\\n",
      "0                  5                        4                         4   \n",
      "1                  3                        1                         1   \n",
      "2                  6                        8                         8   \n",
      "3                  4                        1                         1   \n",
      "4                  8                       10                        10   \n",
      "..               ...                      ...                       ...   \n",
      "693                3                        1                         1   \n",
      "694                2                        1                         1   \n",
      "695                5                       10                        10   \n",
      "696                4                        8                         6   \n",
      "697                4                        8                         8   \n",
      "\n",
      "     Marginal Adhesion  Single Epithelial Cell Size Bare Nuclei  \\\n",
      "0                    5                            7          10   \n",
      "1                    1                            2           2   \n",
      "2                    1                            3           4   \n",
      "3                    3                            2           1   \n",
      "4                    8                            7          10   \n",
      "..                 ...                          ...         ...   \n",
      "693                  1                            3           2   \n",
      "694                  1                            2           1   \n",
      "695                  3                            7           3   \n",
      "696                  4                            3           4   \n",
      "697                  5                            4           5   \n",
      "\n",
      "     Bland Chromatin  Normal Nucleoli  Mitoses  \n",
      "0                  3                2        1  \n",
      "1                  3                1        1  \n",
      "2                  3                7        1  \n",
      "3                  3                1        1  \n",
      "4                  9                7        1  \n",
      "..               ...              ...      ...  \n",
      "693                1                1        1  \n",
      "694                1                1        1  \n",
      "695                8               10        2  \n",
      "696               10                6        1  \n",
      "697               10                4        1  \n",
      "\n",
      "[682 rows x 9 columns] 0      0\n",
      "1      0\n",
      "2      0\n",
      "3      0\n",
      "4      1\n",
      "      ..\n",
      "693    0\n",
      "694    0\n",
      "695    1\n",
      "696    1\n",
      "697    1\n",
      "Name: Class, Length: 682, dtype: int64\n"
     ]
    }
   ],
   "source": [
    "data.drop([\"Code Number\"], axis=1, inplace=True)\n",
    "data.drop( data[ (data['Bare Nuclei'] == '?')].index, inplace=True)\n",
    "data.at[data[data['Class'] == 2].index, 'Class'] = 0\n",
    "data.at[data[data['Class'] == 4].index, 'Class'] = 1\n",
    "\n",
    "\n",
    "X = pd.DataFrame(data.iloc[:,0:9])\n",
    "Y = data.iloc[:,9]\n",
    "\n",
    "\n",
    "def get_best_combination(X, Y):\n",
    "\n",
    "\n",
    "\n",
    "get_best_combination(X,Y)"
   ],
   "metadata": {
    "collapsed": false,
    "pycharm": {
     "name": "#%%\n"
    }
   }
  }
 ],
 "metadata": {
  "kernelspec": {
   "display_name": "Python 3",
   "language": "python",
   "name": "python3"
  },
  "language_info": {
   "codemirror_mode": {
    "name": "ipython",
    "version": 2
   },
   "file_extension": ".py",
   "mimetype": "text/x-python",
   "name": "python",
   "nbconvert_exporter": "python",
   "pygments_lexer": "ipython2",
   "version": "2.7.6"
  }
 },
 "nbformat": 4,
 "nbformat_minor": 0
}