{
 "cells": [
  {
   "cell_type": "code",
   "execution_count": 2,
   "metadata": {
    "collapsed": true,
    "pycharm": {
     "name": "#%%\n"
    }
   },
   "outputs": [
    {
     "name": "stdout",
     "output_type": "stream",
     "text": [
      "     Code Number  Clump Thickness  Uniformity of Cell Size  \\\n",
      "0        1002945                5                        4   \n",
      "1        1015425                3                        1   \n",
      "2        1016277                6                        8   \n",
      "3        1017023                4                        1   \n",
      "4        1017122                8                       10   \n",
      "..           ...              ...                      ...   \n",
      "693       776715                3                        1   \n",
      "694       841769                2                        1   \n",
      "695       888820                5                       10   \n",
      "696       897471                4                        8   \n",
      "697       897471                4                        8   \n",
      "\n",
      "     Uniformity of Cell Shape  Marginal Adhesion  Single Epithelial Cell Size  \\\n",
      "0                           4                  5                            7   \n",
      "1                           1                  1                            2   \n",
      "2                           8                  1                            3   \n",
      "3                           1                  3                            2   \n",
      "4                          10                  8                            7   \n",
      "..                        ...                ...                          ...   \n",
      "693                         1                  1                            3   \n",
      "694                         1                  1                            2   \n",
      "695                        10                  3                            7   \n",
      "696                         6                  4                            3   \n",
      "697                         8                  5                            4   \n",
      "\n",
      "     Bare Nuclei  Bland Chromatin  Normal Nucleoli  Mitoses  Class  \n",
      "0           10.0                3                2        1      2  \n",
      "1            2.0                3                1        1      2  \n",
      "2            4.0                3                7        1      2  \n",
      "3            1.0                3                1        1      2  \n",
      "4           10.0                9                7        1      4  \n",
      "..           ...              ...              ...      ...    ...  \n",
      "693          2.0                1                1        1      2  \n",
      "694          1.0                1                1        1      2  \n",
      "695          3.0                8               10        2      4  \n",
      "696          4.0               10                6        1      4  \n",
      "697          5.0               10                4        1      4  \n",
      "\n",
      "[698 rows x 11 columns]\n"
     ]
    }
   ],
   "source": [
    "import numpy as np\n",
    "import sklearn\n",
    "\n",
    "from sklearn.preprocessing import StandardScaler\n",
    "from sklearn.preprocessing import MinMaxScaler\n",
    "from sklearn.preprocessing import RobustScaler\n",
    "from sklearn.preprocessing import LabelEncoder\n",
    "\n",
    "\n",
    "from sklearn.tree import DecisionTreeClassifier # criterion = gini, entropy\n",
    "from sklearn.model_selection import train_test_split\n",
    "from sklearn.linear_model import LogisticRegression\n",
    "from sklearn import svm\n",
    "from sklearn.model_selection import GridSearchCV\n",
    "import pandas as pd\n",
    "missing_values = [\"?\"]\n",
    "\n",
    "data = pd.read_csv(\"breast-cancer-wisconsin.data\", na_values=missing_values)\n",
    "data.columns = [\"Code Number\", \"Clump Thickness\", \"Uniformity of Cell Size\", \"Uniformity of Cell Shape\", \"Marginal Adhesion\", \"Single Epithelial Cell Size\", \"Bare Nuclei\", \"Bland Chromatin\", \"Normal Nucleoli\", \"Mitoses\", \"Class\"]\n",
    "print(data)"
   ]
  },
  {
   "cell_type": "code",
   "execution_count": 3,
   "outputs": [
    {
     "data": {
      "text/plain": "        Code Number  Clump Thickness  Uniformity of Cell Size  \\\ncount  6.980000e+02       698.000000               698.000000   \nmean   1.071807e+06         4.416905                 3.137536   \nstd    6.175323e+05         2.817673                 3.052575   \nmin    6.163400e+04         1.000000                 1.000000   \n25%    8.702582e+05         2.000000                 1.000000   \n50%    1.171710e+06         4.000000                 1.000000   \n75%    1.238354e+06         6.000000                 5.000000   \nmax    1.345435e+07        10.000000                10.000000   \n\n       Uniformity of Cell Shape  Marginal Adhesion  \\\ncount                698.000000         698.000000   \nmean                   3.210602           2.809456   \nstd                    2.972867           2.856606   \nmin                    1.000000           1.000000   \n25%                    1.000000           1.000000   \n50%                    1.000000           1.000000   \n75%                    5.000000           4.000000   \nmax                   10.000000          10.000000   \n\n       Single Epithelial Cell Size  Bare Nuclei  Bland Chromatin  \\\ncount                   698.000000   682.000000       698.000000   \nmean                      3.217765     3.548387         3.438395   \nstd                       2.215408     3.645226         2.440056   \nmin                       1.000000     1.000000         1.000000   \n25%                       2.000000     1.000000         2.000000   \n50%                       2.000000     1.000000         3.000000   \n75%                       4.000000     6.000000         5.000000   \nmax                      10.000000    10.000000        10.000000   \n\n       Normal Nucleoli     Mitoses       Class  \ncount       698.000000  698.000000  698.000000  \nmean          2.869628    1.590258    2.690544  \nstd           3.055004    1.716162    0.951596  \nmin           1.000000    1.000000    2.000000  \n25%           1.000000    1.000000    2.000000  \n50%           1.000000    1.000000    2.000000  \n75%           4.000000    1.000000    4.000000  \nmax          10.000000   10.000000    4.000000  ",
      "text/html": "<div>\n<style scoped>\n    .dataframe tbody tr th:only-of-type {\n        vertical-align: middle;\n    }\n\n    .dataframe tbody tr th {\n        vertical-align: top;\n    }\n\n    .dataframe thead th {\n        text-align: right;\n    }\n</style>\n<table border=\"1\" class=\"dataframe\">\n  <thead>\n    <tr style=\"text-align: right;\">\n      <th></th>\n      <th>Code Number</th>\n      <th>Clump Thickness</th>\n      <th>Uniformity of Cell Size</th>\n      <th>Uniformity of Cell Shape</th>\n      <th>Marginal Adhesion</th>\n      <th>Single Epithelial Cell Size</th>\n      <th>Bare Nuclei</th>\n      <th>Bland Chromatin</th>\n      <th>Normal Nucleoli</th>\n      <th>Mitoses</th>\n      <th>Class</th>\n    </tr>\n  </thead>\n  <tbody>\n    <tr>\n      <th>count</th>\n      <td>6.980000e+02</td>\n      <td>698.000000</td>\n      <td>698.000000</td>\n      <td>698.000000</td>\n      <td>698.000000</td>\n      <td>698.000000</td>\n      <td>682.000000</td>\n      <td>698.000000</td>\n      <td>698.000000</td>\n      <td>698.000000</td>\n      <td>698.000000</td>\n    </tr>\n    <tr>\n      <th>mean</th>\n      <td>1.071807e+06</td>\n      <td>4.416905</td>\n      <td>3.137536</td>\n      <td>3.210602</td>\n      <td>2.809456</td>\n      <td>3.217765</td>\n      <td>3.548387</td>\n      <td>3.438395</td>\n      <td>2.869628</td>\n      <td>1.590258</td>\n      <td>2.690544</td>\n    </tr>\n    <tr>\n      <th>std</th>\n      <td>6.175323e+05</td>\n      <td>2.817673</td>\n      <td>3.052575</td>\n      <td>2.972867</td>\n      <td>2.856606</td>\n      <td>2.215408</td>\n      <td>3.645226</td>\n      <td>2.440056</td>\n      <td>3.055004</td>\n      <td>1.716162</td>\n      <td>0.951596</td>\n    </tr>\n    <tr>\n      <th>min</th>\n      <td>6.163400e+04</td>\n      <td>1.000000</td>\n      <td>1.000000</td>\n      <td>1.000000</td>\n      <td>1.000000</td>\n      <td>1.000000</td>\n      <td>1.000000</td>\n      <td>1.000000</td>\n      <td>1.000000</td>\n      <td>1.000000</td>\n      <td>2.000000</td>\n    </tr>\n    <tr>\n      <th>25%</th>\n      <td>8.702582e+05</td>\n      <td>2.000000</td>\n      <td>1.000000</td>\n      <td>1.000000</td>\n      <td>1.000000</td>\n      <td>2.000000</td>\n      <td>1.000000</td>\n      <td>2.000000</td>\n      <td>1.000000</td>\n      <td>1.000000</td>\n      <td>2.000000</td>\n    </tr>\n    <tr>\n      <th>50%</th>\n      <td>1.171710e+06</td>\n      <td>4.000000</td>\n      <td>1.000000</td>\n      <td>1.000000</td>\n      <td>1.000000</td>\n      <td>2.000000</td>\n      <td>1.000000</td>\n      <td>3.000000</td>\n      <td>1.000000</td>\n      <td>1.000000</td>\n      <td>2.000000</td>\n    </tr>\n    <tr>\n      <th>75%</th>\n      <td>1.238354e+06</td>\n      <td>6.000000</td>\n      <td>5.000000</td>\n      <td>5.000000</td>\n      <td>4.000000</td>\n      <td>4.000000</td>\n      <td>6.000000</td>\n      <td>5.000000</td>\n      <td>4.000000</td>\n      <td>1.000000</td>\n      <td>4.000000</td>\n    </tr>\n    <tr>\n      <th>max</th>\n      <td>1.345435e+07</td>\n      <td>10.000000</td>\n      <td>10.000000</td>\n      <td>10.000000</td>\n      <td>10.000000</td>\n      <td>10.000000</td>\n      <td>10.000000</td>\n      <td>10.000000</td>\n      <td>10.000000</td>\n      <td>10.000000</td>\n      <td>4.000000</td>\n    </tr>\n  </tbody>\n</table>\n</div>"
     },
     "execution_count": 3,
     "metadata": {},
     "output_type": "execute_result"
    }
   ],
   "source": [
    "data.describe()"
   ],
   "metadata": {
    "collapsed": false,
    "pycharm": {
     "name": "#%%\n"
    }
   }
  },
  {
   "cell_type": "code",
   "execution_count": 4,
   "outputs": [
    {
     "name": "stdout",
     "output_type": "stream",
     "text": [
      "<class 'pandas.core.frame.DataFrame'>\n",
      "RangeIndex: 698 entries, 0 to 697\n",
      "Data columns (total 11 columns):\n",
      " #   Column                       Non-Null Count  Dtype  \n",
      "---  ------                       --------------  -----  \n",
      " 0   Code Number                  698 non-null    int64  \n",
      " 1   Clump Thickness              698 non-null    int64  \n",
      " 2   Uniformity of Cell Size      698 non-null    int64  \n",
      " 3   Uniformity of Cell Shape     698 non-null    int64  \n",
      " 4   Marginal Adhesion            698 non-null    int64  \n",
      " 5   Single Epithelial Cell Size  698 non-null    int64  \n",
      " 6   Bare Nuclei                  682 non-null    float64\n",
      " 7   Bland Chromatin              698 non-null    int64  \n",
      " 8   Normal Nucleoli              698 non-null    int64  \n",
      " 9   Mitoses                      698 non-null    int64  \n",
      " 10  Class                        698 non-null    int64  \n",
      "dtypes: float64(1), int64(10)\n",
      "memory usage: 60.1 KB\n"
     ]
    }
   ],
   "source": [
    "data.info()"
   ],
   "metadata": {
    "collapsed": false,
    "pycharm": {
     "name": "#%%\n"
    }
   }
  },
  {
   "cell_type": "code",
   "execution_count": 5,
   "outputs": [
    {
     "data": {
      "text/plain": "Code Number                     0\nClump Thickness                 0\nUniformity of Cell Size         0\nUniformity of Cell Shape        0\nMarginal Adhesion               0\nSingle Epithelial Cell Size     0\nBare Nuclei                    16\nBland Chromatin                 0\nNormal Nucleoli                 0\nMitoses                         0\nClass                           0\ndtype: int64"
     },
     "execution_count": 5,
     "metadata": {},
     "output_type": "execute_result"
    }
   ],
   "source": [
    "data.isna().sum()"
   ],
   "metadata": {
    "collapsed": false,
    "pycharm": {
     "name": "#%%\n"
    }
   }
  },
  {
   "cell_type": "code",
   "execution_count": 6,
   "outputs": [
    {
     "name": "stdout",
     "output_type": "stream",
     "text": [
      "<class 'pandas.core.frame.DataFrame'>\n",
      "RangeIndex: 698 entries, 0 to 697\n",
      "Data columns (total 11 columns):\n",
      " #   Column                       Non-Null Count  Dtype  \n",
      "---  ------                       --------------  -----  \n",
      " 0   Code Number                  698 non-null    int64  \n",
      " 1   Clump Thickness              698 non-null    int64  \n",
      " 2   Uniformity of Cell Size      698 non-null    int64  \n",
      " 3   Uniformity of Cell Shape     698 non-null    int64  \n",
      " 4   Marginal Adhesion            698 non-null    int64  \n",
      " 5   Single Epithelial Cell Size  698 non-null    int64  \n",
      " 6   Bare Nuclei                  698 non-null    float64\n",
      " 7   Bland Chromatin              698 non-null    int64  \n",
      " 8   Normal Nucleoli              698 non-null    int64  \n",
      " 9   Mitoses                      698 non-null    int64  \n",
      " 10  Class                        698 non-null    int64  \n",
      "dtypes: float64(1), int64(10)\n",
      "memory usage: 60.1 KB\n"
     ]
    }
   ],
   "source": [
    "data.fillna(axis=0, method=\"ffill\", inplace=True)\n",
    "data.info()\n"
   ],
   "metadata": {
    "collapsed": false,
    "pycharm": {
     "name": "#%%\n"
    }
   }
  }
 ],
 "metadata": {
  "kernelspec": {
   "display_name": "Python 3",
   "language": "python",
   "name": "python3"
  },
  "language_info": {
   "codemirror_mode": {
    "name": "ipython",
    "version": 2
   },
   "file_extension": ".py",
   "mimetype": "text/x-python",
   "name": "python",
   "nbconvert_exporter": "python",
   "pygments_lexer": "ipython2",
   "version": "2.7.6"
  }
 },
 "nbformat": 4,
 "nbformat_minor": 0
}