{
  "nbformat": 4,
  "nbformat_minor": 0,
  "metadata": {
    "colab": {
      "provenance": [],
      "collapsed_sections": []
    },
    "kernelspec": {
      "name": "python3",
      "display_name": "Python 3"
    },
    "language_info": {
      "name": "python"
    }
  },
  "cells": [
    {
      "cell_type": "code",
      "execution_count": 118,
      "metadata": {
        "colab": {
          "base_uri": "https://localhost:8080/"
        },
        "id": "ks_2HLi5YqvE",
        "outputId": "a1cfb472-b590-4b7e-b23b-936d94ca0a2a"
      },
      "outputs": [
        {
          "output_type": "stream",
          "name": "stdout",
          "text": [
            "Drive already mounted at /content/drive; to attempt to forcibly remount, call drive.mount(\"/content/drive\", force_remount=True).\n"
          ]
        }
      ],
      "source": [
        "from google.colab import drive\n",
        "drive.mount('/content/drive')"
      ]
    },
    {
      "cell_type": "code",
      "source": [
        "# /content/drive/MyDrive/machine_learning/data/breast-cancer-wisconsin.data\n",
        "import pandas as pd\n",
        "import numpy as np\n",
        "\n",
        "from sklearn.preprocessing import StandardScaler\n",
        "from sklearn.preprocessing import MinMaxScaler\n",
        "from sklearn.tree import DecisionTreeClassifier\n",
        "from sklearn.linear_model import LogisticRegression\n",
        "from sklearn.svm import SVC\n",
        "\n",
        "from sklearn.model_selection import KFold\n",
        "from sklearn.model_selection import GridSearchCV\n",
        "from sklearn.model_selection import cross_val_score\n",
        "from sklearn.model_selection import train_test_split\n",
        "\n",
        "\n",
        "missing_values = [\"?\"]\n",
        "\n",
        "df = pd.read_csv(\"/content/drive/MyDrive/machine_learning/data/breast-cancer-wisconsin.data\", na_values=missing_values)\n",
        "# df = pd.read_csv(\"/content/drive/MyDrive/machine_learning/data/breast-cancer-wisconsin.data\")\n",
        "columns = [\n",
        "'Simple code number',\n",
        "'Clump Thickness',\n",
        "'Uniformity of Cell Size',\n",
        "'Uniformity of Cell Shape',\n",
        "'Marginal Adhesion',\n",
        "'Single Epithelial Cell Size',\n",
        "'Bare Nuclei',\n",
        "'Bland Chromatin',\n",
        "'Normal Nucleoli',\n",
        "'Mitoses',\n",
        "'Class'\n",
        "]\n",
        "df.columns = columns\n",
        "print(df)\n"
      ],
      "metadata": {
        "colab": {
          "base_uri": "https://localhost:8080/"
        },
        "id": "tXfs6Juya0uv",
        "outputId": "55242a08-082c-436e-c705-c9bb3eed063f"
      },
      "execution_count": 119,
      "outputs": [
        {
          "output_type": "stream",
          "name": "stdout",
          "text": [
            "     Simple code number  Clump Thickness  Uniformity of Cell Size  \\\n",
            "0               1002945                5                        4   \n",
            "1               1015425                3                        1   \n",
            "2               1016277                6                        8   \n",
            "3               1017023                4                        1   \n",
            "4               1017122                8                       10   \n",
            "..                  ...              ...                      ...   \n",
            "693              776715                3                        1   \n",
            "694              841769                2                        1   \n",
            "695              888820                5                       10   \n",
            "696              897471                4                        8   \n",
            "697              897471                4                        8   \n",
            "\n",
            "     Uniformity of Cell Shape  Marginal Adhesion  Single Epithelial Cell Size  \\\n",
            "0                           4                  5                            7   \n",
            "1                           1                  1                            2   \n",
            "2                           8                  1                            3   \n",
            "3                           1                  3                            2   \n",
            "4                          10                  8                            7   \n",
            "..                        ...                ...                          ...   \n",
            "693                         1                  1                            3   \n",
            "694                         1                  1                            2   \n",
            "695                        10                  3                            7   \n",
            "696                         6                  4                            3   \n",
            "697                         8                  5                            4   \n",
            "\n",
            "     Bare Nuclei  Bland Chromatin  Normal Nucleoli  Mitoses  Class  \n",
            "0           10.0                3                2        1      2  \n",
            "1            2.0                3                1        1      2  \n",
            "2            4.0                3                7        1      2  \n",
            "3            1.0                3                1        1      2  \n",
            "4           10.0                9                7        1      4  \n",
            "..           ...              ...              ...      ...    ...  \n",
            "693          2.0                1                1        1      2  \n",
            "694          1.0                1                1        1      2  \n",
            "695          3.0                8               10        2      4  \n",
            "696          4.0               10                6        1      4  \n",
            "697          5.0               10                4        1      4  \n",
            "\n",
            "[698 rows x 11 columns]\n"
          ]
        }
      ]
    },
    {
      "cell_type": "code",
      "source": [
        "print(df.info())"
      ],
      "metadata": {
        "colab": {
          "base_uri": "https://localhost:8080/"
        },
        "id": "UB2b8TzxlCqd",
        "outputId": "273c35ad-510f-4506-ec6d-45e85e353756"
      },
      "execution_count": 120,
      "outputs": [
        {
          "output_type": "stream",
          "name": "stdout",
          "text": [
            "<class 'pandas.core.frame.DataFrame'>\n",
            "RangeIndex: 698 entries, 0 to 697\n",
            "Data columns (total 11 columns):\n",
            " #   Column                       Non-Null Count  Dtype  \n",
            "---  ------                       --------------  -----  \n",
            " 0   Simple code number           698 non-null    int64  \n",
            " 1   Clump Thickness              698 non-null    int64  \n",
            " 2   Uniformity of Cell Size      698 non-null    int64  \n",
            " 3   Uniformity of Cell Shape     698 non-null    int64  \n",
            " 4   Marginal Adhesion            698 non-null    int64  \n",
            " 5   Single Epithelial Cell Size  698 non-null    int64  \n",
            " 6   Bare Nuclei                  682 non-null    float64\n",
            " 7   Bland Chromatin              698 non-null    int64  \n",
            " 8   Normal Nucleoli              698 non-null    int64  \n",
            " 9   Mitoses                      698 non-null    int64  \n",
            " 10  Class                        698 non-null    int64  \n",
            "dtypes: float64(1), int64(10)\n",
            "memory usage: 60.1 KB\n",
            "None\n"
          ]
        }
      ]
    },
    {
      "cell_type": "code",
      "source": [
        "df.isna().sum()"
      ],
      "metadata": {
        "colab": {
          "base_uri": "https://localhost:8080/"
        },
        "id": "W5GCD0vhlIBE",
        "outputId": "c1fa93ee-77d1-455f-aa04-c0400fd6aa16"
      },
      "execution_count": 121,
      "outputs": [
        {
          "output_type": "execute_result",
          "data": {
            "text/plain": [
              "Simple code number              0\n",
              "Clump Thickness                 0\n",
              "Uniformity of Cell Size         0\n",
              "Uniformity of Cell Shape        0\n",
              "Marginal Adhesion               0\n",
              "Single Epithelial Cell Size     0\n",
              "Bare Nuclei                    16\n",
              "Bland Chromatin                 0\n",
              "Normal Nucleoli                 0\n",
              "Mitoses                         0\n",
              "Class                           0\n",
              "dtype: int64"
            ]
          },
          "metadata": {},
          "execution_count": 121
        }
      ]
    },
    {
      "cell_type": "code",
      "source": [
        "df.dropna(axis=0, inplace = True)\n",
        "print(df.info())"
      ],
      "metadata": {
        "colab": {
          "base_uri": "https://localhost:8080/"
        },
        "id": "53CIfBallKkA",
        "outputId": "feba9493-e3dc-4ddb-e3b3-476b80148129"
      },
      "execution_count": 122,
      "outputs": [
        {
          "output_type": "stream",
          "name": "stdout",
          "text": [
            "<class 'pandas.core.frame.DataFrame'>\n",
            "Int64Index: 682 entries, 0 to 697\n",
            "Data columns (total 11 columns):\n",
            " #   Column                       Non-Null Count  Dtype  \n",
            "---  ------                       --------------  -----  \n",
            " 0   Simple code number           682 non-null    int64  \n",
            " 1   Clump Thickness              682 non-null    int64  \n",
            " 2   Uniformity of Cell Size      682 non-null    int64  \n",
            " 3   Uniformity of Cell Shape     682 non-null    int64  \n",
            " 4   Marginal Adhesion            682 non-null    int64  \n",
            " 5   Single Epithelial Cell Size  682 non-null    int64  \n",
            " 6   Bare Nuclei                  682 non-null    float64\n",
            " 7   Bland Chromatin              682 non-null    int64  \n",
            " 8   Normal Nucleoli              682 non-null    int64  \n",
            " 9   Mitoses                      682 non-null    int64  \n",
            " 10  Class                        682 non-null    int64  \n",
            "dtypes: float64(1), int64(10)\n",
            "memory usage: 63.9 KB\n",
            "None\n"
          ]
        }
      ]
    },
    {
      "cell_type": "code",
      "source": [
        "df.drop([\"Simple code number\"], axis=1, inplace=True)\n",
        "# Change target(Class) value (2 -> 0 / 4 -> 1)\n",
        "df.at[df[df['Class'] == 2].index, 'Class'] = 0\n",
        "df.at[df[df['Class'] == 4].index, 'Class'] = 1\n",
        "# Split feature and target data\n",
        "X = pd.DataFrame(df.iloc[:,0:9], dtype=np.dtype(\"int64\"))\n",
        "y = df.iloc[:,9]\n",
        "## Find Best model and options\n",
        "# Run findBestOptions()\n",
        "train_X, test_X, train_y, test_y = train_test_split(X, y, test_size=0.7, shuffle=True)\n",
        "\n"
      ],
      "metadata": {
        "id": "vnVW6Mf7l-bP"
      },
      "execution_count": 123,
      "outputs": []
    },
    {
      "cell_type": "code",
      "source": [
        "def decision_tree_gini(scalers, X, y):\n",
        "  params = {'criterion':['gini'],'splitter':['best','random'], 'max_depth':[2,3,4,5,6,7,8],'min_samples_split':[2,3,4,5]}\n",
        "  dtc = DecisionTreeClassifier()\n",
        "  return_list = []\n",
        "  for scaler in scalers:\n",
        "    X = scaler.fit_transform(X)\n",
        "    for i in range(2,11):\n",
        "      gd_sr = GridSearchCV(estimator = dtc, param_grid = params, cv=i, n_jobs=-1)\n",
        "      gd_sr.fit(X,y)\n",
        "      temp_list = []\n",
        "      temp_list.append(gd_sr.best_score_)\n",
        "      temp_list.append(\"decision tree with gini\")\n",
        "      temp_list.append(gd_sr.best_params_)\n",
        "      temp_model = DecisionTreeClassifier(criterion='gini', splitter=gd_sr.best_params_['splitter'], max_depth=gd_sr.best_params_['max_depth'], min_samples_split=gd_sr.best_params_['min_samples_split'])\n",
        "      temp_model.fit(X,y)\n",
        "      temp_list.append(temp_model)\n",
        "      temp_list.append(scaler)\n",
        "      return_list.append(temp_list)\n",
        "\n",
        "  return return_list\n"
      ],
      "metadata": {
        "id": "jKcFhSQiy7ck"
      },
      "execution_count": 124,
      "outputs": []
    },
    {
      "cell_type": "code",
      "source": [
        "def find_Scale_Model(X,y):\n",
        "  global best_score,best_cv,best_scaler,best_model\n",
        "  best_score=-1.0\n",
        "  DecisionTreeClassifier_criterion=[\"gini\",\"entropy\"]\n",
        "\n",
        "  LogisticRegression_solver=[\"lbfgs\",\"newton-cg\",\"liblinear\",\"sag\",\"saga\"]\n",
        "\n",
        "  SVC_kernel=[\"rbf\",\"poly\",\"sigmoid\",\"linear\"]\n",
        "\n",
        "  gamma_list=[0.001,0.01,0.1,1,10]\n",
        "  # result list foramt = [점수, ]\n",
        "  result_list = []\n",
        "  cv_k=[2,3,4,5,6,7,8,9,10]\n",
        "  scalers=[StandardScaler(), MinMaxScaler()]\n",
        "  gini_result = decision_tree_gini(scalers, X, y)\n",
        "  print(gini_result)\n",
        "  result_list += gini_result\n",
        "  result_list.sort(key = lambda i : i[0], reverse = True)\n",
        "\n",
        "\n",
        "  return result_list"
      ],
      "metadata": {
        "id": "UMYt1gqPmbvP"
      },
      "execution_count": 125,
      "outputs": []
    },
    {
      "cell_type": "code",
      "source": [
        "result = find_Scale_Model(train_X, train_y)"
      ],
      "metadata": {
        "colab": {
          "base_uri": "https://localhost:8080/"
        },
        "id": "OOIE9Yor1vck",
        "outputId": "c3e8bdc2-500a-478b-a93f-4c1d2ab6f06f"
      },
      "execution_count": 126,
      "outputs": [
        {
          "output_type": "stream",
          "name": "stdout",
          "text": [
            "[[0.9656862745098038, 'decision tree with gini', {'criterion': 'gini', 'max_depth': 4, 'min_samples_split': 5, 'splitter': 'random'}, DecisionTreeClassifier(max_depth=4, min_samples_split=5, splitter='random'), StandardScaler()], [0.9607843137254902, 'decision tree with gini', {'criterion': 'gini', 'max_depth': 4, 'min_samples_split': 3, 'splitter': 'random'}, DecisionTreeClassifier(max_depth=4, min_samples_split=3, splitter='random'), StandardScaler()], [0.9656862745098039, 'decision tree with gini', {'criterion': 'gini', 'max_depth': 3, 'min_samples_split': 2, 'splitter': 'random'}, DecisionTreeClassifier(max_depth=3, splitter='random'), StandardScaler()], [0.9609756097560975, 'decision tree with gini', {'criterion': 'gini', 'max_depth': 2, 'min_samples_split': 2, 'splitter': 'best'}, DecisionTreeClassifier(max_depth=2), StandardScaler()], [0.9705882352941176, 'decision tree with gini', {'criterion': 'gini', 'max_depth': 3, 'min_samples_split': 2, 'splitter': 'random'}, DecisionTreeClassifier(max_depth=3, splitter='random'), StandardScaler()], [0.9609195402298851, 'decision tree with gini', {'criterion': 'gini', 'max_depth': 3, 'min_samples_split': 2, 'splitter': 'random'}, DecisionTreeClassifier(max_depth=3, splitter='random'), StandardScaler()], [0.9705769230769231, 'decision tree with gini', {'criterion': 'gini', 'max_depth': 4, 'min_samples_split': 2, 'splitter': 'random'}, DecisionTreeClassifier(max_depth=4, splitter='random'), StandardScaler()], [0.9705753184014054, 'decision tree with gini', {'criterion': 'gini', 'max_depth': 3, 'min_samples_split': 5, 'splitter': 'random'}, DecisionTreeClassifier(max_depth=3, min_samples_split=5, splitter='random'), StandardScaler()], [0.955952380952381, 'decision tree with gini', {'criterion': 'gini', 'max_depth': 8, 'min_samples_split': 5, 'splitter': 'random'}, DecisionTreeClassifier(max_depth=8, min_samples_split=5, splitter='random'), StandardScaler()], [0.9509803921568627, 'decision tree with gini', {'criterion': 'gini', 'max_depth': 7, 'min_samples_split': 3, 'splitter': 'random'}, DecisionTreeClassifier(max_depth=7, min_samples_split=3, splitter='random'), MinMaxScaler()], [0.9705882352941176, 'decision tree with gini', {'criterion': 'gini', 'max_depth': 3, 'min_samples_split': 2, 'splitter': 'random'}, DecisionTreeClassifier(max_depth=3, splitter='random'), MinMaxScaler()], [0.9607843137254901, 'decision tree with gini', {'criterion': 'gini', 'max_depth': 6, 'min_samples_split': 3, 'splitter': 'random'}, DecisionTreeClassifier(max_depth=6, min_samples_split=3, splitter='random'), MinMaxScaler()], [0.965609756097561, 'decision tree with gini', {'criterion': 'gini', 'max_depth': 2, 'min_samples_split': 5, 'splitter': 'random'}, DecisionTreeClassifier(max_depth=2, min_samples_split=5, splitter='random'), MinMaxScaler()], [0.9656862745098039, 'decision tree with gini', {'criterion': 'gini', 'max_depth': 7, 'min_samples_split': 4, 'splitter': 'random'}, DecisionTreeClassifier(max_depth=7, min_samples_split=4, splitter='random'), MinMaxScaler()], [0.9656814449917899, 'decision tree with gini', {'criterion': 'gini', 'max_depth': 4, 'min_samples_split': 3, 'splitter': 'random'}, DecisionTreeClassifier(max_depth=4, min_samples_split=3, splitter='random'), MinMaxScaler()], [0.9703846153846154, 'decision tree with gini', {'criterion': 'gini', 'max_depth': 4, 'min_samples_split': 4, 'splitter': 'random'}, DecisionTreeClassifier(max_depth=4, min_samples_split=4, splitter='random'), MinMaxScaler()], [0.9710144927536233, 'decision tree with gini', {'criterion': 'gini', 'max_depth': 3, 'min_samples_split': 3, 'splitter': 'random'}, DecisionTreeClassifier(max_depth=3, min_samples_split=3, splitter='random'), MinMaxScaler()], [0.9659523809523808, 'decision tree with gini', {'criterion': 'gini', 'max_depth': 4, 'min_samples_split': 2, 'splitter': 'random'}, DecisionTreeClassifier(max_depth=4, splitter='random'), MinMaxScaler()]]\n"
          ]
        }
      ]
    },
    {
      "cell_type": "code",
      "source": [
        "for i in range(5):\n",
        "  print(result[i])"
      ],
      "metadata": {
        "colab": {
          "base_uri": "https://localhost:8080/"
        },
        "id": "_fmOH8hd3_lh",
        "outputId": "a770dfa3-0b38-4f0b-af15-b4333d0c19ad"
      },
      "execution_count": 127,
      "outputs": [
        {
          "output_type": "stream",
          "name": "stdout",
          "text": [
            "[0.9710144927536233, 'decision tree with gini', {'criterion': 'gini', 'max_depth': 3, 'min_samples_split': 3, 'splitter': 'random'}, DecisionTreeClassifier(max_depth=3, min_samples_split=3, splitter='random'), MinMaxScaler()]\n",
            "[0.9705882352941176, 'decision tree with gini', {'criterion': 'gini', 'max_depth': 3, 'min_samples_split': 2, 'splitter': 'random'}, DecisionTreeClassifier(max_depth=3, splitter='random'), StandardScaler()]\n",
            "[0.9705882352941176, 'decision tree with gini', {'criterion': 'gini', 'max_depth': 3, 'min_samples_split': 2, 'splitter': 'random'}, DecisionTreeClassifier(max_depth=3, splitter='random'), MinMaxScaler()]\n",
            "[0.9705769230769231, 'decision tree with gini', {'criterion': 'gini', 'max_depth': 4, 'min_samples_split': 2, 'splitter': 'random'}, DecisionTreeClassifier(max_depth=4, splitter='random'), StandardScaler()]\n",
            "[0.9705753184014054, 'decision tree with gini', {'criterion': 'gini', 'max_depth': 3, 'min_samples_split': 5, 'splitter': 'random'}, DecisionTreeClassifier(max_depth=3, min_samples_split=5, splitter='random'), StandardScaler()]\n"
          ]
        }
      ]
    },
    {
      "cell_type": "code",
      "source": [
        "X = result[0][4].fit_transform(X)\n",
        "train_X, test_X, train_y, test_y = train_test_split(X, y, test_size=0.7, shuffle=True)\n",
        "model = result[0][3].fit(train_X, train_y)\n",
        "print(\"Model score: \", end=\"\")\n",
        "print(model.score(test_X, test_y))"
      ],
      "metadata": {
        "colab": {
          "base_uri": "https://localhost:8080/"
        },
        "id": "ex6OZzZg4f6S",
        "outputId": "b1063732-18fd-4044-b340-435b17d653ea"
      },
      "execution_count": 128,
      "outputs": [
        {
          "output_type": "stream",
          "name": "stdout",
          "text": [
            "Model score: 0.9225941422594143\n"
          ]
        }
      ]
    }
  ]
}