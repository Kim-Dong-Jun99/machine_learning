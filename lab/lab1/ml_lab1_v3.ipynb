{
 "nbformat": 4,
 "nbformat_minor": 0,
 "metadata": {
  "colab": {
   "provenance": [],
   "collapsed_sections": []
  },
  "kernelspec": {
   "name": "python3",
   "display_name": "Python 3"
  },
  "language_info": {
   "name": "python"
  }
 },
 "cells": [
  {
   "cell_type": "markdown",
   "source": [
    "# Mount google drive"
   ],
   "metadata": {
    "id": "c0w33frWxQwn",
    "pycharm": {
     "name": "#%% md\n"
    }
   }
  },
  {
   "cell_type": "code",
   "execution_count": 1,
   "metadata": {
    "colab": {
     "base_uri": "https://localhost:8080/"
    },
    "id": "ks_2HLi5YqvE",
    "outputId": "272ddaf5-74c5-4776-8257-e221ef40ba2e",
    "pycharm": {
     "name": "#%%\n"
    }
   },
   "outputs": [
    {
     "output_type": "stream",
     "name": "stdout",
     "text": [
      "Drive already mounted at /content/drive; to attempt to forcibly remount, call drive.mount(\"/content/drive\", force_remount=True).\n"
     ]
    }
   ],
   "source": [
    "from google.colab import drive\n",
    "\n",
    "DRIVE_PATH = '/content/drive'\n",
    "drive.mount(DRIVE_PATH)"
   ]
  },
  {
   "cell_type": "markdown",
   "source": [
    "# Libraries Import"
   ],
   "metadata": {
    "id": "v0iHS5xfxUq-",
    "pycharm": {
     "name": "#%% md\n"
    }
   }
  },
  {
   "cell_type": "code",
   "source": [
    "import pandas as pd\n",
    "import numpy as np\n",
    "\n",
    "from sklearn.preprocessing import StandardScaler\n",
    "from sklearn.preprocessing import RobustScaler\n",
    "from sklearn.preprocessing import MinMaxScaler\n",
    "from sklearn.preprocessing import MaxAbsScaler\n",
    "from sklearn.tree import DecisionTreeClassifier\n",
    "from sklearn.linear_model import LogisticRegression\n",
    "from sklearn.svm import SVC\n",
    "\n",
    "from sklearn.model_selection import KFold\n",
    "from sklearn.model_selection import GridSearchCV\n",
    "from sklearn.model_selection import cross_val_score\n",
    "from sklearn.model_selection import train_test_split"
   ],
   "metadata": {
    "id": "ddg9aFIpxQJP",
    "pycharm": {
     "name": "#%%\n"
    }
   },
   "execution_count": 2,
   "outputs": []
  },
  {
   "cell_type": "markdown",
   "source": [
    "# Constant Values definition"
   ],
   "metadata": {
    "id": "nbRYvcOKxdyc",
    "pycharm": {
     "name": "#%% md\n"
    }
   }
  },
  {
   "cell_type": "code",
   "source": [
    "missing_values = [\"?\"]\n",
    "\n",
    "columns = [\n",
    "'Simple code number',\n",
    "'Clump Thickness',\n",
    "'Uniformity of Cell Size',\n",
    "'Uniformity of Cell Shape',\n",
    "'Marginal Adhesion',\n",
    "'Single Epithelial Cell Size',\n",
    "'Bare Nuclei',\n",
    "'Bland Chromatin',\n",
    "'Normal Nucleoli',\n",
    "'Mitoses',\n",
    "'Class'\n",
    "]\n",
    "\n",
    "FILE_PATH = 'MyDrive'\n",
    "# FILE_PATH = 'MyDrive/machine_learning/data'\n",
    "FILE_NAME = 'breast-cancer-wisconsin.data'\n",
    "\n",
    "target_column = 'Class'"
   ],
   "metadata": {
    "id": "_Vez9nXNxf1E",
    "pycharm": {
     "name": "#%%\n"
    }
   },
   "execution_count": 3,
   "outputs": []
  },
  {
   "cell_type": "markdown",
   "source": [
    "# Data Reads"
   ],
   "metadata": {
    "id": "vsiv6pFpxZnW",
    "pycharm": {
     "name": "#%% md\n"
    }
   }
  },
  {
   "cell_type": "code",
   "source": [
    "df = pd.read_csv(f\"{DRIVE_PATH}/{FILE_PATH}/{FILE_NAME}\", names=columns, na_values=missing_values)\n",
    "df"
   ],
   "metadata": {
    "colab": {
     "base_uri": "https://localhost:8080/",
     "height": 468
    },
    "id": "tXfs6Juya0uv",
    "outputId": "665a1b6d-e2b9-4dcd-d3c7-ee09f966ce66",
    "pycharm": {
     "name": "#%%\n"
    }
   },
   "execution_count": 4,
   "outputs": [
    {
     "output_type": "execute_result",
     "data": {
      "text/plain": [
       "     Simple code number  Clump Thickness  Uniformity of Cell Size  \\\n",
       "0               1000025                5                        1   \n",
       "1               1002945                5                        4   \n",
       "2               1015425                3                        1   \n",
       "3               1016277                6                        8   \n",
       "4               1017023                4                        1   \n",
       "..                  ...              ...                      ...   \n",
       "694              776715                3                        1   \n",
       "695              841769                2                        1   \n",
       "696              888820                5                       10   \n",
       "697              897471                4                        8   \n",
       "698              897471                4                        8   \n",
       "\n",
       "     Uniformity of Cell Shape  Marginal Adhesion  Single Epithelial Cell Size  \\\n",
       "0                           1                  1                            2   \n",
       "1                           4                  5                            7   \n",
       "2                           1                  1                            2   \n",
       "3                           8                  1                            3   \n",
       "4                           1                  3                            2   \n",
       "..                        ...                ...                          ...   \n",
       "694                         1                  1                            3   \n",
       "695                         1                  1                            2   \n",
       "696                        10                  3                            7   \n",
       "697                         6                  4                            3   \n",
       "698                         8                  5                            4   \n",
       "\n",
       "     Bare Nuclei  Bland Chromatin  Normal Nucleoli  Mitoses  Class  \n",
       "0            1.0                3                1        1      2  \n",
       "1           10.0                3                2        1      2  \n",
       "2            2.0                3                1        1      2  \n",
       "3            4.0                3                7        1      2  \n",
       "4            1.0                3                1        1      2  \n",
       "..           ...              ...              ...      ...    ...  \n",
       "694          2.0                1                1        1      2  \n",
       "695          1.0                1                1        1      2  \n",
       "696          3.0                8               10        2      4  \n",
       "697          4.0               10                6        1      4  \n",
       "698          5.0               10                4        1      4  \n",
       "\n",
       "[699 rows x 11 columns]"
      ],
      "text/html": [
       "\n",
       "  <div id=\"df-e97fc994-255c-44dc-bcd4-58dbc4f2c601\">\n",
       "    <div class=\"colab-df-container\">\n",
       "      <div>\n",
       "<style scoped>\n",
       "    .dataframe tbody tr th:only-of-type {\n",
       "        vertical-align: middle;\n",
       "    }\n",
       "\n",
       "    .dataframe tbody tr th {\n",
       "        vertical-align: top;\n",
       "    }\n",
       "\n",
       "    .dataframe thead th {\n",
       "        text-align: right;\n",
       "    }\n",
       "</style>\n",
       "<table border=\"1\" class=\"dataframe\">\n",
       "  <thead>\n",
       "    <tr style=\"text-align: right;\">\n",
       "      <th></th>\n",
       "      <th>Simple code number</th>\n",
       "      <th>Clump Thickness</th>\n",
       "      <th>Uniformity of Cell Size</th>\n",
       "      <th>Uniformity of Cell Shape</th>\n",
       "      <th>Marginal Adhesion</th>\n",
       "      <th>Single Epithelial Cell Size</th>\n",
       "      <th>Bare Nuclei</th>\n",
       "      <th>Bland Chromatin</th>\n",
       "      <th>Normal Nucleoli</th>\n",
       "      <th>Mitoses</th>\n",
       "      <th>Class</th>\n",
       "    </tr>\n",
       "  </thead>\n",
       "  <tbody>\n",
       "    <tr>\n",
       "      <th>0</th>\n",
       "      <td>1000025</td>\n",
       "      <td>5</td>\n",
       "      <td>1</td>\n",
       "      <td>1</td>\n",
       "      <td>1</td>\n",
       "      <td>2</td>\n",
       "      <td>1.0</td>\n",
       "      <td>3</td>\n",
       "      <td>1</td>\n",
       "      <td>1</td>\n",
       "      <td>2</td>\n",
       "    </tr>\n",
       "    <tr>\n",
       "      <th>1</th>\n",
       "      <td>1002945</td>\n",
       "      <td>5</td>\n",
       "      <td>4</td>\n",
       "      <td>4</td>\n",
       "      <td>5</td>\n",
       "      <td>7</td>\n",
       "      <td>10.0</td>\n",
       "      <td>3</td>\n",
       "      <td>2</td>\n",
       "      <td>1</td>\n",
       "      <td>2</td>\n",
       "    </tr>\n",
       "    <tr>\n",
       "      <th>2</th>\n",
       "      <td>1015425</td>\n",
       "      <td>3</td>\n",
       "      <td>1</td>\n",
       "      <td>1</td>\n",
       "      <td>1</td>\n",
       "      <td>2</td>\n",
       "      <td>2.0</td>\n",
       "      <td>3</td>\n",
       "      <td>1</td>\n",
       "      <td>1</td>\n",
       "      <td>2</td>\n",
       "    </tr>\n",
       "    <tr>\n",
       "      <th>3</th>\n",
       "      <td>1016277</td>\n",
       "      <td>6</td>\n",
       "      <td>8</td>\n",
       "      <td>8</td>\n",
       "      <td>1</td>\n",
       "      <td>3</td>\n",
       "      <td>4.0</td>\n",
       "      <td>3</td>\n",
       "      <td>7</td>\n",
       "      <td>1</td>\n",
       "      <td>2</td>\n",
       "    </tr>\n",
       "    <tr>\n",
       "      <th>4</th>\n",
       "      <td>1017023</td>\n",
       "      <td>4</td>\n",
       "      <td>1</td>\n",
       "      <td>1</td>\n",
       "      <td>3</td>\n",
       "      <td>2</td>\n",
       "      <td>1.0</td>\n",
       "      <td>3</td>\n",
       "      <td>1</td>\n",
       "      <td>1</td>\n",
       "      <td>2</td>\n",
       "    </tr>\n",
       "    <tr>\n",
       "      <th>...</th>\n",
       "      <td>...</td>\n",
       "      <td>...</td>\n",
       "      <td>...</td>\n",
       "      <td>...</td>\n",
       "      <td>...</td>\n",
       "      <td>...</td>\n",
       "      <td>...</td>\n",
       "      <td>...</td>\n",
       "      <td>...</td>\n",
       "      <td>...</td>\n",
       "      <td>...</td>\n",
       "    </tr>\n",
       "    <tr>\n",
       "      <th>694</th>\n",
       "      <td>776715</td>\n",
       "      <td>3</td>\n",
       "      <td>1</td>\n",
       "      <td>1</td>\n",
       "      <td>1</td>\n",
       "      <td>3</td>\n",
       "      <td>2.0</td>\n",
       "      <td>1</td>\n",
       "      <td>1</td>\n",
       "      <td>1</td>\n",
       "      <td>2</td>\n",
       "    </tr>\n",
       "    <tr>\n",
       "      <th>695</th>\n",
       "      <td>841769</td>\n",
       "      <td>2</td>\n",
       "      <td>1</td>\n",
       "      <td>1</td>\n",
       "      <td>1</td>\n",
       "      <td>2</td>\n",
       "      <td>1.0</td>\n",
       "      <td>1</td>\n",
       "      <td>1</td>\n",
       "      <td>1</td>\n",
       "      <td>2</td>\n",
       "    </tr>\n",
       "    <tr>\n",
       "      <th>696</th>\n",
       "      <td>888820</td>\n",
       "      <td>5</td>\n",
       "      <td>10</td>\n",
       "      <td>10</td>\n",
       "      <td>3</td>\n",
       "      <td>7</td>\n",
       "      <td>3.0</td>\n",
       "      <td>8</td>\n",
       "      <td>10</td>\n",
       "      <td>2</td>\n",
       "      <td>4</td>\n",
       "    </tr>\n",
       "    <tr>\n",
       "      <th>697</th>\n",
       "      <td>897471</td>\n",
       "      <td>4</td>\n",
       "      <td>8</td>\n",
       "      <td>6</td>\n",
       "      <td>4</td>\n",
       "      <td>3</td>\n",
       "      <td>4.0</td>\n",
       "      <td>10</td>\n",
       "      <td>6</td>\n",
       "      <td>1</td>\n",
       "      <td>4</td>\n",
       "    </tr>\n",
       "    <tr>\n",
       "      <th>698</th>\n",
       "      <td>897471</td>\n",
       "      <td>4</td>\n",
       "      <td>8</td>\n",
       "      <td>8</td>\n",
       "      <td>5</td>\n",
       "      <td>4</td>\n",
       "      <td>5.0</td>\n",
       "      <td>10</td>\n",
       "      <td>4</td>\n",
       "      <td>1</td>\n",
       "      <td>4</td>\n",
       "    </tr>\n",
       "  </tbody>\n",
       "</table>\n",
       "<p>699 rows × 11 columns</p>\n",
       "</div>\n",
       "      <button class=\"colab-df-convert\" onclick=\"convertToInteractive('df-e97fc994-255c-44dc-bcd4-58dbc4f2c601')\"\n",
       "              title=\"Convert this dataframe to an interactive table.\"\n",
       "              style=\"display:none;\">\n",
       "        \n",
       "  <svg xmlns=\"http://www.w3.org/2000/svg\" height=\"24px\"viewBox=\"0 0 24 24\"\n",
       "       width=\"24px\">\n",
       "    <path d=\"M0 0h24v24H0V0z\" fill=\"none\"/>\n",
       "    <path d=\"M18.56 5.44l.94 2.06.94-2.06 2.06-.94-2.06-.94-.94-2.06-.94 2.06-2.06.94zm-11 1L8.5 8.5l.94-2.06 2.06-.94-2.06-.94L8.5 2.5l-.94 2.06-2.06.94zm10 10l.94 2.06.94-2.06 2.06-.94-2.06-.94-.94-2.06-.94 2.06-2.06.94z\"/><path d=\"M17.41 7.96l-1.37-1.37c-.4-.4-.92-.59-1.43-.59-.52 0-1.04.2-1.43.59L10.3 9.45l-7.72 7.72c-.78.78-.78 2.05 0 2.83L4 21.41c.39.39.9.59 1.41.59.51 0 1.02-.2 1.41-.59l7.78-7.78 2.81-2.81c.8-.78.8-2.07 0-2.86zM5.41 20L4 18.59l7.72-7.72 1.47 1.35L5.41 20z\"/>\n",
       "  </svg>\n",
       "      </button>\n",
       "      \n",
       "  <style>\n",
       "    .colab-df-container {\n",
       "      display:flex;\n",
       "      flex-wrap:wrap;\n",
       "      gap: 12px;\n",
       "    }\n",
       "\n",
       "    .colab-df-convert {\n",
       "      background-color: #E8F0FE;\n",
       "      border: none;\n",
       "      border-radius: 50%;\n",
       "      cursor: pointer;\n",
       "      display: none;\n",
       "      fill: #1967D2;\n",
       "      height: 32px;\n",
       "      padding: 0 0 0 0;\n",
       "      width: 32px;\n",
       "    }\n",
       "\n",
       "    .colab-df-convert:hover {\n",
       "      background-color: #E2EBFA;\n",
       "      box-shadow: 0px 1px 2px rgba(60, 64, 67, 0.3), 0px 1px 3px 1px rgba(60, 64, 67, 0.15);\n",
       "      fill: #174EA6;\n",
       "    }\n",
       "\n",
       "    [theme=dark] .colab-df-convert {\n",
       "      background-color: #3B4455;\n",
       "      fill: #D2E3FC;\n",
       "    }\n",
       "\n",
       "    [theme=dark] .colab-df-convert:hover {\n",
       "      background-color: #434B5C;\n",
       "      box-shadow: 0px 1px 3px 1px rgba(0, 0, 0, 0.15);\n",
       "      filter: drop-shadow(0px 1px 2px rgba(0, 0, 0, 0.3));\n",
       "      fill: #FFFFFF;\n",
       "    }\n",
       "  </style>\n",
       "\n",
       "      <script>\n",
       "        const buttonEl =\n",
       "          document.querySelector('#df-e97fc994-255c-44dc-bcd4-58dbc4f2c601 button.colab-df-convert');\n",
       "        buttonEl.style.display =\n",
       "          google.colab.kernel.accessAllowed ? 'block' : 'none';\n",
       "\n",
       "        async function convertToInteractive(key) {\n",
       "          const element = document.querySelector('#df-e97fc994-255c-44dc-bcd4-58dbc4f2c601');\n",
       "          const dataTable =\n",
       "            await google.colab.kernel.invokeFunction('convertToInteractive',\n",
       "                                                     [key], {});\n",
       "          if (!dataTable) return;\n",
       "\n",
       "          const docLinkHtml = 'Like what you see? Visit the ' +\n",
       "            '<a target=\"_blank\" href=https://colab.research.google.com/notebooks/data_table.ipynb>data table notebook</a>'\n",
       "            + ' to learn more about interactive tables.';\n",
       "          element.innerHTML = '';\n",
       "          dataTable['output_type'] = 'display_data';\n",
       "          await google.colab.output.renderOutput(dataTable, element);\n",
       "          const docLink = document.createElement('div');\n",
       "          docLink.innerHTML = docLinkHtml;\n",
       "          element.appendChild(docLink);\n",
       "        }\n",
       "      </script>\n",
       "    </div>\n",
       "  </div>\n",
       "  "
      ]
     },
     "metadata": {},
     "execution_count": 4
    }
   ]
  },
  {
   "cell_type": "code",
   "source": [
    "original_df = df\n",
    "df = original_df.copy()"
   ],
   "metadata": {
    "id": "GvLEv7PAzOX4",
    "pycharm": {
     "name": "#%%\n"
    }
   },
   "execution_count": 5,
   "outputs": []
  },
  {
   "cell_type": "code",
   "source": [
    "df.info()"
   ],
   "metadata": {
    "colab": {
     "base_uri": "https://localhost:8080/"
    },
    "id": "UB2b8TzxlCqd",
    "outputId": "14417716-f346-40f3-9e00-eaa6f85f8da1",
    "pycharm": {
     "name": "#%%\n"
    }
   },
   "execution_count": 6,
   "outputs": [
    {
     "output_type": "stream",
     "name": "stdout",
     "text": [
      "<class 'pandas.core.frame.DataFrame'>\n",
      "RangeIndex: 699 entries, 0 to 698\n",
      "Data columns (total 11 columns):\n",
      " #   Column                       Non-Null Count  Dtype  \n",
      "---  ------                       --------------  -----  \n",
      " 0   Simple code number           699 non-null    int64  \n",
      " 1   Clump Thickness              699 non-null    int64  \n",
      " 2   Uniformity of Cell Size      699 non-null    int64  \n",
      " 3   Uniformity of Cell Shape     699 non-null    int64  \n",
      " 4   Marginal Adhesion            699 non-null    int64  \n",
      " 5   Single Epithelial Cell Size  699 non-null    int64  \n",
      " 6   Bare Nuclei                  683 non-null    float64\n",
      " 7   Bland Chromatin              699 non-null    int64  \n",
      " 8   Normal Nucleoli              699 non-null    int64  \n",
      " 9   Mitoses                      699 non-null    int64  \n",
      " 10  Class                        699 non-null    int64  \n",
      "dtypes: float64(1), int64(10)\n",
      "memory usage: 60.2 KB\n"
     ]
    }
   ]
  },
  {
   "cell_type": "code",
   "source": [
    "df.isna().sum()"
   ],
   "metadata": {
    "colab": {
     "base_uri": "https://localhost:8080/"
    },
    "id": "W5GCD0vhlIBE",
    "outputId": "58e6ff6a-655b-4d76-c8c6-c1aaa5977762",
    "pycharm": {
     "name": "#%%\n"
    }
   },
   "execution_count": 7,
   "outputs": [
    {
     "output_type": "execute_result",
     "data": {
      "text/plain": [
       "Simple code number              0\n",
       "Clump Thickness                 0\n",
       "Uniformity of Cell Size         0\n",
       "Uniformity of Cell Shape        0\n",
       "Marginal Adhesion               0\n",
       "Single Epithelial Cell Size     0\n",
       "Bare Nuclei                    16\n",
       "Bland Chromatin                 0\n",
       "Normal Nucleoli                 0\n",
       "Mitoses                         0\n",
       "Class                           0\n",
       "dtype: int64"
      ]
     },
     "metadata": {},
     "execution_count": 7
    }
   ]
  },
  {
   "cell_type": "markdown",
   "source": [
    "# Preprocessing"
   ],
   "metadata": {
    "id": "5ULadh89ymmj",
    "pycharm": {
     "name": "#%% md\n"
    }
   }
  },
  {
   "cell_type": "code",
   "source": [
    "# Drop Null\n",
    "df.dropna(axis=0, inplace=True)\n",
    "df.info()"
   ],
   "metadata": {
    "colab": {
     "base_uri": "https://localhost:8080/"
    },
    "id": "53CIfBallKkA",
    "outputId": "3a4c799b-d275-4ddf-865d-c4b3d2cadbb8",
    "pycharm": {
     "name": "#%%\n"
    }
   },
   "execution_count": 8,
   "outputs": [
    {
     "output_type": "stream",
     "name": "stdout",
     "text": [
      "<class 'pandas.core.frame.DataFrame'>\n",
      "Int64Index: 683 entries, 0 to 698\n",
      "Data columns (total 11 columns):\n",
      " #   Column                       Non-Null Count  Dtype  \n",
      "---  ------                       --------------  -----  \n",
      " 0   Simple code number           683 non-null    int64  \n",
      " 1   Clump Thickness              683 non-null    int64  \n",
      " 2   Uniformity of Cell Size      683 non-null    int64  \n",
      " 3   Uniformity of Cell Shape     683 non-null    int64  \n",
      " 4   Marginal Adhesion            683 non-null    int64  \n",
      " 5   Single Epithelial Cell Size  683 non-null    int64  \n",
      " 6   Bare Nuclei                  683 non-null    float64\n",
      " 7   Bland Chromatin              683 non-null    int64  \n",
      " 8   Normal Nucleoli              683 non-null    int64  \n",
      " 9   Mitoses                      683 non-null    int64  \n",
      " 10  Class                        683 non-null    int64  \n",
      "dtypes: float64(1), int64(10)\n",
      "memory usage: 64.0 KB\n"
     ]
    }
   ]
  },
  {
   "cell_type": "code",
   "source": [
    "# Drop an feature - results higher score\n",
    "df.drop([\"Simple code number\"], axis=1, inplace=True)\n",
    "\n",
    "# Change target(Class) value (2 -> 0 / 4 -> 1)\n",
    "df[target_column].replace([2, 4], [0, 1], inplace=True)\n",
    "\n",
    "# Split feature and target data\n",
    "X, y = df[df.columns.difference([target_column])], df[[target_column]].values.ravel()"
   ],
   "metadata": {
    "id": "vnVW6Mf7l-bP",
    "pycharm": {
     "name": "#%%\n"
    }
   },
   "execution_count": 9,
   "outputs": []
  },
  {
   "cell_type": "code",
   "source": [
    "# print X\n",
    "X"
   ],
   "metadata": {
    "colab": {
     "base_uri": "https://localhost:8080/",
     "height": 424
    },
    "id": "KGpnxID9zuC9",
    "outputId": "1794f03b-9781-4c02-e488-f6393de09684",
    "pycharm": {
     "name": "#%%\n"
    }
   },
   "execution_count": 10,
   "outputs": [
    {
     "output_type": "execute_result",
     "data": {
      "text/plain": [
       "     Bare Nuclei  Bland Chromatin  Clump Thickness  Marginal Adhesion  \\\n",
       "0            1.0                3                5                  1   \n",
       "1           10.0                3                5                  5   \n",
       "2            2.0                3                3                  1   \n",
       "3            4.0                3                6                  1   \n",
       "4            1.0                3                4                  3   \n",
       "..           ...              ...              ...                ...   \n",
       "694          2.0                1                3                  1   \n",
       "695          1.0                1                2                  1   \n",
       "696          3.0                8                5                  3   \n",
       "697          4.0               10                4                  4   \n",
       "698          5.0               10                4                  5   \n",
       "\n",
       "     Mitoses  Normal Nucleoli  Single Epithelial Cell Size  \\\n",
       "0          1                1                            2   \n",
       "1          1                2                            7   \n",
       "2          1                1                            2   \n",
       "3          1                7                            3   \n",
       "4          1                1                            2   \n",
       "..       ...              ...                          ...   \n",
       "694        1                1                            3   \n",
       "695        1                1                            2   \n",
       "696        2               10                            7   \n",
       "697        1                6                            3   \n",
       "698        1                4                            4   \n",
       "\n",
       "     Uniformity of Cell Shape  Uniformity of Cell Size  \n",
       "0                           1                        1  \n",
       "1                           4                        4  \n",
       "2                           1                        1  \n",
       "3                           8                        8  \n",
       "4                           1                        1  \n",
       "..                        ...                      ...  \n",
       "694                         1                        1  \n",
       "695                         1                        1  \n",
       "696                        10                       10  \n",
       "697                         6                        8  \n",
       "698                         8                        8  \n",
       "\n",
       "[683 rows x 9 columns]"
      ],
      "text/html": [
       "\n",
       "  <div id=\"df-4a6a5545-fe3a-4322-bcc2-36ca7415d794\">\n",
       "    <div class=\"colab-df-container\">\n",
       "      <div>\n",
       "<style scoped>\n",
       "    .dataframe tbody tr th:only-of-type {\n",
       "        vertical-align: middle;\n",
       "    }\n",
       "\n",
       "    .dataframe tbody tr th {\n",
       "        vertical-align: top;\n",
       "    }\n",
       "\n",
       "    .dataframe thead th {\n",
       "        text-align: right;\n",
       "    }\n",
       "</style>\n",
       "<table border=\"1\" class=\"dataframe\">\n",
       "  <thead>\n",
       "    <tr style=\"text-align: right;\">\n",
       "      <th></th>\n",
       "      <th>Bare Nuclei</th>\n",
       "      <th>Bland Chromatin</th>\n",
       "      <th>Clump Thickness</th>\n",
       "      <th>Marginal Adhesion</th>\n",
       "      <th>Mitoses</th>\n",
       "      <th>Normal Nucleoli</th>\n",
       "      <th>Single Epithelial Cell Size</th>\n",
       "      <th>Uniformity of Cell Shape</th>\n",
       "      <th>Uniformity of Cell Size</th>\n",
       "    </tr>\n",
       "  </thead>\n",
       "  <tbody>\n",
       "    <tr>\n",
       "      <th>0</th>\n",
       "      <td>1.0</td>\n",
       "      <td>3</td>\n",
       "      <td>5</td>\n",
       "      <td>1</td>\n",
       "      <td>1</td>\n",
       "      <td>1</td>\n",
       "      <td>2</td>\n",
       "      <td>1</td>\n",
       "      <td>1</td>\n",
       "    </tr>\n",
       "    <tr>\n",
       "      <th>1</th>\n",
       "      <td>10.0</td>\n",
       "      <td>3</td>\n",
       "      <td>5</td>\n",
       "      <td>5</td>\n",
       "      <td>1</td>\n",
       "      <td>2</td>\n",
       "      <td>7</td>\n",
       "      <td>4</td>\n",
       "      <td>4</td>\n",
       "    </tr>\n",
       "    <tr>\n",
       "      <th>2</th>\n",
       "      <td>2.0</td>\n",
       "      <td>3</td>\n",
       "      <td>3</td>\n",
       "      <td>1</td>\n",
       "      <td>1</td>\n",
       "      <td>1</td>\n",
       "      <td>2</td>\n",
       "      <td>1</td>\n",
       "      <td>1</td>\n",
       "    </tr>\n",
       "    <tr>\n",
       "      <th>3</th>\n",
       "      <td>4.0</td>\n",
       "      <td>3</td>\n",
       "      <td>6</td>\n",
       "      <td>1</td>\n",
       "      <td>1</td>\n",
       "      <td>7</td>\n",
       "      <td>3</td>\n",
       "      <td>8</td>\n",
       "      <td>8</td>\n",
       "    </tr>\n",
       "    <tr>\n",
       "      <th>4</th>\n",
       "      <td>1.0</td>\n",
       "      <td>3</td>\n",
       "      <td>4</td>\n",
       "      <td>3</td>\n",
       "      <td>1</td>\n",
       "      <td>1</td>\n",
       "      <td>2</td>\n",
       "      <td>1</td>\n",
       "      <td>1</td>\n",
       "    </tr>\n",
       "    <tr>\n",
       "      <th>...</th>\n",
       "      <td>...</td>\n",
       "      <td>...</td>\n",
       "      <td>...</td>\n",
       "      <td>...</td>\n",
       "      <td>...</td>\n",
       "      <td>...</td>\n",
       "      <td>...</td>\n",
       "      <td>...</td>\n",
       "      <td>...</td>\n",
       "    </tr>\n",
       "    <tr>\n",
       "      <th>694</th>\n",
       "      <td>2.0</td>\n",
       "      <td>1</td>\n",
       "      <td>3</td>\n",
       "      <td>1</td>\n",
       "      <td>1</td>\n",
       "      <td>1</td>\n",
       "      <td>3</td>\n",
       "      <td>1</td>\n",
       "      <td>1</td>\n",
       "    </tr>\n",
       "    <tr>\n",
       "      <th>695</th>\n",
       "      <td>1.0</td>\n",
       "      <td>1</td>\n",
       "      <td>2</td>\n",
       "      <td>1</td>\n",
       "      <td>1</td>\n",
       "      <td>1</td>\n",
       "      <td>2</td>\n",
       "      <td>1</td>\n",
       "      <td>1</td>\n",
       "    </tr>\n",
       "    <tr>\n",
       "      <th>696</th>\n",
       "      <td>3.0</td>\n",
       "      <td>8</td>\n",
       "      <td>5</td>\n",
       "      <td>3</td>\n",
       "      <td>2</td>\n",
       "      <td>10</td>\n",
       "      <td>7</td>\n",
       "      <td>10</td>\n",
       "      <td>10</td>\n",
       "    </tr>\n",
       "    <tr>\n",
       "      <th>697</th>\n",
       "      <td>4.0</td>\n",
       "      <td>10</td>\n",
       "      <td>4</td>\n",
       "      <td>4</td>\n",
       "      <td>1</td>\n",
       "      <td>6</td>\n",
       "      <td>3</td>\n",
       "      <td>6</td>\n",
       "      <td>8</td>\n",
       "    </tr>\n",
       "    <tr>\n",
       "      <th>698</th>\n",
       "      <td>5.0</td>\n",
       "      <td>10</td>\n",
       "      <td>4</td>\n",
       "      <td>5</td>\n",
       "      <td>1</td>\n",
       "      <td>4</td>\n",
       "      <td>4</td>\n",
       "      <td>8</td>\n",
       "      <td>8</td>\n",
       "    </tr>\n",
       "  </tbody>\n",
       "</table>\n",
       "<p>683 rows × 9 columns</p>\n",
       "</div>\n",
       "      <button class=\"colab-df-convert\" onclick=\"convertToInteractive('df-4a6a5545-fe3a-4322-bcc2-36ca7415d794')\"\n",
       "              title=\"Convert this dataframe to an interactive table.\"\n",
       "              style=\"display:none;\">\n",
       "        \n",
       "  <svg xmlns=\"http://www.w3.org/2000/svg\" height=\"24px\"viewBox=\"0 0 24 24\"\n",
       "       width=\"24px\">\n",
       "    <path d=\"M0 0h24v24H0V0z\" fill=\"none\"/>\n",
       "    <path d=\"M18.56 5.44l.94 2.06.94-2.06 2.06-.94-2.06-.94-.94-2.06-.94 2.06-2.06.94zm-11 1L8.5 8.5l.94-2.06 2.06-.94-2.06-.94L8.5 2.5l-.94 2.06-2.06.94zm10 10l.94 2.06.94-2.06 2.06-.94-2.06-.94-.94-2.06-.94 2.06-2.06.94z\"/><path d=\"M17.41 7.96l-1.37-1.37c-.4-.4-.92-.59-1.43-.59-.52 0-1.04.2-1.43.59L10.3 9.45l-7.72 7.72c-.78.78-.78 2.05 0 2.83L4 21.41c.39.39.9.59 1.41.59.51 0 1.02-.2 1.41-.59l7.78-7.78 2.81-2.81c.8-.78.8-2.07 0-2.86zM5.41 20L4 18.59l7.72-7.72 1.47 1.35L5.41 20z\"/>\n",
       "  </svg>\n",
       "      </button>\n",
       "      \n",
       "  <style>\n",
       "    .colab-df-container {\n",
       "      display:flex;\n",
       "      flex-wrap:wrap;\n",
       "      gap: 12px;\n",
       "    }\n",
       "\n",
       "    .colab-df-convert {\n",
       "      background-color: #E8F0FE;\n",
       "      border: none;\n",
       "      border-radius: 50%;\n",
       "      cursor: pointer;\n",
       "      display: none;\n",
       "      fill: #1967D2;\n",
       "      height: 32px;\n",
       "      padding: 0 0 0 0;\n",
       "      width: 32px;\n",
       "    }\n",
       "\n",
       "    .colab-df-convert:hover {\n",
       "      background-color: #E2EBFA;\n",
       "      box-shadow: 0px 1px 2px rgba(60, 64, 67, 0.3), 0px 1px 3px 1px rgba(60, 64, 67, 0.15);\n",
       "      fill: #174EA6;\n",
       "    }\n",
       "\n",
       "    [theme=dark] .colab-df-convert {\n",
       "      background-color: #3B4455;\n",
       "      fill: #D2E3FC;\n",
       "    }\n",
       "\n",
       "    [theme=dark] .colab-df-convert:hover {\n",
       "      background-color: #434B5C;\n",
       "      box-shadow: 0px 1px 3px 1px rgba(0, 0, 0, 0.15);\n",
       "      filter: drop-shadow(0px 1px 2px rgba(0, 0, 0, 0.3));\n",
       "      fill: #FFFFFF;\n",
       "    }\n",
       "  </style>\n",
       "\n",
       "      <script>\n",
       "        const buttonEl =\n",
       "          document.querySelector('#df-4a6a5545-fe3a-4322-bcc2-36ca7415d794 button.colab-df-convert');\n",
       "        buttonEl.style.display =\n",
       "          google.colab.kernel.accessAllowed ? 'block' : 'none';\n",
       "\n",
       "        async function convertToInteractive(key) {\n",
       "          const element = document.querySelector('#df-4a6a5545-fe3a-4322-bcc2-36ca7415d794');\n",
       "          const dataTable =\n",
       "            await google.colab.kernel.invokeFunction('convertToInteractive',\n",
       "                                                     [key], {});\n",
       "          if (!dataTable) return;\n",
       "\n",
       "          const docLinkHtml = 'Like what you see? Visit the ' +\n",
       "            '<a target=\"_blank\" href=https://colab.research.google.com/notebooks/data_table.ipynb>data table notebook</a>'\n",
       "            + ' to learn more about interactive tables.';\n",
       "          element.innerHTML = '';\n",
       "          dataTable['output_type'] = 'display_data';\n",
       "          await google.colab.output.renderOutput(dataTable, element);\n",
       "          const docLink = document.createElement('div');\n",
       "          docLink.innerHTML = docLinkHtml;\n",
       "          element.appendChild(docLink);\n",
       "        }\n",
       "      </script>\n",
       "    </div>\n",
       "  </div>\n",
       "  "
      ]
     },
     "metadata": {},
     "execution_count": 10
    }
   ]
  },
  {
   "cell_type": "code",
   "source": [
    "# print y\n",
    "df[[target_column]]"
   ],
   "metadata": {
    "colab": {
     "base_uri": "https://localhost:8080/",
     "height": 424
    },
    "id": "bu_iG85-zuYe",
    "outputId": "35eed214-1e11-4d50-8a59-f9d39da3e9ce",
    "pycharm": {
     "name": "#%%\n"
    }
   },
   "execution_count": 11,
   "outputs": [
    {
     "output_type": "execute_result",
     "data": {
      "text/plain": [
       "     Class\n",
       "0        0\n",
       "1        0\n",
       "2        0\n",
       "3        0\n",
       "4        0\n",
       "..     ...\n",
       "694      0\n",
       "695      0\n",
       "696      1\n",
       "697      1\n",
       "698      1\n",
       "\n",
       "[683 rows x 1 columns]"
      ],
      "text/html": [
       "\n",
       "  <div id=\"df-d26a54cb-e2fa-4ff1-bfc1-6d5724a35e4b\">\n",
       "    <div class=\"colab-df-container\">\n",
       "      <div>\n",
       "<style scoped>\n",
       "    .dataframe tbody tr th:only-of-type {\n",
       "        vertical-align: middle;\n",
       "    }\n",
       "\n",
       "    .dataframe tbody tr th {\n",
       "        vertical-align: top;\n",
       "    }\n",
       "\n",
       "    .dataframe thead th {\n",
       "        text-align: right;\n",
       "    }\n",
       "</style>\n",
       "<table border=\"1\" class=\"dataframe\">\n",
       "  <thead>\n",
       "    <tr style=\"text-align: right;\">\n",
       "      <th></th>\n",
       "      <th>Class</th>\n",
       "    </tr>\n",
       "  </thead>\n",
       "  <tbody>\n",
       "    <tr>\n",
       "      <th>0</th>\n",
       "      <td>0</td>\n",
       "    </tr>\n",
       "    <tr>\n",
       "      <th>1</th>\n",
       "      <td>0</td>\n",
       "    </tr>\n",
       "    <tr>\n",
       "      <th>2</th>\n",
       "      <td>0</td>\n",
       "    </tr>\n",
       "    <tr>\n",
       "      <th>3</th>\n",
       "      <td>0</td>\n",
       "    </tr>\n",
       "    <tr>\n",
       "      <th>4</th>\n",
       "      <td>0</td>\n",
       "    </tr>\n",
       "    <tr>\n",
       "      <th>...</th>\n",
       "      <td>...</td>\n",
       "    </tr>\n",
       "    <tr>\n",
       "      <th>694</th>\n",
       "      <td>0</td>\n",
       "    </tr>\n",
       "    <tr>\n",
       "      <th>695</th>\n",
       "      <td>0</td>\n",
       "    </tr>\n",
       "    <tr>\n",
       "      <th>696</th>\n",
       "      <td>1</td>\n",
       "    </tr>\n",
       "    <tr>\n",
       "      <th>697</th>\n",
       "      <td>1</td>\n",
       "    </tr>\n",
       "    <tr>\n",
       "      <th>698</th>\n",
       "      <td>1</td>\n",
       "    </tr>\n",
       "  </tbody>\n",
       "</table>\n",
       "<p>683 rows × 1 columns</p>\n",
       "</div>\n",
       "      <button class=\"colab-df-convert\" onclick=\"convertToInteractive('df-d26a54cb-e2fa-4ff1-bfc1-6d5724a35e4b')\"\n",
       "              title=\"Convert this dataframe to an interactive table.\"\n",
       "              style=\"display:none;\">\n",
       "        \n",
       "  <svg xmlns=\"http://www.w3.org/2000/svg\" height=\"24px\"viewBox=\"0 0 24 24\"\n",
       "       width=\"24px\">\n",
       "    <path d=\"M0 0h24v24H0V0z\" fill=\"none\"/>\n",
       "    <path d=\"M18.56 5.44l.94 2.06.94-2.06 2.06-.94-2.06-.94-.94-2.06-.94 2.06-2.06.94zm-11 1L8.5 8.5l.94-2.06 2.06-.94-2.06-.94L8.5 2.5l-.94 2.06-2.06.94zm10 10l.94 2.06.94-2.06 2.06-.94-2.06-.94-.94-2.06-.94 2.06-2.06.94z\"/><path d=\"M17.41 7.96l-1.37-1.37c-.4-.4-.92-.59-1.43-.59-.52 0-1.04.2-1.43.59L10.3 9.45l-7.72 7.72c-.78.78-.78 2.05 0 2.83L4 21.41c.39.39.9.59 1.41.59.51 0 1.02-.2 1.41-.59l7.78-7.78 2.81-2.81c.8-.78.8-2.07 0-2.86zM5.41 20L4 18.59l7.72-7.72 1.47 1.35L5.41 20z\"/>\n",
       "  </svg>\n",
       "      </button>\n",
       "      \n",
       "  <style>\n",
       "    .colab-df-container {\n",
       "      display:flex;\n",
       "      flex-wrap:wrap;\n",
       "      gap: 12px;\n",
       "    }\n",
       "\n",
       "    .colab-df-convert {\n",
       "      background-color: #E8F0FE;\n",
       "      border: none;\n",
       "      border-radius: 50%;\n",
       "      cursor: pointer;\n",
       "      display: none;\n",
       "      fill: #1967D2;\n",
       "      height: 32px;\n",
       "      padding: 0 0 0 0;\n",
       "      width: 32px;\n",
       "    }\n",
       "\n",
       "    .colab-df-convert:hover {\n",
       "      background-color: #E2EBFA;\n",
       "      box-shadow: 0px 1px 2px rgba(60, 64, 67, 0.3), 0px 1px 3px 1px rgba(60, 64, 67, 0.15);\n",
       "      fill: #174EA6;\n",
       "    }\n",
       "\n",
       "    [theme=dark] .colab-df-convert {\n",
       "      background-color: #3B4455;\n",
       "      fill: #D2E3FC;\n",
       "    }\n",
       "\n",
       "    [theme=dark] .colab-df-convert:hover {\n",
       "      background-color: #434B5C;\n",
       "      box-shadow: 0px 1px 3px 1px rgba(0, 0, 0, 0.15);\n",
       "      filter: drop-shadow(0px 1px 2px rgba(0, 0, 0, 0.3));\n",
       "      fill: #FFFFFF;\n",
       "    }\n",
       "  </style>\n",
       "\n",
       "      <script>\n",
       "        const buttonEl =\n",
       "          document.querySelector('#df-d26a54cb-e2fa-4ff1-bfc1-6d5724a35e4b button.colab-df-convert');\n",
       "        buttonEl.style.display =\n",
       "          google.colab.kernel.accessAllowed ? 'block' : 'none';\n",
       "\n",
       "        async function convertToInteractive(key) {\n",
       "          const element = document.querySelector('#df-d26a54cb-e2fa-4ff1-bfc1-6d5724a35e4b');\n",
       "          const dataTable =\n",
       "            await google.colab.kernel.invokeFunction('convertToInteractive',\n",
       "                                                     [key], {});\n",
       "          if (!dataTable) return;\n",
       "\n",
       "          const docLinkHtml = 'Like what you see? Visit the ' +\n",
       "            '<a target=\"_blank\" href=https://colab.research.google.com/notebooks/data_table.ipynb>data table notebook</a>'\n",
       "            + ' to learn more about interactive tables.';\n",
       "          element.innerHTML = '';\n",
       "          dataTable['output_type'] = 'display_data';\n",
       "          await google.colab.output.renderOutput(dataTable, element);\n",
       "          const docLink = document.createElement('div');\n",
       "          docLink.innerHTML = docLinkHtml;\n",
       "          element.appendChild(docLink);\n",
       "        }\n",
       "      </script>\n",
       "    </div>\n",
       "  </div>\n",
       "  "
      ]
     },
     "metadata": {},
     "execution_count": 11
    }
   ]
  },
  {
   "cell_type": "code",
   "source": [
    "## Find Best model and options\n",
    "# Run findBestOptions()\n",
    "train_X, test_X, train_y, test_y = train_test_split(X, y, test_size=0.7, shuffle=True)"
   ],
   "metadata": {
    "id": "awBs8g3Oy7ML",
    "pycharm": {
     "name": "#%%\n"
    }
   },
   "execution_count": 12,
   "outputs": []
  },
  {
   "cell_type": "markdown",
   "source": [
    "# Modeling Functions"
   ],
   "metadata": {
    "id": "DDovNmCX58Sf",
    "pycharm": {
     "name": "#%% md\n"
    }
   }
  },
  {
   "cell_type": "code",
   "source": [
    "# TODO: generate scaled X using scalers\n",
    "# param scalers -> set: scalers to use (ex: [StandardScaler(), MinMaxScaler()])\n",
    "# param X -> pd.DataFrame: original dataset to be scaled\n",
    "# output: dict: scaled datasets\n",
    "def do_scaling(scalers, X):\n",
    "  scaled_X = {} # output value\n",
    "\n",
    "  for scaler in scalers: # do scaling for all scalers\n",
    "    scaled_X[scaler] = scaler.fit_transform(X.copy())\n",
    "  \n",
    "  return scaled_X"
   ],
   "metadata": {
    "id": "p5ik6sZY-klB",
    "pycharm": {
     "name": "#%%\n"
    }
   },
   "execution_count": 13,
   "outputs": []
  },
  {
   "cell_type": "code",
   "source": [
    "# TODO: hyperparameter tuning for decsion tree (with gini)\n",
    "# param scaler_dict -> dict: dictionary contains the scaler and scaled data used it\n",
    "# param y -> pd.DataFrame: target dataset\n",
    "# param cv -> set: CV integers\n",
    "# param params -> dict: parameters for hyperparameter tuning\n",
    "def decision_tree_gini(scaler_dict, y, cv, params):\n",
    "  # Model\n",
    "  dtc = DecisionTreeClassifier(random_state=1)\n",
    "\n",
    "  # output\n",
    "  return_list = []\n",
    "\n",
    "  # Do the same modeling for input scalers\n",
    "  for scaler, scaled_X in scaler_dict.items():\n",
    "    for i in cv: # various cv: from 2 to 10\n",
    "      gd_sr = GridSearchCV(estimator=dtc, param_grid=params, cv=i, n_jobs=-1)\n",
    "      gd_sr.fit(scaled_X, y)\n",
    "\n",
    "      # Push output value\n",
    "      temp_list = {\n",
    "          'score': gd_sr.best_score_,\n",
    "          'param': gd_sr.best_params_,\n",
    "          'scaler': scaler\n",
    "      }\n",
    "\n",
    "      # Add model\n",
    "      temp_model = DecisionTreeClassifier(criterion='gini',\n",
    "                                          splitter=gd_sr.best_params_['splitter'],\n",
    "                                          max_depth=gd_sr.best_params_['max_depth'],\n",
    "                                          min_samples_split=gd_sr.best_params_['min_samples_split'],\n",
    "                                          random_state=1)\n",
    "      temp_model.fit(scaled_X, y)\n",
    "      temp_list['model'] = temp_model\n",
    "      \n",
    "      return_list.append(['DecisionTreeClassifier(criterion=\\'gini\\')', temp_list])\n",
    "\n",
    "  return return_list"
   ],
   "metadata": {
    "id": "jKcFhSQiy7ck",
    "pycharm": {
     "name": "#%%\n"
    }
   },
   "execution_count": 14,
   "outputs": []
  },
  {
   "cell_type": "code",
   "source": [
    "# TODO: hyperparameter tuning for SVM(SVC)\n",
    "# param scaler_dict -> dict: dictionary contains the scaler and scaled data used it\n",
    "# param y -> pd.DataFrame: target dataset\n",
    "# param cv -> set: CV integers\n",
    "# param params -> dict: parameters for hyperparameter tuning\n",
    "def find_SVC(scaler_dict, y, cv, params):\n",
    "  # Model\n",
    "  svc = SVC(probability=True, random_state=100)\n",
    "\n",
    "  # Output\n",
    "  return_list = []\n",
    "\n",
    "  # Do the same modeling for input scalers\n",
    "  for scaler, scaled_X in scaler_dict.items():\n",
    "    for i in cv: # various cv: from 2 to 10\n",
    "      # Do gridsearch\n",
    "      gd_sr = GridSearchCV(estimator=svc, param_grid=params, cv=i, n_jobs=-1)\n",
    "      gd_sr.fit(scaled_X, y)\n",
    "\n",
    "      # Push output value\n",
    "      temp_list = {\n",
    "          'score': gd_sr.best_score_,\n",
    "          'param': gd_sr.best_params_,\n",
    "          'scaler': scaler\n",
    "      }\n",
    "\n",
    "      # Add model\n",
    "      temp_model = SVC(kernel=gd_sr.best_params_['kernel'],\n",
    "                       gamma=gd_sr.best_params_['gamma'],\n",
    "                       C=gd_sr.best_params_['C'],\n",
    "                       decision_function_shape=gd_sr.best_params_['decision_function_shape'],\n",
    "                       probability=True,\n",
    "                       random_state=100)\n",
    "      temp_model.fit(scaled_X, y)\n",
    "      temp_list['model'] = temp_model\n",
    "\n",
    "      return_list.append(['SVC', temp_list])\n",
    "\n",
    "  return return_list"
   ],
   "metadata": {
    "id": "mpLkqqcUZlXQ",
    "pycharm": {
     "name": "#%%\n"
    }
   },
   "execution_count": 15,
   "outputs": []
  },
  {
   "cell_type": "code",
   "source": [
    "# TODO: hyperparameter tuning for SVM(SVC)\n",
    "# param scaler_dict -> dict: dictionary contains the scaler and scaled data used it\n",
    "# param y -> pd.DataFrame: target dataset\n",
    "# param cv -> set: CV integers\n",
    "# param params -> dict: parameters for hyperparameter tuning\n",
    "def search_LogisticRegression(scaler_dict, y, cv, params):\n",
    "  # Model\n",
    "  lr = LogisticRegression(random_state=1)\n",
    "\n",
    "  # Output\n",
    "  return_list = []\n",
    "\n",
    "  # Do the same modeling for input scalers\n",
    "  for scaler, scaled_X in scaler_dict.items():\n",
    "    for i in cv: # various cv: from 2 to 10\n",
    "      # Do gridsearch\n",
    "      gd_sr = GridSearchCV(estimator=lr, param_grid=params, cv=i, n_jobs=-1)\n",
    "      gd_sr.fit(scaled_X, y)\n",
    "\n",
    "      # Push output value\n",
    "      temp_list = {\n",
    "          'score': gd_sr.best_score_,\n",
    "          'param': gd_sr.best_params_,\n",
    "          'scaler': scaler\n",
    "      }\n",
    "\n",
    "      # Add model\n",
    "      temp_model = LogisticRegression(solver=gd_sr.best_params_['solver'],\n",
    "                       random_state=1,\n",
    "                       penalty=gd_sr.best_params_['penalty'],\n",
    "                       C=gd_sr.best_params_['C'])\n",
    "      temp_model.fit(scaled_X, y)\n",
    "      temp_list['model'] = temp_model\n",
    "\n",
    "      return_list.append(['LogisticRegression', temp_list])\n",
    "\n",
    "  return return_list"
   ],
   "metadata": {
    "id": "FaAbIUmy8GCA",
    "pycharm": {
     "name": "#%%\n"
    }
   },
   "execution_count": 16,
   "outputs": []
  },
  {
   "cell_type": "code",
   "source": [
    "def find_Scale_Model(X, y):\n",
    "  DecisionTreeClassifier_criterion=[\"gini\",\"entropy\"]\n",
    "\n",
    "  # Expected foramt = [Model name, Dictionary]\n",
    "  # Dictionary format = {\n",
    "  # score = best_score\n",
    "  # param = best_params\n",
    "  # model = model generated by best params\n",
    "  # scaler = scaler used   \n",
    "  # }\n",
    "  result_list = []\n",
    "\n",
    "  # *** Parameter descriptions ***\n",
    "  # C : Controls tradeoff detween smooth decision boundary and classfying training points correctly. So, C adjusts the margin. Smaller C allows more, larger C allows less\n",
    "  #\n",
    "  # Gamma: Defines how far the influence of a single training point reaches\n",
    "  # reach can think of reach as the range of data that affects the curvature of the decision boudary. If the gamma is small, it means the reach is far, and if the gamma is large, the reach is narrow.\n",
    "  # decision_function_shape : decision_function_shape : Whether to return a one-vs-rest (‘ovr’) decision function of shape as all other classifiers, or the original one-vs-one (‘ovo’) decision function.\n",
    "  #\n",
    "  # random_state : Controls the pseudo random number generation for shuffling the data for probability estimates. \n",
    "  # probability : gives per-class scores for each sample\n",
    "  #\n",
    "  # https://bkshin.tistory.com/entry/%EB%A8%B8%EC%8B%A0%EB%9F%AC%EB%8B%9D-3%EC%84%9C%ED%8F%AC%ED%8A%B8-%EB%B2%A1%ED%84%B0-%EB%A8%B8%EC%8B%A0-SVM-%EC%8B%A4%EC%8A%B5?category=1057680\n",
    "  # https://scikit-learn.org/stable/modules/generated/sklearn.svm.SVC.html\n",
    "\n",
    "  params = {\n",
    "      'DTC_Gini': {\n",
    "          'criterion':['gini'],\n",
    "          'splitter':['best','random'],\n",
    "          'max_depth':[2,3,4,5,6,7,8],\n",
    "          'min_samples_split':[2,3,4,5]\n",
    "      },\n",
    "      'SVC': {\n",
    "          'kernel': [\"rbf\", \"poly\", \"sigmoid\", \"linear\"],\n",
    "          'gamma': [1e-3, 1e-2, 1e-1, 1, 1e+1],\n",
    "          'C': [1, 5, 10, 50, 100],\n",
    "          'decision_function_shape': [\"ovr\", \"ovo\"]\n",
    "      },\n",
    "      'LR': {\n",
    "          'solver': [\"lbfgs\", \"newton-cg\", \"liblinear\", \"sag\", \"saga\"],\n",
    "          \"penalty\": [\"l2\"],\n",
    "          'C': [1e-4, 1e-3, 1e-2, 1e-1, 1e0, 1e1, 1e2, 1e3, 1e4]\n",
    "      }\n",
    "  }\n",
    "\n",
    "  # CV values\n",
    "  cv_k = set(range(2,11))\n",
    "\n",
    "  # Scalers using\n",
    "  scalers = [StandardScaler(), RobustScaler(), MinMaxScaler(), MaxAbsScaler()]\n",
    "\n",
    "  # Do scaling\n",
    "  scaled_dict = do_scaling(scalers, X)\n",
    "\n",
    "  # Decision Tree with gin\n",
    "  result_list += decision_tree_gini(scaled_dict, y, cv_k, params['DTC_Gini'])\n",
    "\n",
    "  # SVC\n",
    "  result_list += find_SVC(scaled_dict, y, cv_k, params['SVC'])\n",
    "\n",
    "  # LogisticRegression\n",
    "  result_list += search_LogisticRegression(scaled_dict, y, cv_k, params['LR'])\n",
    "\n",
    "  # Sort list descending order to elements score\n",
    "  result_list.sort(key = lambda i : i[1]['score'], reverse=True)\n",
    "\n",
    "  return result_list"
   ],
   "metadata": {
    "id": "UMYt1gqPmbvP",
    "pycharm": {
     "name": "#%%\n"
    }
   },
   "execution_count": 17,
   "outputs": []
  },
  {
   "cell_type": "markdown",
   "source": [
    "# Modeling"
   ],
   "metadata": {
    "id": "P8hRlg346k7Z",
    "pycharm": {
     "name": "#%% md\n"
    }
   }
  },
  {
   "cell_type": "code",
   "source": [
    "result = find_Scale_Model(train_X, train_y)"
   ],
   "metadata": {
    "colab": {
     "base_uri": "https://localhost:8080/"
    },
    "id": "OOIE9Yor1vck",
    "outputId": "f0eeb867-69d8-4512-9748-92c24b619a0f",
    "pycharm": {
     "name": "#%%\n"
    }
   },
   "execution_count": 18,
   "outputs": [
    {
     "output_type": "stream",
     "name": "stderr",
     "text": [
      "/usr/local/lib/python3.7/dist-packages/sklearn/linear_model/_sag.py:354: ConvergenceWarning: The max_iter was reached which means the coef_ did not converge\n",
      "  ConvergenceWarning,\n",
      "/usr/local/lib/python3.7/dist-packages/sklearn/linear_model/_sag.py:354: ConvergenceWarning: The max_iter was reached which means the coef_ did not converge\n",
      "  ConvergenceWarning,\n",
      "/usr/local/lib/python3.7/dist-packages/sklearn/linear_model/_sag.py:354: ConvergenceWarning: The max_iter was reached which means the coef_ did not converge\n",
      "  ConvergenceWarning,\n",
      "/usr/local/lib/python3.7/dist-packages/sklearn/linear_model/_sag.py:354: ConvergenceWarning: The max_iter was reached which means the coef_ did not converge\n",
      "  ConvergenceWarning,\n",
      "/usr/local/lib/python3.7/dist-packages/sklearn/linear_model/_sag.py:354: ConvergenceWarning: The max_iter was reached which means the coef_ did not converge\n",
      "  ConvergenceWarning,\n",
      "/usr/local/lib/python3.7/dist-packages/sklearn/linear_model/_sag.py:354: ConvergenceWarning: The max_iter was reached which means the coef_ did not converge\n",
      "  ConvergenceWarning,\n",
      "/usr/local/lib/python3.7/dist-packages/sklearn/linear_model/_sag.py:354: ConvergenceWarning: The max_iter was reached which means the coef_ did not converge\n",
      "  ConvergenceWarning,\n",
      "/usr/local/lib/python3.7/dist-packages/sklearn/linear_model/_sag.py:354: ConvergenceWarning: The max_iter was reached which means the coef_ did not converge\n",
      "  ConvergenceWarning,\n",
      "/usr/local/lib/python3.7/dist-packages/sklearn/linear_model/_sag.py:354: ConvergenceWarning: The max_iter was reached which means the coef_ did not converge\n",
      "  ConvergenceWarning,\n",
      "/usr/local/lib/python3.7/dist-packages/sklearn/linear_model/_sag.py:354: ConvergenceWarning: The max_iter was reached which means the coef_ did not converge\n",
      "  ConvergenceWarning,\n",
      "/usr/local/lib/python3.7/dist-packages/sklearn/linear_model/_sag.py:354: ConvergenceWarning: The max_iter was reached which means the coef_ did not converge\n",
      "  ConvergenceWarning,\n",
      "/usr/local/lib/python3.7/dist-packages/sklearn/linear_model/_sag.py:354: ConvergenceWarning: The max_iter was reached which means the coef_ did not converge\n",
      "  ConvergenceWarning,\n",
      "/usr/local/lib/python3.7/dist-packages/sklearn/linear_model/_sag.py:354: ConvergenceWarning: The max_iter was reached which means the coef_ did not converge\n",
      "  ConvergenceWarning,\n",
      "/usr/local/lib/python3.7/dist-packages/sklearn/linear_model/_sag.py:354: ConvergenceWarning: The max_iter was reached which means the coef_ did not converge\n",
      "  ConvergenceWarning,\n",
      "/usr/local/lib/python3.7/dist-packages/sklearn/linear_model/_sag.py:354: ConvergenceWarning: The max_iter was reached which means the coef_ did not converge\n",
      "  ConvergenceWarning,\n",
      "/usr/local/lib/python3.7/dist-packages/sklearn/linear_model/_sag.py:354: ConvergenceWarning: The max_iter was reached which means the coef_ did not converge\n",
      "  ConvergenceWarning,\n",
      "/usr/local/lib/python3.7/dist-packages/sklearn/linear_model/_sag.py:354: ConvergenceWarning: The max_iter was reached which means the coef_ did not converge\n",
      "  ConvergenceWarning,\n",
      "/usr/local/lib/python3.7/dist-packages/sklearn/linear_model/_sag.py:354: ConvergenceWarning: The max_iter was reached which means the coef_ did not converge\n",
      "  ConvergenceWarning,\n",
      "/usr/local/lib/python3.7/dist-packages/sklearn/linear_model/_sag.py:354: ConvergenceWarning: The max_iter was reached which means the coef_ did not converge\n",
      "  ConvergenceWarning,\n",
      "/usr/local/lib/python3.7/dist-packages/sklearn/linear_model/_sag.py:354: ConvergenceWarning: The max_iter was reached which means the coef_ did not converge\n",
      "  ConvergenceWarning,\n",
      "/usr/local/lib/python3.7/dist-packages/sklearn/linear_model/_sag.py:354: ConvergenceWarning: The max_iter was reached which means the coef_ did not converge\n",
      "  ConvergenceWarning,\n",
      "/usr/local/lib/python3.7/dist-packages/sklearn/linear_model/_sag.py:354: ConvergenceWarning: The max_iter was reached which means the coef_ did not converge\n",
      "  ConvergenceWarning,\n",
      "/usr/local/lib/python3.7/dist-packages/sklearn/linear_model/_sag.py:354: ConvergenceWarning: The max_iter was reached which means the coef_ did not converge\n",
      "  ConvergenceWarning,\n",
      "/usr/local/lib/python3.7/dist-packages/sklearn/linear_model/_sag.py:354: ConvergenceWarning: The max_iter was reached which means the coef_ did not converge\n",
      "  ConvergenceWarning,\n"
     ]
    }
   ]
  },
  {
   "cell_type": "code",
   "source": [
    "for i in range(5):\n",
    "  print(result[i])"
   ],
   "metadata": {
    "colab": {
     "base_uri": "https://localhost:8080/"
    },
    "id": "_fmOH8hd3_lh",
    "outputId": "3ef36d71-3ac3-4de1-e951-a423a3c4c43f",
    "pycharm": {
     "name": "#%%\n"
    }
   },
   "execution_count": 19,
   "outputs": [
    {
     "output_type": "stream",
     "name": "stdout",
     "text": [
      "['SVC', {'score': 0.990311986863711, 'param': {'C': 5, 'decision_function_shape': 'ovr', 'gamma': 1, 'kernel': 'rbf'}, 'scaler': MaxAbsScaler(), 'model': SVC(C=5, gamma=1, probability=True, random_state=100)}]\n",
      "['SVC', {'score': 0.9902380952380951, 'param': {'C': 5, 'decision_function_shape': 'ovr', 'gamma': 1, 'kernel': 'rbf'}, 'scaler': MinMaxScaler(), 'model': SVC(C=5, gamma=1, probability=True, random_state=100)}]\n",
      "['SVC', {'score': 0.9902380952380951, 'param': {'C': 5, 'decision_function_shape': 'ovr', 'gamma': 1, 'kernel': 'rbf'}, 'scaler': MaxAbsScaler(), 'model': SVC(C=5, gamma=1, probability=True, random_state=100)}]\n",
      "['SVC', {'score': 0.9901219512195121, 'param': {'C': 10, 'decision_function_shape': 'ovr', 'gamma': 0.1, 'kernel': 'sigmoid'}, 'scaler': StandardScaler(), 'model': SVC(C=10, gamma=0.1, kernel='sigmoid', probability=True, random_state=100)}]\n",
      "['SVC', {'score': 0.9901219512195121, 'param': {'C': 5, 'decision_function_shape': 'ovr', 'gamma': 1, 'kernel': 'rbf'}, 'scaler': MinMaxScaler(), 'model': SVC(C=5, gamma=1, probability=True, random_state=100)}]\n"
     ]
    }
   ]
  },
  {
   "cell_type": "code",
   "source": [
    "scaled_X = result[0][1]['scaler'].fit_transform(X.copy())\n",
    "train_X, test_X, train_y, test_y = train_test_split(scaled_X, y, test_size=0.7, shuffle=True)\n",
    "model = result[0][1]['model'].fit(train_X, train_y)\n",
    "print(\"Model score: \", end=\"\")\n",
    "print(model.score(test_X, test_y))"
   ],
   "metadata": {
    "colab": {
     "base_uri": "https://localhost:8080/"
    },
    "id": "ex6OZzZg4f6S",
    "outputId": "98088601-a29e-4260-ffac-1c53436cb6ef",
    "pycharm": {
     "name": "#%%\n"
    }
   },
   "execution_count": 20,
   "outputs": [
    {
     "output_type": "stream",
     "name": "stdout",
     "text": [
      "Model score: 0.964509394572025\n"
     ]
    }
   ]
  }
 ]
}